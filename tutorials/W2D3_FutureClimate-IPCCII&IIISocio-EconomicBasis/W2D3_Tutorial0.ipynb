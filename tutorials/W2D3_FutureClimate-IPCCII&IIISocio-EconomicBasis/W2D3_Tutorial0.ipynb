{
 "cells": [
  {
   "cell_type": "markdown",
   "id": "25d9555a-5485-42c3-81cf-4851396a643f",
   "metadata": {},
   "source": [
    "[![Open In Colab](https://colab.research.google.com/assets/colab-badge.svg)](https://colab.research.google.com/github/neuromatch/climate-course-content/blob/main/tutorials/W2D3_FutureClimate-IPCCII&IIISocio-EconomicBasis/W2D3_Tutorial1.ipynb) &nbsp; <a href=\"https://kaggle.com/kernels/welcome?src=https://raw.githubusercontent.com/neuromatch/climate-course-content/main/tutorials/W2D3_FutureClimate-IPCCII&IIISocio-EconomicBasis/W2D3_Tutorial1.ipynb\" target=\"_parent\"><img src=\"https://kaggle.com/static/images/open-in-kaggle.svg\" alt=\"Open in Kaggle\"/></a>\n",
    "TODO"
   ]
  },
  {
   "cell_type": "markdown",
   "id": "1872759b-c9e3-4d4e-a3cf-30813840b049",
   "metadata": {},
   "source": [
    "# Tutorial 0: A Climate Solution Simulator\n",
    "**Week 2, Day 3: The Socioeconomics of Climate Change**\n",
    "\n",
    "**Content creators:** Maximilian Puelma Touzel\n",
    "\n",
    "**Content reviewers:**  Younkap Nina Duplex, Sloane Garelick, Paul Heubel, Zahra Khodakaramimaghsoud, Peter Ohue, Laura Paccini,  Jenna Pearson, Agustina Pesce, Derick Temfack, Peizhen Yang, Cheng Zhang, Chi Zhang, Ohad Zivan\n",
    "\n",
    "**Content editors:** Paul Heubel, Jenna Pearson, Chi Zhang, Ohad Zivan\n",
    "\n",
    "**Production editors:** Wesley Banfield, Paul Heubel, Jenna Pearson, Chi Zhang, Ohad Zivan\n",
    "\n",
    "**Our 2024 Sponsors:** CMIP, NFDI4Earth"
   ]
  },
  {
   "cell_type": "markdown",
   "id": "a2d2b006-8493-451b-a75e-797d902a0fcd",
   "metadata": {},
   "source": [
    "### Tutorial objectives\n",
    "\n",
    "- To discuss"
   ]
  },
  {
   "cell_type": "code",
   "execution_count": null,
   "id": "368d0c90-ae7e-43d9-ada7-ad42c75f5f95",
   "metadata": {},
   "outputs": [],
   "source": [
    "# import\n",
    "import matplotlib.pyplot as plt"
   ]
  },
  {
   "cell_type": "code",
   "execution_count": null,
   "id": "6db786f8-e5c4-42a9-9837-e41027b9ad4d",
   "metadata": {},
   "outputs": [],
   "source": [
    "# @title Figure settings\n",
    "import ipywidgets as widgets  # interactive display\n",
    "\n",
    "%config InlineBackend.figure_format = 'retina'\n",
    "plt.style.use(\n",
    "    \"https://raw.githubusercontent.com/neuromatch/climate-course-content/main/cma.mplstyle\"\n",
    ")\n",
    "# last years style input by Max\n",
    "\n",
    "#sns.set_style(\"ticks\", {\"axes.grid\": False})\n",
    "#%matplotlib inline\n",
    "#display(HTML(\"<style>.container { width:100% !important; }</style>\"))\n",
    "#params = {\"lines.linewidth\": \"3\"}\n",
    "#plt.rcParams.update(params)"
   ]
  },
  {
   "cell_type": "code",
   "execution_count": null,
   "id": "e11e3bbb-ce8f-4404-8d04-b6f86d4a9ea9",
   "metadata": {},
   "outputs": [],
   "source": [
    "# @title Helper functions\n",
    "\n",
    "def pooch_load(filelocation=None, filename=None, processor=None):\n",
    "    shared_location = \"/home/jovyan/shared/Data/tutorials/W2D3_FutureClimate-IPCCII&IIISocio-EconomicBasis\"  # this is different for each day\n",
    "    user_temp_cache = tempfile.gettempdir()\n",
    "\n",
    "    if os.path.exists(os.path.join(shared_location, filename)):\n",
    "        file = os.path.join(shared_location, filename)\n",
    "    else:\n",
    "        file = pooch.retrieve(\n",
    "            filelocation,\n",
    "            known_hash=None,\n",
    "            fname=os.path.join(user_temp_cache, filename),\n",
    "            processor=processor,\n",
    "        )\n",
    "\n",
    "    return file"
   ]
  },
  {
   "cell_type": "code",
   "execution_count": null,
   "id": "9c6b2260-bdb0-4d7b-a07d-41551d5ccf92",
   "metadata": {},
   "outputs": [],
   "source": [
    "# @title Video 1: En-ROADS Climate Solutions Simulator - Overview and Introduction\n",
    "\n",
    "from ipywidgets import widgets\n",
    "from IPython.display import YouTubeVideo\n",
    "from IPython.display import IFrame\n",
    "from IPython.display import display\n",
    "\n",
    "\n",
    "class PlayVideo(IFrame):\n",
    "  def __init__(self, id, source, page=1, width=400, height=300, **kwargs):\n",
    "    self.id = id\n",
    "    if source == 'Bilibili':\n",
    "      src = f'https://player.bilibili.com/player.html?bvid={id}&page={page}'\n",
    "    elif source == 'Osf':\n",
    "      src = f'https://mfr.ca-1.osf.io/render?url=https://osf.io/download/{id}/?direct%26mode=render'\n",
    "    super(PlayVideo, self).__init__(src, width, height, **kwargs)\n",
    "\n",
    "\n",
    "def display_videos(video_ids, W=400, H=300, fs=1):\n",
    "  tab_contents = []\n",
    "  for i, video_id in enumerate(video_ids):\n",
    "    out = widgets.Output()\n",
    "    with out:\n",
    "      if video_ids[i][0] == 'Youtube':\n",
    "        video = YouTubeVideo(id=video_ids[i][1], width=W,\n",
    "                             height=H, fs=fs, rel=0)\n",
    "        print(f'Video available at https://youtube.com/watch?v={video.id}')\n",
    "      else:\n",
    "        video = PlayVideo(id=video_ids[i][1], source=video_ids[i][0], width=W,\n",
    "                          height=H, fs=fs, autoplay=False)\n",
    "        if video_ids[i][0] == 'Bilibili':\n",
    "          print(f'Video available at https://www.bilibili.com/video/{video.id}')\n",
    "        elif video_ids[i][0] == 'Osf':\n",
    "          print(f'Video available at https://osf.io/{video.id}')\n",
    "      display(video)\n",
    "    tab_contents.append(out)\n",
    "  return tab_contents\n",
    "\n",
    "\n",
    "video_ids = [('Youtube', '9ytkpO_pbWE')\n",
    "            # , ('Bilibili', 'BV1bj411Z739')\n",
    "            ]\n",
    "tab_contents = display_videos(video_ids, W=730, H=410)\n",
    "tabs = widgets.Tab()\n",
    "tabs.children = tab_contents\n",
    "for i in range(len(tab_contents)):\n",
    "  tabs.set_title(i, video_ids[i][0])\n",
    "display(tabs)\n"
   ]
  },
  {
   "cell_type": "markdown",
   "id": "09c3ed42-9c28-4ca0-a718-e9c672d54942",
   "metadata": {},
   "source": [
    "**TODO**\n",
    "\n",
    "- add Bilibili link"
   ]
  },
  {
   "cell_type": "markdown",
   "id": "1ef1b0f0-729e-417e-8e1f-c3145394227c",
   "metadata": {},
   "source": []
  },
  {
   "cell_type": "markdown",
   "id": "1fecca6d-4225-419d-8e3e-646a0594582c",
   "metadata": {},
   "source": [
    "### Notes on En-Roads Climate Guided Assignment\n",
    "Resource: [Simulating Climate Futures in En-ROADS: Short Version](https://www.climateinteractive.org/guided-assignment/)\n",
    "\n",
    "\n",
    "**Challenge/ Objective**:\n",
    "Create a scenario that can mitigate global warming to the internationally agreed target of well below 2°C, and ideally 1.5°C by 2100.\n",
    "\n",
    "Instruction:\n",
    "\n",
    "1. Open En-ROADS [here]( https://en-roads.climateinteractive.org/). \n",
    "\n",
    "2. "
   ]
  },
  {
   "cell_type": "markdown",
   "id": "57265af6-b3ab-41e4-82a1-6c4b63a0c321",
   "metadata": {},
   "source": [
    "# Section 1: Exploration of a Climate Solution Simulator"
   ]
  },
  {
   "cell_type": "markdown",
   "id": "718606a5-1239-414b-84fc-f9c0a18924d6",
   "metadata": {},
   "source": [
    "### Exercise 1: (10 minutes)\n",
    "Can you limit human-caused global warming to \"well-below 2ºC\"?\n",
    "Explore the En-ROADS Climate Solution Simulator and find a scenario that limits global warming by the end of the century with a maximum increase of 2°C. Find any possible scenario by turning the knobs, do not restrict yourself by feasibility considerations.\n",
    "\n",
    "Use the following resource if necessary but feel free to play around. Have fun!"
   ]
  },
  {
   "cell_type": "code",
   "execution_count": null,
   "id": "05df13b5-14ce-4515-aaae-7cc9e3765445",
   "metadata": {},
   "outputs": [],
   "source": [
    "# @markdown\n",
    "from ipywidgets import widgets\n",
    "from IPython.display import IFrame\n",
    "\n",
    "#link_id = \"gwr8h\"\n",
    "\n",
    "download_link = f\"https://img.climateinteractive.org/2019/09/EnROADS-one-page-guide-to-control-panel-v11-dec-2021.pdf\"\n",
    "render_link = f\"https://img.climateinteractive.org/2019/09/EnROADS-one-page-guide-to-control-panel-v11-dec-2021.pdf\"\n",
    "# @markdown\n",
    "out = widgets.Output()\n",
    "with out:\n",
    "    print(f\"If you want to download a cheatsheet for the En-ROADS Control Panel:\\n{download_link}\")\n",
    "    display(IFrame(src=f\"{render_link}\", width=730, height=410))\n",
    "display(out)"
   ]
  },
  {
   "cell_type": "markdown",
   "id": "1f5a0c7f-8fd3-4c89-b25d-8070ef2fdd4b",
   "metadata": {},
   "source": []
  }
 ],
 "metadata": {
  "kernelspec": {
   "display_name": "Python 3 (ipykernel)",
   "language": "python",
   "name": "python3"
  },
  "language_info": {
   "codemirror_mode": {
    "name": "ipython",
    "version": 3
   },
   "file_extension": ".py",
   "mimetype": "text/x-python",
   "name": "python",
   "nbconvert_exporter": "python",
   "pygments_lexer": "ipython3",
   "version": "3.9.18"
  }
 },
 "nbformat": 4,
 "nbformat_minor": 5
}
