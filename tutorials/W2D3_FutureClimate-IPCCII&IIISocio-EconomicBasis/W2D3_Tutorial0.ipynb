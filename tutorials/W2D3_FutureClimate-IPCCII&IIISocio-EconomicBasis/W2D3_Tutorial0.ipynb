{
 "cells": [
  {
   "cell_type": "markdown",
   "id": "25d9555a-5485-42c3-81cf-4851396a643f",
   "metadata": {},
   "source": [
    "[![Open In Colab](https://colab.research.google.com/assets/colab-badge.svg)](https://colab.research.google.com/github/neuromatch/climate-course-content/blob/main/tutorials/W2D3_FutureClimate-IPCCII&IIISocio-EconomicBasis/W2D3_Tutorial1.ipynb) &nbsp; <a href=\"https://kaggle.com/kernels/welcome?src=https://raw.githubusercontent.com/neuromatch/climate-course-content/main/tutorials/W2D3_FutureClimate-IPCCII&IIISocio-EconomicBasis/W2D3_Tutorial1.ipynb\" target=\"_parent\"><img src=\"https://kaggle.com/static/images/open-in-kaggle.svg\" alt=\"Open in Kaggle\"/></a>\n",
    "TODO"
   ]
  },
  {
   "cell_type": "markdown",
   "id": "1872759b-c9e3-4d4e-a3cf-30813840b049",
   "metadata": {},
   "source": [
    "# Tutorial 0: Orienting inside a \"Climate Solution\" Simulator\n",
    "**Week 2, Day 3: The Socioeconomics of Climate Change**\n",
    "\n",
    "**Content creators:** Maximilian Puelma Touzel, Paul Heubel\n",
    "\n",
    "**Content reviewers:**  Younkap Nina Duplex, Sloane Garelick, Paul Heubel, Zahra Khodakaramimaghsoud, Peter Ohue, Laura Paccini,  Jenna Pearson, Agustina Pesce, Derick Temfack, Peizhen Yang, Cheng Zhang, Chi Zhang, Ohad Zivan\n",
    "\n",
    "**Content editors:** Paul Heubel, Jenna Pearson, Chi Zhang, Ohad Zivan\n",
    "\n",
    "**Production editors:** Wesley Banfield, Paul Heubel, Jenna Pearson, Konstantine Tsafatinos, Chi Zhang, Ohad Zivan\n",
    "\n",
    "**Our 2024 Sponsors:** CMIP, NFDI4Earth"
   ]
  },
  {
   "cell_type": "markdown",
   "id": "a2d2b006-8493-451b-a75e-797d902a0fcd",
   "metadata": {},
   "source": [
    "# Tutorial objectives\n",
    "\n",
    "*Estimated timing of tutorial:* 50 minutes\n",
    "\n",
    "During the first week of the course, you learned about types of climate data from measurements, proxies, and models, and computational tools for assessing past, present, and future climate variability recorded by this data. During day one of this week (W2D1), you began to explore climate model data from Earth System Models (ESMs) simulations conducted for the recent Climate Model Intercomparison Project (CMIP6) that are presented in the report from the Intergovernmental Panel on Climate Changes ([IPCC](https://www.ipcc.ch/)). However, the dominant source of uncertainty in those projections arises from how human society responds: e.g. how our emissions reduction and renewable energy technologies develop, how coherent our global politics are, how our consumption grows, etc. For these reasons, in addition to understanding the physical basis of the climate variations projected by these models, it's also important to assess the current and future socioeconomic impact of climate change and what aspects of human activity are driving emissions. This day's tutorials focus on the socioeconomic projections regarding the future of climate change and are centered around the Shared Socioeconomic Pathways (SSP) framework used by the IPCC.\n",
    "\n",
    "In this first tutorial, you will see how society can be represented by interrelated socio-economic variables and their projections for the future. In the bulk of the tutorial, you will use the `En-ROADS` toy model to get some intuition about what 'control knobs' of society and economy can be modeled and how they can affect emission scenarios.\n",
    "\n",
    "In this tutorial, you will:\n",
    "- Get familiar with the interface of the world model named En-ROADS\n",
    "- Explore the impact of different growth variables on the temperature increase by 2100 projected from the En-ROADS model.\n",
    "- Understand why it is necessary to implement various actions against climate change, not a single one.\n",
    "- Explore the assumptions and limitations of this model\n",
    "- "
   ]
  },
  {
   "cell_type": "markdown",
   "id": "64a33438-bc94-42bc-a13b-e0fa79eae81c",
   "metadata": {},
   "source": [
    "### Notes for Intro\n",
    "TODO This tutorial will provide insights into the pressing socioeconomic issues related to climate change, such as resource scarcity, population dynamics, and the potential impacts of unchecked resource extraction.TODO In particular, you will see some socioeconomic projections of the Integrated Assessment Modelling (IAM) used by the IPCC and the influence of shared socio-economic pathways on these projections. \n",
    "\n",
    "in the 1970s to analyze potential economic and population scenarios. You will use it to learn about nonlinear, coupled dynamics of various aggregated world system variables and how this model informs modern day climate challenges."
   ]
  },
  {
   "cell_type": "code",
   "execution_count": null,
   "id": "368d0c90-ae7e-43d9-ada7-ad42c75f5f95",
   "metadata": {},
   "outputs": [],
   "source": [
    "# import\n",
    "import matplotlib.pyplot as plt"
   ]
  },
  {
   "cell_type": "code",
   "execution_count": null,
   "id": "6db786f8-e5c4-42a9-9837-e41027b9ad4d",
   "metadata": {},
   "outputs": [],
   "source": [
    "# @title Figure settings\n",
    "import ipywidgets as widgets  # interactive display\n",
    "\n",
    "%config InlineBackend.figure_format = 'retina'\n",
    "plt.style.use(\n",
    "    \"https://raw.githubusercontent.com/neuromatch/climate-course-content/main/cma.mplstyle\"\n",
    ")"
   ]
  },
  {
   "cell_type": "code",
   "execution_count": null,
   "id": "e11e3bbb-ce8f-4404-8d04-b6f86d4a9ea9",
   "metadata": {},
   "outputs": [],
   "source": [
    "# @title Helper functions\n",
    "\n",
    "def pooch_load(filelocation=None, filename=None, processor=None):\n",
    "    shared_location = \"/home/jovyan/shared/Data/tutorials/W2D3_FutureClimate-IPCCII&IIISocio-EconomicBasis\"  # this is different for each day\n",
    "    user_temp_cache = tempfile.gettempdir()\n",
    "\n",
    "    if os.path.exists(os.path.join(shared_location, filename)):\n",
    "        file = os.path.join(shared_location, filename)\n",
    "    else:\n",
    "        file = pooch.retrieve(\n",
    "            filelocation,\n",
    "            known_hash=None,\n",
    "            fname=os.path.join(user_temp_cache, filename),\n",
    "            processor=processor,\n",
    "        )\n",
    "\n",
    "    return file"
   ]
  },
  {
   "cell_type": "markdown",
   "id": "09c3ed42-9c28-4ca0-a718-e9c672d54942",
   "metadata": {},
   "source": [
    "**TODO**\n",
    "\n",
    "- add Bilibili link"
   ]
  },
  {
   "cell_type": "markdown",
   "id": "9739f03d-045a-4b7e-8a0e-4d7c46039192",
   "metadata": {},
   "source": [
    "**TODO**\n",
    "- add Max Intro video"
   ]
  },
  {
   "cell_type": "markdown",
   "id": "1fecca6d-4225-419d-8e3e-646a0594582c",
   "metadata": {},
   "source": [
    "### Notes on En-Roads Climate Guided Assignment\n",
    "Resource: [Simulating Climate Futures in En-ROADS: Short Version](https://www.climateinteractive.org/guided-assignment/)\n",
    "\n",
    "\n",
    "**Challenge/ Objective**:\n",
    "Create a scenario that can mitigate global warming to the internationally agreed target of well below 2°C, and ideally 1.5°C by 2100.\n",
    "\n",
    "Instruction:\n",
    "\n"
   ]
  },
  {
   "cell_type": "markdown",
   "id": "57265af6-b3ab-41e4-82a1-6c4b63a0c321",
   "metadata": {},
   "source": [
    "# Section 1: Exploration of a Climate Solution Simulator"
   ]
  },
  {
   "cell_type": "markdown",
   "id": "042a83d3-2e94-4092-a289-2430d349966c",
   "metadata": {},
   "source": [
    "The following introductory video gives a quick overview of the En-ROADS simulator, a simple climate model (SCM),  developed by [Climate-Interactive](https://www.climateinteractive.org/) for teaching purposes. It is used in policy workshops, role-plays, and other activities to explore the possibilities and obstacles of scenarios and human solutions to climate change.\n",
    "\n",
    "We will apply it to introduce the modeling of societal and economic mechanisms in combination with climatic variables, the so-called socio-economic models. We examine its 'control knobs', limitations, and assumptions and compare them with those of Integrated Assessment Models (IAMs) which are state-of-the-art models for projecting scenarios."
   ]
  },
  {
   "cell_type": "code",
   "execution_count": null,
   "id": "9c6b2260-bdb0-4d7b-a07d-41551d5ccf92",
   "metadata": {},
   "outputs": [],
   "source": [
    "# @title Video 1: Overview of the En-ROADS Climate Solutions Simulator\n",
    "\n",
    "from ipywidgets import widgets\n",
    "from IPython.display import YouTubeVideo\n",
    "from IPython.display import IFrame\n",
    "from IPython.display import display\n",
    "\n",
    "\n",
    "class PlayVideo(IFrame):\n",
    "  def __init__(self, id, source, page=1, width=400, height=300, **kwargs):\n",
    "    self.id = id\n",
    "    if source == 'Bilibili':\n",
    "      src = f'https://player.bilibili.com/player.html?bvid={id}&page={page}'\n",
    "    elif source == 'Osf':\n",
    "      src = f'https://mfr.ca-1.osf.io/render?url=https://osf.io/download/{id}/?direct%26mode=render'\n",
    "    super(PlayVideo, self).__init__(src, width, height, **kwargs)\n",
    "\n",
    "\n",
    "def display_videos(video_ids, W=400, H=300, fs=1):\n",
    "  tab_contents = []\n",
    "  for i, video_id in enumerate(video_ids):\n",
    "    out = widgets.Output()\n",
    "    with out:\n",
    "      if video_ids[i][0] == 'Youtube':\n",
    "        video = YouTubeVideo(id=video_ids[i][1], width=W,\n",
    "                             height=H, fs=fs, rel=0)\n",
    "        print(f'Video available at https://youtube.com/watch?v={video.id}')\n",
    "      else:\n",
    "        video = PlayVideo(id=video_ids[i][1], source=video_ids[i][0], width=W,\n",
    "                          height=H, fs=fs, autoplay=False)\n",
    "        if video_ids[i][0] == 'Bilibili':\n",
    "          print(f'Video available at https://www.bilibili.com/video/{video.id}')\n",
    "        elif video_ids[i][0] == 'Osf':\n",
    "          print(f'Video available at https://osf.io/{video.id}')\n",
    "      display(video)\n",
    "    tab_contents.append(out)\n",
    "  return tab_contents\n",
    "\n",
    "\n",
    "video_ids = [('Youtube', 'Py_qIgcZxKg')\n",
    "            # , ('Bilibili', 'BV1bj411Z739')\n",
    "            ]\n",
    "tab_contents = display_videos(video_ids, W=730, H=410)\n",
    "tabs = widgets.Tab()\n",
    "tabs.children = tab_contents\n",
    "for i in range(len(tab_contents)):\n",
    "  tabs.set_title(i, video_ids[i][0])\n",
    "display(tabs)\n"
   ]
  },
  {
   "cell_type": "markdown",
   "id": "718606a5-1239-414b-84fc-f9c0a18924d6",
   "metadata": {},
   "source": [
    "### Exercise 1: Can you limit human-caused global warming to \"well-below 2ºC\"?\n",
    "*Estimated timing of Exercise 1:* (10 minutes)\n",
    "\n",
    "\n",
    "We jump right in with a playful exercise.\n",
    "\n",
    "Explore the En-ROADS Climate Solution Simulator and find a scenario that limits global warming by the end of the century with a maximum increase of 2°C. Find any possible scenario by turning the knobs, do not restrict yourself by feasibility considerations. Later on, we are going to discuss the latter in more detail.\n",
    "\n",
    "1. Open En-ROADS [here](https://en-roads.climateinteractive.org/). \n",
    "\n",
    "2. Use the sliders to turn the 'control knobs'.\n",
    "\n",
    "3. Try to limit the temperature increase by 2°C.\n",
    "\n",
    "4. List the changes of a successful strategy or describe the difficulties that might arise. Don't worry if you don't find a solution immediately, it is not that easy.\n",
    "\n",
    "Use the following resource (cheatsheet) if necessary but feel free to play around. Have fun!\n",
    "\n",
    "*Note that you also find translations of the control panel in various languages in the top left of the panel.*\n"
   ]
  },
  {
   "cell_type": "code",
   "execution_count": null,
   "id": "30a81fb8-c21b-490c-9297-a6705f114957",
   "metadata": {},
   "outputs": [],
   "source": [
    "# to_remove explanation\n",
    "\n",
    "'''\n",
    "4. An obvious scenario is the combination of full electrification of the energy supply, i.e. 'very highly taxed' fossil fuel emissions (Coal, Natural gas, and Oil), 'highly subsidized' renewables, and a 'very high' carbon price, as well as the 'highly reduced' emissions of Methane and other Gases which gets us to a maximum increase of 2°C by the end of the century (cf. this example scenario https://en-roads.climateinteractive.org/scenario.html?v=24.3.0&p1=100&p7=85&p10=5&p16=-0.05&p23=-1&p39=250&p59=-64&p67=2&g0=2&g1=62). \n",
    "Nevertheless, other scenarios are possible, either by involving more parameters or by focusing on carbon removal. \n",
    "An important observation is that actions vary in leverage, in other words, some actions are more helpful than others. To make a difference and reach an ambitious goal like the 2°C degree target, many actions in many sectors are required. Sometimes one refers to this circumstance by calling it a 'Silver Buckshot' instead of a 'Silver Bullet' approach (cf. e.g. https://www.washingtonpost.com/archive/opinions/2006/05/27/welcome-to-the-climate-crisis-span-classbankheadhow-to-tell-whether-a-candidate-is-serious-about-combating-global-warmingspan/26b2ac5a-a4a3-46ff-b214-3fc07a3a5ab3/). \n",
    "Furthermore, people might be surprised by the fact that some actions may be much lower leverage, while others like carbon pricing and energy efficiency might be higher leverage than people expect. \n",
    "'''"
   ]
  },
  {
   "cell_type": "code",
   "execution_count": null,
   "id": "05df13b5-14ce-4515-aaae-7cc9e3765445",
   "metadata": {},
   "outputs": [],
   "source": [
    "# @markdown\n",
    "from ipywidgets import widgets\n",
    "from IPython.display import IFrame\n",
    "\n",
    "#link_id = \"gwr8h\"\n",
    "\n",
    "download_link = f\"https://img.climateinteractive.org/2019/09/EnROADS-one-page-guide-to-control-panel-v11-dec-2021.pdf\"\n",
    "render_link = f\"https://img.climateinteractive.org/2019/09/EnROADS-one-page-guide-to-control-panel-v11-dec-2021.pdf\"\n",
    "# @markdown\n",
    "out = widgets.Output()\n",
    "with out:\n",
    "    print(f\"If you want to download a cheatsheet for the En-ROADS Control Panel:\\n{download_link}\")\n",
    "    display(IFrame(src=f\"{render_link}\", width=730, height=410))\n",
    "display(out)"
   ]
  },
  {
   "cell_type": "markdown",
   "id": "5b99debb-96c4-4e7f-8c1d-0997197409ae",
   "metadata": {},
   "source": [
    "# Section 2: \n",
    "\n",
    "Let us now examine the cause-and-effect chains in such a model environment. We discussed in the slides how the population is inducing a labor force that produces, and hence creates fossil fuel emissions which increase the atmospheric greenhouse gas (GHG) concentration and subsequently impact temperature, land use, industry, and GDP. This climate change then creates damage to the economy, which the model simulates by translating the temperature rise back into a *damage function*, a dropping [gross domestic product](https://en.wikipedia.org/wiki/Gross_domestic_product) (GDP) for increasing temperatures.\n",
    "\n",
    "You might already have clicked through the toggles at the top of the control panel of En-ROADS and tried the different *Views* (Main graphs, Kaya graphs, Miniature graphs). Select now the *Kaya graphs* view and click on the anti-clockwise circular arrow to 'Reset all policies & assumptions' or just reload the page/model [here](https://en-roads.climateinteractive.org/).\n",
    "\n",
    "The Kaya Graphs depict the drivers of growth in carbon dioxide emissions from energy, which reflects about two thirds of all greenhouse gas emissions. The other third of emissions are from land use changes and other gases, such as methane (CH4) and nitrous oxide (N2O). The corresponding equation, the so called [***Kaya identity***](https://en.wikipedia.org/wiki/Kaya_identity) below was developed by Yoichi Kaya:\n",
    "\n",
    "***CO$_2$ Emissions from Energy = Global Population × GDP per Capita × Energy Intensity of GDP × Carbon Intensity of Energy***\n",
    "\n",
    "or via abbreviations $F$ (CO$_2$ emissions from energy), $P$ (global population), $G$ (world GDP), and $E$ (global energy consumption), respectively:\n",
    "\n",
    "$$\n",
    "F = P \\times \\left[\\frac{G}{P}\\right] \\times \\left[\\frac{E}{G}\\right] \\times \\left[\\frac{F}{E}\\right]\n",
    "$$\n",
    "\n",
    "This helps to measure and model the emissions if we assume that the factors are independent from each other which in reality is not the case. Each factor in this model is important and extreme reductions in one can offset increases in the others. On the other hand, Emissions $F$ increase over time when the Energy Intensity of GDP $\\left[\\frac{E}{G}\\right] $ and the Carbon Intensity of Energy both do not offset the currently rising GDP ($G$), which is by definition necessary for a growth-based economy.\n",
    "\n",
    "We are now using this view on these four variables $\\left(P, \\frac{G}{P}, \\frac{E}{G}, \\frac{F}{E}\\right)$ to compare the importance of economical and population growth on the CO$_2$ Emissions and subsequent temperature rise by 2100."
   ]
  },
  {
   "cell_type": "markdown",
   "id": "04abc63a-949e-4a59-a64b-d318b275d136",
   "metadata": {},
   "source": [
    "## Exercise 2: Population vs. economic growth\n",
    "\n",
    "Turn two *growth* 'control knobs' of En-ROADS, which are the sliders *Economical growth* and *Population growth*, and describe your observations of the graphs within the *Kaya graph* view. \n",
    "Read the following dropdown accessible box if you need more information to interpret the Kaya graphs. \n",
    "\n",
    "*Note that your changes are reflected in the light blue graph, while the baseline scenario remains a black line.*"
   ]
  },
  {
   "cell_type": "markdown",
   "id": "a7579e37-a3fb-464e-a216-2b78d405f4c2",
   "metadata": {},
   "source": [
    "<details>\n",
    "<summary> <font color='darkblue'>Click here for a description of the Kaya identity and the corresponding plots </font></summary>\n",
    "\n",
    "Here is one way to understand the shown trends over time:\n",
    "\n",
    "The Global Population ($P$) of 8 billion people is growing and growth is anticipated to be 11 billion by the end of the century, according to UN projections. The rate of growth is slowing over time as people have smaller families.\n",
    "\n",
    "GDP ($G$) per Capita ($P$) is growing steadily per year, and we assume it will continue, mostly as people in rapidly developing countries such as China, India, South Africa, Mexico, Brazil, and Indonesia attain higher standards of living.\n",
    "\n",
    "Energy Intensity ($E$) of GDP is decreasing over time, due to the world economy becoming more efficient, or using less energy per unit of economic output. Technologies are improving - for example, more efficient cars, buildings, and machines—and economies are shifting from manufacturing to services. The product of global population, GDP per capita, and the energy intensity of GDP is the total amount of energy used by the global economy.\n",
    "\n",
    "Carbon Intensity of Final Energy, the amount of carbon dioxide emitted by energy use, is expected to slightly decline over time. Overall, this downward trend in carbon intensity is attributed to the gradual shifting away from fossil fuels and towards low-carbon energy sources.\n",
    "\n",
    "Carbon Dioxide Emissions from Energy is the result of all four factors multiplied together, and you can see that in the Baseline Scenario emissions are growing. As the level of carbon dioxide in the atmosphere correlates with temperature, an increased concentration of carbon dioxide in the atmosphere leads to an increase in global temperatures.\n",
    "\n",
    "These factors explain, in simple terms, why emissions are increasing in the Baseline Scenario. Improvements in efficiency and decarbonization are not yet keeping up with the strong growth in population and consumption\n",
    " \n",
    "*** \n",
    " \n",
    "</details>"
   ]
  },
  {
   "cell_type": "markdown",
   "id": "ad4c3f62-6146-4a73-a79a-8ed33a6df426",
   "metadata": {},
   "source": [
    "## Questions 2:\n",
    "\n",
    "Before using the sliders and answering the following questions, build a brief working hypothesis. Which one of the two 'growth knobs' do you expect will be more influential on the global mean temperature and also how much more? \n",
    "\n",
    "1. What do you observe, when you only change the population growth slider? And vice versa changing only the economic growth slider? \n",
    "2. Combine the effect of both sliders in the common and opposite direction, respectively. Are you surprised about the output?"
   ]
  },
  {
   "cell_type": "code",
   "execution_count": null,
   "id": "ab2b5632-ae9b-4274-a5f4-cd1665f6912c",
   "metadata": {},
   "outputs": [],
   "source": [
    "# to_remove explanation\n",
    "'''\n",
    "1. In En-ROADS the population growth has a small effect on the temperature increase by 2100. On the left, the global population graph emphasizes the development until 2100, resulting in an expected population of 8.8 billion in the lowest growth case and an expected population of 12.56 billion in the largest growth case, respectively.\n",
    "The former leads to a 3.2°C increase and the latter to a 3.5°C which is only a $\\pm$ 0.2°C change due to population growth.\n",
    "In contrast, economic growth has a much larger impact: high growth (+30.000 $/person/year in 2100) leads to a temperature increase of 0.4°C by 2100 and low growth (-20.000 $/person/year in 2100) decreases it by 0.3°C, making discussions of overpopulation irrelevant and raising the question of the necessity to end economic growth or at least to discuss its current coupling to resource exploitation.\n",
    "2. All possible combinations of pop.-econ. -- low-low: 2.9°C, low-no: 3.2°C, low-high: 3.6°C, no-no: 3.3°C, no-low: 3.0°C, no-high: 3.7°C, high-low: 3.1°C, high-no: 3.5°C, high-high: 4.0°C.\n",
    "In terms of an anticipated minimal temperature increase. The best (worst) case is to have a low (high) growth in population and economy. It is better (worse) to have a decreasing (increasing) economy and a growing (shrinking) population. \n",
    "Having high population growth and economical growth add up to a larger temperature increase (+0.7°C) than their individual contribution (high pop. growth +0.2°C, high econ. growth +0.4°C) which indicates that these variables are not fully independent in the En-ROADS model.\n",
    "'''"
   ]
  },
  {
   "cell_type": "markdown",
   "id": "2775cf5c-bfd4-4a0d-8a48-5c65c216b609",
   "metadata": {},
   "source": [
    "<details>\n",
    "<summary> <font color='darkblue'>Click here for a bonus excourse on the Limits To Growth </font></summary>\n",
    "COULDDO\n",
    "Add economic growth with bounded resources (cf. Overshoot slide: post-growth vs. green-growth)\n",
    "    \n",
    "### Bonus: A note on exponential growth in a bounded system \n",
    "Consider a bounded system undergoing only positive feedback leading to exponential growth. The characteristic duration of growth until the system state reaches the system boundary is only weakly sensitive to the size of the boundary. For example, in the context of exponential resource-driven economic growth on Earth, reaching the boundary means exhausting its accessible physical resources. Ten times more or less of the starting amount of accessible resources only changes the time at which those resources are exhausted by a factor of 2 up or down, respectively. \n",
    "\n",
    "Physics demands that behind the exponential extraction of resources is an exponential use of an energy resource. In recent times on Earth, this has been fossil fuels, which are non-renewable. Legitimate concerns of peak oil in the late 1990s were quelled by the Shale revolution in the United States and other technological advances in oil and gas exploration and exploitation. These have increased (by a factor between 2 and 4) the total amount of known reserves that can be profitably exploited. While this increase is significant on an linear scale, it is negligible on an exponential scale. Looking forward, the largest estimates for how much larger accessible oil and gas reserves will be are within an order of magnitude of current reserves. Presuming resource-driven growth economics continues, whatever accessible oil and gass is left will then be exhausted within a short period of time (e.g. within a century). \n",
    "\n",
    "Exponential growth in a bounded system will often slow as it reaches the boundary because of boundary-sized feedback effects. In our case, demand growth for fossil fuels is starting to slow with the development of renewable energy sources. There still substantial uncertainty about how these feedbacks will play out. Some questions to consider: \n",
    "- whether the transition to renewable energy sources can happen before we exhaust the associated non-renewable resources. \n",
    "- Once transitioned, whether the non-renewable resource use (e.g. of rare-earth metals) needed to sustain the renewable energy sector is sustainable in a growth-based economics\n",
    "- Once transitioned, whether this renewable energy resource might not slow, but instead accelerate the extraction of all non-renewable resources (see [Jevon's paradox](https://en.wikipedia.org/wiki/Jevons_paradox)). \n",
    "\n",
    "*** \n",
    " \n",
    "</details>"
   ]
  },
  {
   "cell_type": "markdown",
   "id": "17f3d6d3-a323-4776-9c62-4262d689073d",
   "metadata": {},
   "source": [
    "# Section X Damage function\n",
    "We dive deeper into the control knob functionalities of En-ROADS by changing the quantification of how climate change damages the economy, or in other terms GDP. This damage function was already mentioned in Section TODO. To have a closer look at the engine of the model, we click on the 'Simulation' toggle and select 'Assumptions', in the bottom a box of toggles appears. Here we choose the 'Economy' section ... TODO . "
   ]
  },
  {
   "cell_type": "markdown",
   "id": "f764194d-7da5-4930-b683-823fb5e67128",
   "metadata": {},
   "source": [
    "# Section 3 The Temporal Dimension of Actions\n",
    "\n",
    "You might have recognized that a high ***carbon price*** by default has a strong impact on the temperature increase within the En-ROADS model as it both reduces the carbon intensity of the energy supply and reduces the energy demand. However, the carbon price itself could be introduced now or in 50 years and at different amounts, depending on for example the social cost of such a policy, which makes energy supply more expensive depending on its emissions. Energy producers could pass additional costs to their customers, so policy could be designed to minimize the impacts on the poorest, e.g. by introducing a [Carbon fee and dividend](https://en.wikipedia.org/wiki/Carbon_fee_and_dividend). \n",
    "\n",
    "To account for their temporal evolution, many variables in En-ROADS allow for modifications of the timing when something is introduced, stopped, in or de-creased, and so on.\n",
    "\n",
    "## Exercise 3\n",
    "\n",
    "When you click on the ellipsis of the 'Carbon price' slider, a widget-info box opens that allows for finetuning of your carbon price policy. Use the sliders to answer the following question.\n",
    "\n",
    "*Be warned that a reset of all your previous changes might be necessary before. If you would like to save your previous scenario, export it via a click on the* ***Share your scenario*** *button in the top right of the Panel, and select 'Copy Scenario Link'*.\n",
    "\n",
    "1. Click on the title of the top right graph *Greenhouse Gas Net Emissions*, select the 'Financial' toggle, and select the 'Market price of electricity'.\n",
    "2. Turn the most upper knobs/ vary the sliders of the 'Carbon price' and slide through different carbon prices. What do you observe? \n",
    "3. Now, select a high carbon price and increase the 'Year the carbon price starts to phase in' and discuss the effect on the 'Market price of electricity', its temporal evolution, and a possible consequence for a low-income household."
   ]
  },
  {
   "cell_type": "code",
   "execution_count": null,
   "id": "c2398233-83b0-4760-bc0e-fa9d260648b7",
   "metadata": {},
   "outputs": [],
   "source": [
    "# to_remove explanation\n",
    "\n",
    "'''\n",
    "3. The earlier the carbon price starts to phase in the more effective it is regarding the temperature increase. However, the earlier the larger the disturbance of the market price of electricity, emphasized by a strong increase in the price at first and a strong drop in the price after the first few years. This might lead to economic disruptions as energy supply becomes very expensive, therefore low-income households, which usually spend large parts of their income on energy, would need compensation like a 'carbon dividend' to avoid precariat. In summary, actions and their temporal implementation always need to be evaluated in various aspects to be a successful and societal least disruptive action against climate change. \n",
    "'''"
   ]
  },
  {
   "cell_type": "markdown",
   "id": "1f5a0c7f-8fd3-4c89-b25d-8070ef2fdd4b",
   "metadata": {},
   "source": [
    "# Section 4: Limitations\n",
    "\n",
    "We conclude this Tutorial by stepping back and thinking about the limitations of En-ROADS.\n",
    "\n",
    "### Exercise 4:\n",
    "\n",
    "1. Think about limitations that arise from the En-ROADS model approach. List a few mechanisms that seem oversimplified or phenomena that might be not or misrepresented.\n"
   ]
  },
  {
   "cell_type": "code",
   "execution_count": null,
   "id": "b17595a7-b326-4edb-9f80-b8e21f1d4e5e",
   "metadata": {},
   "outputs": [],
   "source": [
    "# to_remove explanation\n",
    "\n",
    "'''\n",
    "1. En-ROADS allows only for single parameter changes -  in reality, there will be correlations, e.g. between carbon pricing and renewables due to market pressure. \n",
    "Some feedbacks are also missing, besides the mentioned damage from climate change on GDP, land use, etc., climate change harms the human population by shortening lives. Although this happens already in the current 1°C increase reality, this harm is difficult to quantify and hence not implemented. \n",
    "Furthermore, it is a fully aggregated model, no spatial or regional resolution and dependency exists.  An action/ policy is assumed to be executed globally, which is a utopia so far. It remains important to think about the implications of heterogeneity across different countries and their interactions.\n",
    "'''"
   ]
  },
  {
   "cell_type": "markdown",
   "id": "51aac287-f6d0-479e-be4b-87f557c32214",
   "metadata": {},
   "source": [
    "# Summary\n",
    "\n",
    "In this tutorial, you got an intuition for various 'control knobs' that can be turned in a socio-economic model. We discussed the impact of growth, in particular population growth vs. economic growth and its treatment by the world model En-ROADS. At last we discussed a few limitations "
   ]
  },
  {
   "cell_type": "markdown",
   "id": "1c949bc5-e5ef-4d07-b379-122072ef6271",
   "metadata": {},
   "source": [
    "# Resources\n",
    "\n",
    "This tutorial is inspired by teaching material from [Climate Interactive](https://climateinteractive.org/) and other documents.\n",
    "A few important resources are linked below:\n",
    "\n",
    "- \n",
    "- [En-ROADS documentation](https://docs.climateinteractive.org/projects/en-roads/en/latest/index.html)\n",
    "- [Simulating Climate Futures in En-ROADS: Short Version](https://www.climateinteractive.org/guided-assignment/)"
   ]
  }
 ],
 "metadata": {
  "kernelspec": {
   "display_name": "Python 3 (ipykernel)",
   "language": "python",
   "name": "python3"
  },
  "language_info": {
   "codemirror_mode": {
    "name": "ipython",
    "version": 3
   },
   "file_extension": ".py",
   "mimetype": "text/x-python",
   "name": "python",
   "nbconvert_exporter": "python",
   "pygments_lexer": "ipython3",
   "version": "3.9.18"
  }
 },
 "nbformat": 4,
 "nbformat_minor": 5
}
