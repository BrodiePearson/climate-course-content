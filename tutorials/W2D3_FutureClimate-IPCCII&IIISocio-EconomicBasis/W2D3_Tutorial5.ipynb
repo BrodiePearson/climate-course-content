{
 "cells": [
  {
   "cell_type": "markdown",
   "id": "31aa5018-f1e8-4827-85df-af6c1c4e4f3a",
   "metadata": {},
   "source": [
    "[![Open In Colab](https://colab.research.google.com/assets/colab-badge.svg)](https://colab.research.google.com/github/neuromatch/climate-course-content/blob/main/tutorials/W2D3_FutureClimate-IPCCII&IIISocio-EconomicBasis/W2D3_Tutorial5.ipynb) &nbsp; <a href=\"https://kaggle.com/kernels/welcome?src=https://raw.githubusercontent.com/neuromatch/climate-course-content/main/tutorials/W2D3_FutureClimate-IPCCII&IIISocio-EconomicBasis/W2D3_Tutorial5.ipynb\" target=\"_parent\"><img src=\"https://kaggle.com/static/images/open-in-kaggle.svg\" alt=\"Open in Kaggle\"/></a>"
   ]
  },
  {
   "cell_type": "markdown",
   "id": "928e2cd8-42ce-4b82-ab62-a23fbb69e887",
   "metadata": {},
   "source": [
    "# Tutorial 5: Reflecting on the Narrative Space\n",
    "\n",
    "**Week 2, Day 3: IPCC Socio-economic Basis**\n",
    "\n",
    "**Content creators:** Maximilian Puelma Touzel\n",
    "\n",
    "**Content reviewers:**  Sloane Garelick, Younkap Nina Duplex, Zahra Khodakaramimaghsoud, Peter Ohue, Laura Paccini, Jenna Pearson, Agustina Pesce, Derick Temfack, Peizhen Yang, Cheng Zhang, Chi Zhang, Ohad Zivan\n",
    "\n",
    "**Content editors:** Paul Heubel, Jenna Pearson, Chi Zhang, Ohad Zivan\n",
    "\n",
    "**Production editors:** Wesley Banfield, Jenna Pearson, Chi Zhang, Ohad Zivan\n",
    "\n",
    "**Our 2024 Sponsors:** CMIP, NFDI4Earth"
   ]
  },
  {
   "cell_type": "markdown",
   "id": "b10af784-45a8-4f5e-b42d-140aec49ad6a",
   "metadata": {},
   "source": [
    "### Tutorial objectives\n",
    "\n",
    "- To discuss"
   ]
  },
  {
   "cell_type": "markdown",
   "id": "872f1dd4-1ccb-4d78-a7a5-3ae991f23319",
   "metadata": {},
   "source": [
    "### Notes on Tutorial Objectives\n",
    "\n",
    "- You will explore the inner workings of the DICE model, starting with the foundational principles of economics: *utility* and *welfare* functions. You will also learn how these functions aggregate and weight the satisfaction derived from consumption across different societal groups. You will also learn how these functions incorporate uncertain future utility into decision-making through *discount rates*. Valuing future states of the world allows the DICE model to place a value on its projections of future scenarios.\n",
    "\n",
    "Later in the tutorial you will learn about damage functions, which combine climatological and economic knowledge to estimate how climate changes will affect economic productivity and the resultant well-being of society.\n",
    "\n",
    "Finally, you will diagnose optimal planning within the DICE model, determining the best strategies for savings and emissions reduction rates (where _best_ is with respect to a chosen utility and welfare function). \n",
    "\n",
    "The overall objective of this tutorial is to provide a technical understanding of how parameters related to the distribution of value in society impact the optimal climate policy within a relatively simple IAM."
   ]
  },
  {
   "cell_type": "code",
   "execution_count": null,
   "id": "fdf1ce93-b253-4473-8a54-66c0735a0dea",
   "metadata": {},
   "outputs": [],
   "source": [
    "# import\n",
    "import matplotlib.pyplot as plt\n",
    "import numpy as np\n",
    "import dicelib  # https://github.com/mptouzel/PyDICE"
   ]
  },
  {
   "cell_type": "code",
   "execution_count": null,
   "id": "b2ca789a-db53-41cf-a668-a4bd13156200",
   "metadata": {},
   "outputs": [],
   "source": [
    "# @title Figure settings\n",
    "import ipywidgets as widgets  # interactive display\n",
    "\n",
    "%config InlineBackend.figure_format = 'retina'\n",
    "plt.style.use(\n",
    "    \"https://raw.githubusercontent.com/neuromatch/climate-course-content/main/cma.mplstyle\"\n",
    ")"
   ]
  },
  {
   "cell_type": "code",
   "execution_count": null,
   "id": "2e8b2198-a12e-477b-a3d6-06e20936f83f",
   "metadata": {},
   "outputs": [],
   "source": [
    "# @title Helper functions\n",
    "\n",
    "def pooch_load(filelocation=None, filename=None, processor=None):\n",
    "    shared_location = \"/home/jovyan/shared/Data/tutorials/W2D3_FutureClimate-IPCCII&IIISocio-EconomicBasis\"  # this is different for each day\n",
    "    user_temp_cache = tempfile.gettempdir()\n",
    "\n",
    "    if os.path.exists(os.path.join(shared_location, filename)):\n",
    "        file = os.path.join(shared_location, filename)\n",
    "    else:\n",
    "        file = pooch.retrieve(\n",
    "            filelocation,\n",
    "            known_hash=None,\n",
    "            fname=os.path.join(user_temp_cache, filename),\n",
    "            processor=processor,\n",
    "        )\n",
    "\n",
    "    return file"
   ]
  },
  {
   "cell_type": "code",
   "execution_count": null,
   "id": "cf7c3d2a-544e-4cad-8eb4-425e25a4570e",
   "metadata": {},
   "outputs": [],
   "source": [
    "# @title Video 1: TODO\n",
    "\n",
    "from ipywidgets import widgets\n",
    "from IPython.display import YouTubeVideo\n",
    "from IPython.display import IFrame\n",
    "from IPython.display import display\n",
    "\n",
    "\n",
    "class PlayVideo(IFrame):\n",
    "  def __init__(self, id, source, page=1, width=400, height=300, **kwargs):\n",
    "    self.id = id\n",
    "    if source == 'Bilibili':\n",
    "      src = f'https://player.bilibili.com/player.html?bvid={id}&page={page}'\n",
    "    elif source == 'Osf':\n",
    "      src = f'https://mfr.ca-1.osf.io/render?url=https://osf.io/download/{id}/?direct%26mode=render'\n",
    "    super(PlayVideo, self).__init__(src, width, height, **kwargs)\n",
    "\n",
    "\n",
    "def display_videos(video_ids, W=400, H=300, fs=1):\n",
    "  tab_contents = []\n",
    "  for i, video_id in enumerate(video_ids):\n",
    "    out = widgets.Output()\n",
    "    with out:\n",
    "      if video_ids[i][0] == 'Youtube':\n",
    "        video = YouTubeVideo(id=video_ids[i][1], width=W,\n",
    "                             height=H, fs=fs, rel=0)\n",
    "        print(f'Video available at https://youtube.com/watch?v={video.id}')\n",
    "      else:\n",
    "        video = PlayVideo(id=video_ids[i][1], source=video_ids[i][0], width=W,\n",
    "                          height=H, fs=fs, autoplay=False)\n",
    "        if video_ids[i][0] == 'Bilibili':\n",
    "          print(f'Video available at https://www.bilibili.com/video/{video.id}')\n",
    "        elif video_ids[i][0] == 'Osf':\n",
    "          print(f'Video available at https://osf.io/{video.id}')\n",
    "      display(video)\n",
    "    tab_contents.append(out)\n",
    "  return tab_contents\n",
    "\n",
    "\n",
    "video_ids = [('Youtube', '9ytkpO_pbWE')\n",
    "            # , ('Bilibili', 'BV1bj411Z739')\n",
    "            ]\n",
    "tab_contents = display_videos(video_ids, W=730, H=410)\n",
    "tabs = widgets.Tab()\n",
    "tabs.children = tab_contents\n",
    "for i in range(len(tab_contents)):\n",
    "  tabs.set_title(i, video_ids[i][0])\n",
    "display(tabs)"
   ]
  },
  {
   "cell_type": "code",
   "execution_count": null,
   "id": "dec27940-0abf-4b15-bab4-f23b70ed6f59",
   "metadata": {},
   "outputs": [],
   "source": [
    "**TODO**\n",
    "\n",
    "- add Video links"
   ]
  },
  {
   "cell_type": "markdown",
   "id": "536c60ec-adb1-4d61-8edf-6bfabf2ae63e",
   "metadata": {},
   "source": [
    "'The framework is built around a matrix that combines climate forcing on one axis (as represented by the Representative Concentration Pathways: van Vuuren et al, 2011 ) and socio-economic conditions on the other. Together, these two axes describe situations in which mitigation, adaptation and residual climate damage can be evaluated.' cf. https://tntcat.iiasa.ac.at/SspDb/dsd?Action=htmlpage&page=about#v2\n",
    "\n"
   ]
  },
  {
   "cell_type": "markdown",
   "id": "91e2dff4-720b-4677-b4db-73f7ca509591",
   "metadata": {},
   "source": [
    "# Section 1: Background on IAM Economics\n",
    "\n",
    "The last tutorial gave us a glimpse of Integrated Assessment Models (IAMs), a class of models economists use to inform policy decisions. Recall that IAMs couple a climate model to an economic model, allowing us to evaluate the two-way coupling between economic productivity and climate change severity. \n",
    "\n",
    "Let's begin with a brief description of IAMs:\n",
    "\n",
    "- IAMs resolve the spatially, in contrast, the toy model En-ROADs for example, which we applied in Tutorial 1 to 3, aggregates all variables and is non-spatial.\n",
    "- Like En-ROADS, the world models used in IAMs usually have *exogeneous* (externally set) times series for variables, in addition to fixed world system parameters. These exogenous variables are assumed to be under our society's control (e.g. mitigation). \n",
    "- IAMs come equipped with an objective function (a formula that calculates the quantity to be optimized). This function returns the value of a projected future obtained from running the world model under a given climate policy. This value is defined by the time series of these exogenous variables. In this sense, the objective function is what defines \"good\" in \"good climate policy\". \n",
    "- The computation in an IAM is then an optimization of this objective as a function of the time series of these exogenous variables over some fixed time window.\n",
    "\n",
    "In En-ROADS, there are exogenous parameters, in particular:\n",
    "    - **$\\mu(t)$**: time-dependent mitigation rate (i.e. emissions reduction), which limits warming-caused damages\n",
    "    - **$S(t)$**: savings rate, which drives capital investment \n",
    "\n",
    "Most IAMs are based on *Neo-classical economics* (also referred to as \"establishment economics\"). This is an approach to economics that makes particular assumptions. For example, it is assumed that production, consumption, and valuation of goods and services are driven solely by the supply and demand model. To understand this approach and how it is used, it is important to begin with a brief overview of some fundamental concepts. One such concept is **utility** (i.e. economic value), which is not only central to economics but also to decision theory as a whole, which is a research field that mathematically formalizes the activity of *planning* (planning here means selecting strategies based on how they are expected to play out given a model that takes those strategies and projects forward into the future)."
   ]
  },
  {
   "cell_type": "markdown",
   "id": "9d0d1666-1adf-4aa1-92ff-4b91b3501fa9",
   "metadata": {
    "jp-MarkdownHeadingCollapsed": true
   },
   "source": [
    "## Section 1.1: Utility"
   ]
  },
  {
   "cell_type": "markdown",
   "id": "fd16c3c3-06e7-4281-a037-28f51fdca99b",
   "metadata": {},
   "source": [
    "**Utility**, or economic value, is the total degree of satisfaction someone gets from using a product or service. In the context of socioeconomic climate impacts, utility of a state of the world for an individual is quantified by the consumption conferred (i.e. capital consumed; you can think of money as a placeholder for capital). \n",
    "\n",
    "Reducing value to consumption may seem restrictive, and it is, but it's how most economists see the world (not all! c.f. [Hüttel, Balderjahn, & Hoffmann,*Welfare Beyond Consumption: The Benefits of Having Less* Ecological Economics (2020)](https://www.sciencedirect.com/science/article/abs/pii/S0921800919318683)). That said, economists don't think utility is identical to consumption. Let's work through the assumptions in a standard presentation of the economics that links the two."
   ]
  },
  {
   "cell_type": "markdown",
   "id": "866feb71-4d93-405b-8ef3-b01c40359fe1",
   "metadata": {},
   "source": [
    "### Section 1.1.1: Utilities at Different Levels of Consumption\n",
    "It's natural that the utility of consumption is relative to the level of consumption. A crude illustration here is that the value of a meal is higher for those who haven't eaten recently than for those who have. Thus, we assume units of consumption at low values confer more utility than those at high values. In other words:\n",
    "\n",
    "- **A unit of consumption has less value to an individual, the more that individual tends to consume overall**\n",
    "\n",
    "The one parameter for the utility function is **elasticity** ($\\alpha$), which is the measure of a variable's sensitivity to change in another variable, in this case, how utility changes with consumption. \n",
    "\n",
    "We can plot the utility function for different values of elasticity to assess how the sensitivity of utility to changes in consumption varies with different elasticity values."
   ]
  },
  {
   "cell_type": "code",
   "execution_count": null,
   "id": "dbbc919d-6394-4223-87f7-861ea6ab093e",
   "metadata": {},
   "outputs": [],
   "source": [
    "fig, ax = plt.subplots()\n",
    "c = np.linspace(0, 10, 1000)\n",
    "for alpha in [0, 0.1, 0.5, 1.0, 1.45]:\n",
    "    if alpha == 1:\n",
    "        ax.plot(c, np.log(1 + c), label=r\"$\\alpha=\" + str(alpha) + \"$\")\n",
    "    elif alpha == 1.45:\n",
    "        ax.plot(\n",
    "            c,\n",
    "            ((c + 1) ** (1 - alpha) - 1) / (1 - alpha),\n",
    "            label=r\"$\\alpha=\" + str(alpha) + \"$(DICE)\",\n",
    "        )\n",
    "    else:\n",
    "        ax.plot(\n",
    "            c,\n",
    "            ((c + 1) ** (1 - alpha) - 1) / (1 - alpha),\n",
    "            label=r\"$\\alpha=\" + str(alpha) + \"$\",\n",
    "        )\n",
    "\n",
    "ax.plot([0, 10], [0, 10], \"k--\")\n",
    "ax.legend(frameon=False)\n",
    "ax.set_xlabel(\"Consumption, c\")\n",
    "ax.set_ylabel(\"Utility, u(c)\")"
   ]
  },
  {
   "cell_type": "markdown",
   "id": "efb598ac-6275-4253-acb8-d4eb208ead94",
   "metadata": {
    "execution": {}
   },
   "source": [
    "The plot you just made shows the relationship between consumption and utility for four different values of elasticity. For all values of elasticity, as consumption increases, the utility also increases, as we discussed above. However, let's make some observations about how changes in elasticity affect this relationship. For lower elasticity values (i.e. $\\alpha$ = 1 shown in blue) an increase in consumption results in a stronger increase in utility. In contrast, for high elasticity values (i.e. $\\alpha$ = 1.45 shown in red), such as what is used in a simple IAM like the DICE model, an increase in consumption results in only a smaller increase in utility."
   ]
  },
  {
   "cell_type": "markdown",
   "id": "28ca4bdd-76a8-469f-ba40-ca37a7f42daa",
   "metadata": {
    "execution": {}
   },
   "source": [
    "#### Questions 1.1.1\n",
    "1. What do you think the function looks like for $\\alpha=0$?"
   ]
  },
  {
   "cell_type": "code",
   "execution_count": null,
   "id": "dfd630df-3290-45a2-a2d6-2fe0211e85aa",
   "metadata": {},
   "outputs": [],
   "source": [
    "# to_remove explanation\n",
    "\"\"\"\n",
    "1. Plug alpha=0 into (c+1)**(1-alpha)-1)/(1-alpha). Since alpha is zero, the expression becomes c. Therefore, the plot for alpha = 0 would fall on the 1:1 line shown in the dashed black line in the plot above.\n",
    "\"\"\";"
   ]
  },
  {
   "cell_type": "markdown",
   "id": "126d738c-ce1d-49aa-a196-41ca49b088f8",
   "metadata": {},
   "source": [
    "### Section 1.1.2: Utilities Over a Population\n",
    "In the case that individuals are of the same type, i.e. a population of such individuals, we assume that \n",
    "\n",
    "- **Utilities of individuals of the same type sum**\n"
   ]
  },
  {
   "cell_type": "markdown",
   "id": "b24efad6-ed11-4522-b6fb-68f46d9e5f11",
   "metadata": {},
   "source": [
    "### Section 1.1.3: Utilities Over Time\n",
    "Remember how we introduced a ***carbon price*** in Tutorial 2, where we discussed how the timing of a policy might affect and disturb several variables, like the increase in global temperature but also electricity prices. \n",
    "Since our actions now affect those in the future (the so-called *intertemporal choice problem*), we can't decide what is best to do at each time point by looking only at how it affects the world at that time. We need to incorporate utilities from the future into our value definition to know what is best to do now. How should we combine these? \n",
    "\n",
    "Economists and decision theorists generally operate under the assumption that the value of a unit of utility decreases as it is received further into the future. This assumption is based on the recognition of the inherent uncertainty surrounding future events and the finite probability that they may not materialize. In other words:\n",
    "\n",
    "- **Utilities in the near future are valued more than those in the far future**\n",
    "\n",
    "This devaluation of the future is called *temporal discounting*. You can imagine that there is a lot of debate about how and even whether to do this in climate policy design! \n",
    "\n",
    "The standard approach to incorporate temporal discounting into the model is to multiply the utilities of future benefits and costs by a **discount factor** ($\\gamma$ ('gamma'), which is a number just less than 1, e.g. 0.95). The discount factor is raised to the power of time (in years) into the future to give the discount rate at that future time: \n",
    "\n",
    "- after 1 year $(0.95)^1=0.95$\n",
    "- after 2 years $(0.95)^2=0.90$\n",
    "- after 10 years $(0.95)$<sup>10</sup>$=0.60$\n",
    "\n",
    "The _return_ is the sum of future utilities, which is taken as the value of that future projection. If these utilies are discounted, their sum is called the _discounted return_. The following code will show an illustration of the effect of temporal discounting on future utilities and the return up to a given number of time steps into the future for a discount factor of $\\gamma$ = 0.95."
   ]
  },
  {
   "cell_type": "code",
   "execution_count": null,
   "id": "babb1d19-c24c-46da-9dd1-e7406baa9ccb",
   "metadata": {},
   "outputs": [],
   "source": [
    "# @markdown *Execute this cell to enable the plot_future_returns function: `plot_future_returns`*\n",
    "\n",
    "def plot_future_returns(gamma, random_seed):\n",
    "    fig, ax = plt.subplots(1, 2, figsize=(8, 4))\n",
    "    np.random.seed(random_seed)\n",
    "    undiscounted_utility_time_series = np.random.rand(time_steps)\n",
    "    ax[0].plot(undiscounted_utility_time_series)\n",
    "\n",
    "    discounted_utility_time_series = undiscounted_utility_time_series * np.power(\n",
    "        gamma, np.arange(time_steps)\n",
    "    )\n",
    "    ax[0].plot(discounted_utility_time_series)\n",
    "\n",
    "    cumulsum_discounted_utility_time_series = np.cumsum(discounted_utility_time_series)\n",
    "    ax[1].plot(\n",
    "        cumulsum_discounted_utility_time_series * (1 - gamma),\n",
    "        color=\"C1\",\n",
    "        label=r\"discounted on $1/(1-\\gamma)=$\"\n",
    "        + \"\\n\"\n",
    "        + r\"$\"\n",
    "        + str(round(1 / (1 - gamma)))\n",
    "        + \"$-step horizon\",\n",
    "    )\n",
    "    cumulsum_undiscounted_utility_time_series = np.cumsum(\n",
    "        undiscounted_utility_time_series\n",
    "    )\n",
    "    ax[1].plot(\n",
    "        cumulsum_undiscounted_utility_time_series\n",
    "        / cumulsum_undiscounted_utility_time_series[-1],\n",
    "        label=\"undiscounted\",\n",
    "        color=\"C0\",\n",
    "    )\n",
    "    ax[1].axvline(1 / (1 - gamma), ls=\"--\", color=\"k\")\n",
    "\n",
    "    ax[0].set_ylabel(\"utility at step t\")\n",
    "    ax[0].set_xlim(0, time_steps)\n",
    "    ax[0].set_xlabel(\"time steps into the future\")\n",
    "    ax[1].legend(frameon=False)\n",
    "    ax[1].set_ylabel(\"future return (normalized)\")\n",
    "    ax[1].set_xlabel(\"time steps into the future\")\n",
    "    ax[1].set_xlim(0, time_steps)\n",
    "    fig.tight_layout()"
   ]
  },
  {
   "cell_type": "code",
   "execution_count": null,
   "id": "6ba05746-5c6b-4f95-ae12-4ce8ea882fd8",
   "metadata": {},
   "outputs": [],
   "source": [
    "time_steps = 300\n",
    "gamma = 0.95\n",
    "random_seed = 1\n",
    "plot_future_returns(gamma, random_seed)"
   ]
  },
  {
   "cell_type": "markdown",
   "id": "b01b8b2c-e7f2-4977-898f-ea0a3b41e5aa",
   "metadata": {},
   "source": [
    "In both plots, the blue lines are undiscounted case (i.e. without the effect of temporal discounting) and the orange lines are the discounted case (i.e. including the effect of temporal discounting). \n",
    "\n",
    "The figure on the left shows utility at each time step. In both the undiscounted scenario (blue) and the discounted scenario (orange), projected utilities are variable and uncertain. Notice that in the unsidcounted case, the average size of these utilities stays the same. In contrast, in the discounted case the typical size of utility rapidly decreases to zero, reflecting the effect of temporal discounting (i.e. the devaluation of utilities in the far future). \n",
    "\n",
    "The figure on the right shows changes in return (i.e. the cumulative sum of future utilities) over time. The black dashed line shows the effective time horizon beyond which rewards are ignored in the discounted case for this chosen value of the discount factor, $\\gamma$ (this time is set by the natural convention of when the return gets to a fraction ($1-1/e\\approx0.64$) of the final value). Beyond the time horizon, the future discounted return (orange) reaches saturation, and no additional utility from further time steps contributes to the overall value. In contrast, in the undiscounted case (blue), all future times are equally important, and the return grows linearly with the maximum time considered for computing utilities. "
   ]
  },
  {
   "cell_type": "markdown",
   "id": "bda4d48f-67a3-4d92-bbb7-362d32fe205d",
   "metadata": {
    "execution": {}
   },
   "source": [
    "## Bonus Section 1.2: Damage Functions in more Detail"
   ]
  },
  {
   "cell_type": "markdown",
   "id": "709ebe5f-c7cc-4718-b18f-72c6b3d7bdf7",
   "metadata": {
    "execution": {}
   },
   "source": [
    "Now that we have familiarized ourselves with some of the main components of IAMs and the DICE model, we can begin to explore another important component: the **damage function**. The damage function is a central model component that connects climate and socio-economic processes in integrated assessment models.\n",
    "\n",
    "Damage functions are the objects in IAMs that dictate how changes in temperature affect production (e.g. through direct weather-related damages). They play a crucial role in determining the model's projections.\n",
    "\n",
    "The standard form is a deterministic continuous function that maps changes in temperature, $\\Delta T$, to the fraction of productivity that is destroyed by climate change every year, $\\Omega$. The standard parametrization is a quadratic dependence \n",
    "$$\\Omega=a \\times (\\Delta T)^2$$\n",
    "where $a$ is some small constant (e.g. 0.001) whose value is set by regression of GDP and temperature over geographic and historical variation. Let's plot this function. "
   ]
  },
  {
   "cell_type": "code",
   "execution_count": null,
   "id": "fe2cb928-47ac-429a-a7ed-0e340ebd66c2",
   "metadata": {
    "executionInfo": {
     "elapsed": 805,
     "status": "ok",
     "timestamp": 1682429069667,
     "user": {
      "displayName": "Maximilian Puelma Touzel",
      "userId": "09308600515315501700"
     },
     "user_tz": 240
    },
    "tags": []
   },
   "outputs": [],
   "source": [
    "fig, ax = plt.subplots()\n",
    "T = np.linspace(0, 4, 1000)\n",
    "a1DICE = 0.00236\n",
    "a2 = 2.00\n",
    "for a1 in [a1DICE, 1e-2, 1e-1]:\n",
    "    ax.plot(\n",
    "        T,\n",
    "        a1 * (T**a2),\n",
    "        label=r\"$a_1=\" + str(a1) + \"$\" + (\"(DICE2023)\" if a1 == a1DICE else \"\"),\n",
    "    )\n",
    "ax.legend(frameon=False)\n",
    "ax.set_xlabel(\"temperature change, $\\Delta T$\")\n",
    "ax.set_ylabel(\"fraction productivity destroyed\")\n",
    "ax.set_ylim(0, 0.5)"
   ]
  },
  {
   "cell_type": "markdown",
   "id": "0a918ab9-9aef-45e4-a351-366425ceb7f4",
   "metadata": {
    "execution": {}
   },
   "source": [
    "Observe how larger temperature changes lead to a larger fraction of productivity destroyed due to the damages caused by that temperature. The damage at a given temperature scales linearly with the parameter $a_1$, and exponentially with the parameters $a_2$."
   ]
  },
  {
   "cell_type": "markdown",
   "id": "bd708923-c2be-49d2-acaf-9f84268061ef",
   "metadata": {},
   "source": [
    "### Bonus Questions 1.2\n",
    "1. Pick an assumption that is made about the relationship between temperature and economic damage in arriving at a conventional damage function (e.g. that it is: _deterministic_, _continuous_, _constant in time_, _functional_ (instead of dynamical), ...) and explain why you think that assumption might be unrealistic for a specific sector of the economy or a specific region of the planet.\n",
    "2. Can you think of a specific way that temperature variation might cause variation in GDP that could have been significant in structuring the historical and/or geographical covariation of the two variables? How about a causal relationship that will not have been significant in historical or geographic variation up to now, but is likely to be significant as temperatures continue to rise and we experience more extreme climates? "
   ]
  },
  {
   "cell_type": "code",
   "execution_count": null,
   "id": "1f505e53-b037-4660-9bc7-f2e29cebb722",
   "metadata": {},
   "outputs": [],
   "source": [
    "# to_remove explanation\n",
    "\n",
    "\"\"\"\n",
    "1. You can consider a few reasons such as nonlinearity, regional differences, socioeconomic factors, and non-monetary damages. In particular, one could imagine subway systems being minimally affected until the sea level rises to the level of entrances to the subway at which point the subway is completely flooded.\n",
    "2. Significant in past and future: reduced worker productivity; Significant only in future: Heat-induced crop failures\n",
    "\"\"\";"
   ]
  },
  {
   "cell_type": "code",
   "execution_count": null,
   "id": "4cbf7121-8ee7-483c-845b-54ed30d442c2",
   "metadata": {},
   "outputs": [],
   "source": []
  },
  {
   "cell_type": "markdown",
   "id": "b099aeb9-3531-4ffc-9fc4-059a436d93da",
   "metadata": {},
   "source": [
    "**OG Material**\n",
    "## Bonus Section 2: Background on IAM Economics and the DICE Model"
   ]
  },
  {
   "cell_type": "code",
   "execution_count": null,
   "id": "e2b0dc65-862e-4bbd-881b-76ff6e74596a",
   "metadata": {},
   "outputs": [],
   "source": [
    "var_names = [\"forcing\", \"pop\", \"CO2\"]\n",
    "filenames = [\"iamc_db_forcing.xlsx\", \"iamc_db_pop.xlsx\", \"iamc_db_CO2.xlsx\"]\n",
    "paths = [\n",
    "    \"https://osf.io/download/tkrf7/\",\n",
    "    \"https://osf.io/download/ed9aq/\",\n",
    "    \"https://osf.io/download/gcb79/\",\n",
    "]\n",
    "files = [pooch_load(path, filename) for path, filename in zip(paths, filenames)]\n",
    "axis_size = 4\n",
    "fig, ax = plt.subplots(\n",
    "    1, len(var_names), figsize=(axis_size * len(var_names), axis_size)\n",
    ")\n",
    "for ax_idx, var_name in enumerate(var_names):\n",
    "    data_df = get_IPCC_data(var_name, files[ax_idx])\n",
    "    sns.lineplot(\n",
    "        ax=ax[ax_idx], data=data_df, x=\"year\", y=var_name, hue=\"Scenario\"\n",
    "    )  # plot the data"
   ]
  },
  {
   "cell_type": "markdown",
   "id": "7b95d1a5-d3b1-49c5-9e59-b917a470d01f",
   "metadata": {},
   "source": [
    "TODO check for IAM features. Copy until understood En-Roads as a placeholder for model description.\n",
    "\n",
    "The [Dynamic Integrated Climate-Economy (DICE)](https://www3.nd.edu/~nmark/Climate/DICE-simplified_2019.pdf) was the first prominent Integrated Assessment Model (IAM), a class of models economists use to inform policy decisions. Recall that IAMs couple a climate model to an economic model, allowing us to evaluate the two-way coupling between economic productivity and climate change severity. DICE is too idealized to be predictive, like `world3`, but DICE is still useful as a sandbox for exploring climate policy ideas, which is how we will use it here.\n",
    "\n",
    "Let's begin with a brief description of IAMs and the DICE model:\n",
    "\n",
    "- DICE is a fully aggregated (i.e., non-spatial) model, but otherwise contains the essence of many key components of more complex IAMs. \n",
    "- Unlike `world3`, which we encountered in Tutorial 1, the world models used in IAMs usually have *exogeneous* (externally set) times series for variables, in addition to fixed world system parameters. These exogeneous variables are assumed to be under our society's control (e.g. mitigation). \n",
    "- IAMs come equipped with an objective function (a formula that calculates the quantity to be optimized). This function returns the value of a projected future obtained from running the world model under a given climate policy. This value is defined by time series of these exogeneous variables. In this sense, the objective function is what defines \"good\" in \"good climate policy\". \n",
    "- The computation in an IAM is then an optimization of this objective as a function of the time series of these exogeneous variables over some fixed time window. In DICE, there are two exogeneous parameters:\n",
    "    - **$\\mu(t)$**: time-dependent mitigation rate (i.e. emissions reduction), which limits warming-caused damages\n",
    "    - **$S(t)$**: savings rate, which drives capital investment \n",
    "- The choices for the standard values of the parameters used in the DICE models have been critisized, and updated versions have been analyzed and proposed ([Hansel et al. 2020](https://www.nature.com/articles/s41558-020-0833-x);[Barrage & Nordhaus 2023](https://www.nber.org/papers/w31112)). Here, we look at the standard DICE2016 version of the model.\n",
    "\n",
    "All DICE models (and most IAMs) are based on *Neo-classical economics* (also referred to as \"establishment economics\"). This is an approach to economics that makes particular assumptions. For example, it is assumed that production, consumption, and valuation of goods and services are driven solely by the supply and demand model. To understand this approach and how it is used in the DICE model, it is important to begin with a brief overview of some fundamental concepts. One such concept is **utility** (i.e. economic value), which is not only central to economics but also to decision theory as a whole, which is a research field that mathematically formalizes the activity of *planning* (planning here means selecting strategies based on how they are expected to play out given a model that takes those strategies and projects forward into the future)."
   ]
  },
  {
   "cell_type": "markdown",
   "id": "ace89f1f-c5e6-402b-90d9-67a73d2730b7",
   "metadata": {},
   "source": [
    "## Section 2.1: Utility"
   ]
  },
  {
   "cell_type": "markdown",
   "id": "c2fc7e52-7e85-416d-834d-b1c0bc46e5aa",
   "metadata": {},
   "source": [
    "**Utility**, or economic value, is the total degree of satisfaction someone gets from using a product or service. In the context of socioeconomic climate impacts, utility of a state of the world for an individual is quantified by the consumption conferred (i.e. capital consumed; you can think of money as a placeholder for capital). \n",
    "\n",
    "Reducing value to consumption may seem restrictive, and it is, but it's how most economists see the world (not all! c.f. [Hüttel, Balderjahn, & Hoffmann,*Welfare Beyond Consumption: The Benefits of Having Less* Ecological Economics (2020)](https://www.sciencedirect.com/science/article/abs/pii/S0921800919318683)). That said, economists don't think utility is identical to consumption. Let's work through the assumptions in a standard presentation of the economics that links the two."
   ]
  },
  {
   "cell_type": "markdown",
   "id": "03d8243b-09d6-41df-b3ba-c7966a9aabda",
   "metadata": {},
   "source": [
    "### Section 1.1.2: Utilities Over a Population\n",
    "In the case that individuals are of the same type, i.e. a population of such individuals, we assume that \n",
    "* **Utilities of individuals of the same type sum**"
   ]
  },
  {
   "cell_type": "markdown",
   "id": "41f56d4f-6b6d-4644-a5fe-67dfd3cd4b3c",
   "metadata": {},
   "source": [
    "### Section 1.1.3: Utilities Over Time\n",
    "Since our actions now affect those in the future (the socalled *intertemporal choice problem*), we can't decide what is best to do at each time point by looking only at how it affects the world at that time. We need to incorporate utilities from the future into our value definition to know what is best to do now. How should we combine these? \n",
    "\n",
    "Economists and decision theorists generally operate under the assumption that the value of a unit of utility decreases as it is received further into the future. This assumption is based on the recognition of the inherent uncertainty surrounding future events and the finite probability that they may not materialize. In other words:\n",
    "* **Utilities in the near future are valued more than those in the far future**\n",
    "\n",
    "This devaluation of the future is called *temporal discounting*. You can imagine that there is a lot of debate about how and even whether to do this in climate policy design! \n",
    "\n",
    "The standard approach to incorporate temporal discounting into the model is to multiply the utilities of future benefits and costs by a **discount factor** ($\\gamma$ ('gamma'), which is a number just less than 1, e.g. 0.95). The discount factor is raised to the power of time (in years) into the future to give the discount rate at that future time: \n",
    "- after 1 year $(0.95)^1=0.95$\n",
    "- after 2 years $(0.95)^2=0.90$\n",
    "- after 10 years $(0.95)$<sup>10</sup>$=0.60$\n",
    "\n",
    "The _return_ is the sum of future utilities, which is taken as the value of that future projection. If these utilies are discounted, their sum is called the _discounted return_. The following code will show an illustration of the effect of temporal discounting on future utilities and the return up to a given number of time steps into the future for a discount factor of $\\gamma$ = 0.95."
   ]
  },
  {
   "cell_type": "code",
   "execution_count": null,
   "id": "8e4328fb-5b04-42f8-89b9-743920a58837",
   "metadata": {},
   "outputs": [],
   "source": [
    "# @markdown *Execute this cell to enable the plot_future_returns function: `plot_future_returns`*\n",
    "\n",
    "def plot_future_returns(gamma, random_seed):\n",
    "    fig, ax = plt.subplots(1, 2, figsize=(8, 4))\n",
    "    np.random.seed(random_seed)\n",
    "    undiscounted_utility_time_series = np.random.rand(time_steps)\n",
    "    ax[0].plot(undiscounted_utility_time_series)\n",
    "\n",
    "    discounted_utility_time_series = undiscounted_utility_time_series * np.power(\n",
    "        gamma, np.arange(time_steps)\n",
    "    )\n",
    "    ax[0].plot(discounted_utility_time_series)\n",
    "\n",
    "    cumulsum_discounted_utility_time_series = np.cumsum(discounted_utility_time_series)\n",
    "    ax[1].plot(\n",
    "        cumulsum_discounted_utility_time_series * (1 - gamma),\n",
    "        color=\"C1\",\n",
    "        label=r\"discounted on $1/(1-\\gamma)=$\"\n",
    "        + \"\\n\"\n",
    "        + r\"$\"\n",
    "        + str(round(1 / (1 - gamma)))\n",
    "        + \"$-step horizon\",\n",
    "    )\n",
    "    cumulsum_undiscounted_utility_time_series = np.cumsum(\n",
    "        undiscounted_utility_time_series\n",
    "    )\n",
    "    ax[1].plot(\n",
    "        cumulsum_undiscounted_utility_time_series\n",
    "        / cumulsum_undiscounted_utility_time_series[-1],\n",
    "        label=\"undiscounted\",\n",
    "        color=\"C0\",\n",
    "    )\n",
    "    ax[1].axvline(1 / (1 - gamma), ls=\"--\", color=\"k\")\n",
    "\n",
    "    ax[0].set_ylabel(\"utility at step t\")\n",
    "    ax[0].set_xlim(0, time_steps)\n",
    "    ax[0].set_xlabel(\"time steps into the future\")\n",
    "    ax[1].legend(frameon=False)\n",
    "    ax[1].set_ylabel(\"future return (normalized)\")\n",
    "    ax[1].set_xlabel(\"time steps into the future\")\n",
    "    ax[1].set_xlim(0, time_steps)\n",
    "    fig.tight_layout()"
   ]
  },
  {
   "cell_type": "code",
   "execution_count": null,
   "id": "d259fc93-630d-4f95-9129-7920942bbc0e",
   "metadata": {},
   "outputs": [],
   "source": [
    "time_steps = 300\n",
    "gamma = 0.95\n",
    "random_seed = 1\n",
    "plot_future_returns(gamma, random_seed)"
   ]
  },
  {
   "cell_type": "markdown",
   "id": "f059a6f7-b096-4e28-a4f2-6dc5f501dc17",
   "metadata": {},
   "source": [
    "In both plots, the blue lines are undiscounted case (i.e. without the effect of temporal discounting) and the orange lines are the discounted case (i.e. including the effect of temporal discounting). \n",
    "\n",
    "The figure on the left shows utility at each time step. In both the undiscounted scenario (blue) and the discounted scenario (orange), projected utilities are variable and uncertain. Notice that in the unsidcounted case, the average size of these utilities stays the same. In contrast, in the discounted case the typical size of utility rapidly decreases to zero, reflecting the effect of temporal discounting (i.e. the devaluation of utilities in the far future). \n",
    "\n",
    "The figure on the right shows changes in return (i.e. the cumulative sum of future utilities) over time. The black dashed line shows the effective time horizon beyond which rewards are ignored in the discounted case for this chosen value of the discount factor, $\\gamma$ (this time is set by the natural convention of when the return gets to a fraction ($1-1/e\\approx0.64$) of the final value). Beyond the time horizon, the future discounted return (orange) reaches saturation, and no additional utility from further time steps contributes to the overall value. In contrast, in the undiscounted case (blue), all future times are equally important, and the return grows linearly with the maximum time considered for computing utilities. "
   ]
  },
  {
   "cell_type": "markdown",
   "id": "0af22d7c-2317-4545-b3cf-927cfa5f1322",
   "metadata": {
    "execution": {}
   },
   "source": [
    "# Section 2: Damage Functions"
   ]
  },
  {
   "cell_type": "markdown",
   "id": "70e76f6d-2ed7-4fac-a769-c642645db6ad",
   "metadata": {
    "execution": {}
   },
   "source": [
    "Now that we have familiarized ourselves with some of the main components of IAMs and the DICE model, we can begin to explore another important component: the **damage function**. The damage function is a central model component that connects climate and socio-economic processes in integrated assessment models.\n",
    "\n",
    "Damage functions are the objects in IAMs that dictate how changes in temperature affect production (e.g. through direct weather-related damages). They play a crucial role in determining the model's projections.\n",
    "\n",
    "The standard form is a deterministic continuous function that maps changes in temperature, $\\Delta T$, to the fraction of productivity that is destroyed by climate change every year, $\\Omega$. The standard parametrization is a quadratic dependence \n",
    "$$\\Omega=a \\times (\\Delta T)^2$$\n",
    "where $a$ is some small constant (e.g. 0.001) whose value is set by regression of GDP and temperature over geographic and historical variation. Let's plot this function. "
   ]
  },
  {
   "cell_type": "code",
   "execution_count": null,
   "id": "1235e603-151a-4932-8197-a0e125d2fb3e",
   "metadata": {
    "executionInfo": {
     "elapsed": 805,
     "status": "ok",
     "timestamp": 1682429069667,
     "user": {
      "displayName": "Maximilian Puelma Touzel",
      "userId": "09308600515315501700"
     },
     "user_tz": 240
    },
    "tags": []
   },
   "outputs": [],
   "source": [
    "fig, ax = plt.subplots()\n",
    "T = np.linspace(0, 4, 1000)\n",
    "a1DICE = 0.00236\n",
    "a2 = 2.00\n",
    "for a1 in [a1DICE, 1e-2, 1e-1]:\n",
    "    ax.plot(\n",
    "        T,\n",
    "        a1 * (T**a2),\n",
    "        label=r\"$a_1=\" + str(a1) + \"$\" + (\"(DICE2023)\" if a1 == a1DICE else \"\"),\n",
    "    )\n",
    "ax.legend(frameon=False)\n",
    "ax.set_xlabel(\"temperature change, $\\Delta T$\")\n",
    "ax.set_ylabel(\"fraction productivity destroyed\")\n",
    "ax.set_ylim(0, 0.5)"
   ]
  },
  {
   "cell_type": "markdown",
   "id": "89aaf47b-93cc-4759-9549-a425f1055e7c",
   "metadata": {
    "execution": {}
   },
   "source": [
    "Observe how larger temperature changes lead to a larger fraction of productivity destroyed due to the damages caused by that temperature. The damage at a given temperature scales linearly with the parameter $a_1$, and exponentially with the parameters $a_2$."
   ]
  },
  {
   "cell_type": "markdown",
   "id": "46070144-82b1-4437-80d7-faa687adf206",
   "metadata": {},
   "source": [
    "There are at least two fundamental problems with damage functions (for more see [*The appallingly bad neoclassical economics of climate change* by S. Keen in *Globalizations* (2020)](https://www.tandfonline.com/doi/full/10.1080/14747731.2020.1807856)):\n",
    "1. As mathematical model objects, they are likely too simple to be useful predictors in characterizing climate damages in sufficient complexity. \n",
    "2. They arise from a poorly validated model-fitting procedure. In particular, it relies on ad hoc functional forms and the relevance of historical and geographical variability to future variability."
   ]
  },
  {
   "cell_type": "markdown",
   "id": "701670a1-d0ee-4f43-85b3-a568c0c0599b",
   "metadata": {},
   "source": [
    "### Questions 2\n",
    "1. Pick an assumption that is made about the relationship between temperature and economic damage in arriving at a conventional damage function (e.g. that it is: _deterministic_, _continuous_, _constant in time_, _functional_ (instead of dynamical), ...) and explain why you think that assumption might be unrealistic for a specific sector of the economy or a specific region of the planet.\n",
    "2. Can you think of a specific way that temperature variation might cause variation in GDP that could have been significant in structuring the historical and/or geographical covariation of the two variables? How about a causal relationship that will not have been significant in historical or geographic variation up to now, but is likely to be significant as temperatures continue to rise and we experience more extreme climates? "
   ]
  },
  {
   "cell_type": "code",
   "execution_count": null,
   "id": "b5329692-fd2e-42e8-9b74-da8f44b8b375",
   "metadata": {},
   "outputs": [],
   "source": [
    "# to_remove explanation\n",
    "\n",
    "\"\"\"\n",
    "1. You can consider a few reasons such as nonlinearity, regional differences, socioeconomic factors, and non-monetary damages. In particular, one could imagine subway systems being minimally affected until the sea level rises to the level of entrances to the subway at which point the subway is completely flooded.\n",
    "2. Significant in past and future: reduced worker productivity; Significant only in future: Heat-induced crop failures\n",
    "\"\"\";"
   ]
  },
  {
   "cell_type": "markdown",
   "id": "5b335f24-dea9-4fd0-a89a-8fdd73f54090",
   "metadata": {},
   "source": [
    "Despite these problems highlighting a pressing need to improve how we formulate climate damages, damage functions allow economists within the neoclassical paradigm to start seriously considering the damaging effects of climate change. After a few decades of economists using overly optimistic damage functions that downplayed the damaging effects of climate change, current research on damage functions is striving to incorporate more realism and better estimation.\n",
    "\n",
    "For more contemporary damage functions see [van der Wijst et al. *Nat. Clim. Change* (2023)](https://www.nature.com/articles/s41558-023-01636-1). Note that even this modern publication is hindered by the [McNamara Fallacy](https://en.wikipedia.org/wiki/McNamara_fallacy) of leaving out things that are hard to measure. The authors state: \"The climate change impacts did not include potential losses originated in ecosystems or in the health sector. This is motivated by the difficulty in addressing the non-market dimension of those impacts with a ‘market-transaction-based’ model such as CGE. Also, catastrophic events were not considered, even though some ‘extremes’ (riverine floods) were included.\""
   ]
  },
  {
   "cell_type": "markdown",
   "id": "f7db954d-db3b-46b5-9ab9-98cb5b28386a",
   "metadata": {
    "execution": {}
   },
   "source": [
    "## Section 2.1: IAM Model Summary \n",
    "TODO keep in T1\n",
    "\n",
    "We've now explored both the utility function and damage function components of IAMs.  Before we move on to actually running the DICE model, let's summarize what we've learned so far about IAMs, specifically regarding the economy and climate models:\n",
    "\n",
    "The economy model in most IAMs is a capital accumulation model. \n",
    "- Capital ($K$) combines with a laboring population and technology to generate productivity ($Y$) that is hindered by climate damage. \n",
    "- A savings rate, $S$, drives capital accumulation, while the rest is consumed. Welfare is determined by consumption.\n",
    "- Climate action is formulated by a mitigation rate, $\\mu$, which along with the savings rate, $S$, are the two exogeneous control parameters in the model and are used to maximize welfare.\n",
    "\n",
    "The climate model in DICE interacts with the economy model via the following equation: \n",
    "$$E_\\mathrm{ind}=(1-\\mu)\\sigma Y,$$ \n",
    "- Productivity ($Y$) generates industrial emissions ($E_\\mathrm{ind}$), where the $1-\\mu$ factor accounts for a reduction of the carbon intensity of production, $\\sigma$, via supply-side mitigation measures (e.g. increased efficiency). \n",
    "- The productivity $Y$ rather than output production ($Q$) is used here because damages aren't included. \n",
    "- Damages aren't included because the emissions produced in the process of capital production occur before climate change has a chance to inflict damage on the produced output. \n",
    "- These industrial emissions combine with natural emissions to drive the temperature changes appearing in the damage function, closing the economy-climate loop. "
   ]
  },
  {
   "cell_type": "markdown",
   "id": "8c349881-9050-4a7e-b996-6ea9e2e9482a",
   "metadata": {
    "execution": {}
   },
   "source": [
    "## Section 2.2: Optimal Planning\n",
    "The goal of the model is to maximize the overall value of a projected future, $V$, within the bounds of mitigation rate, $\\mu$, and savings rate, $S$, time courses (while considering constraints on $\\mu$ and $S$). This approach is known as **optimal planning**. But why does this \"sweet spot\" in which overall value is maximized exist? Increasing savings boosts investment and productivity, but higher production leads to higher emissions, resulting in increased temperature and damages that reduce production. Mitigation costs counterbalance this effect, creating a trade-off. As a result, there typically exists a meaningful joint time series of $\\mu_t$ and $S_t$ that maximizes $V$. Due to the discount factor $\\gamma$, $V$ depends on the future consumption sequence (non-invested production) within a few multiples of the time horizon, approximately $1/(1-\\gamma)$ time steps into the future."
   ]
  },
  {
   "cell_type": "markdown",
   "id": "8bac9956-301f-4297-aba4-bcde6a868aee",
   "metadata": {
    "execution": {}
   },
   "source": [
    "We gone over many variables so far in this tutorial. Here is a list of variables used fore easier reference:\n",
    "- $K$ capital\n",
    "- $Y$ productivity\n",
    "- $S$ savings rate\n",
    "- $\\mu$ mitigation rate\n",
    "- $E$ emissions\n",
    "- $\\sigma$ carbon intensity of production\n",
    "- $Q$ production\n",
    "- $\\gamma$ discount factor\n",
    "- $V$ value\n",
    "\n",
    "If you'd like to explore the mathematical equations behind these models in more detail, please refer to the information in the \"Further Reading\" section for this day."
   ]
  },
  {
   "cell_type": "markdown",
   "id": "498f30b6-ea7a-4f2f-9590-5c10e673bb71",
   "metadata": {
    "execution": {}
   },
   "source": [
    "# Section 3: DICE Simulations\n"
   ]
  },
  {
   "cell_type": "markdown",
   "id": "a0497260-d1ab-4d40-a7d9-142309cbfe86",
   "metadata": {
    "execution": {}
   },
   "source": [
    "Now, let's move to the DICE model that gives us some control over our emissions and consumption to see the effect of varying the parameters arising from the above design choices.\n",
    "\n",
    "I've forked an existing `Python` implementation of the [DICE2016 model](https://github.com/hazem2410/PyDICE) and refactored it into a class (defined in [`dicelib.py`](https://github.com/mptouzel/PyDICE/blob/master/dicelib.py)) and made a few other changes to make it easier to vary parameters. We'll use that [forked version](https://github.com/mptouzel/PyDICE/) in this tutorial.\n",
    "Note that the DICE model was recently updated ([DICE2023](https://www.nber.org/papers/w31112)).\n",
    "\n",
    "The model equations are described in a [document](https://github.com/hazem2410/PyDICE/blob/master/PyDICE2016.pdf) associated with the exising `Python` implementation."
   ]
  },
  {
   "cell_type": "markdown",
   "id": "d43c316a-3ab2-4a4e-9c08-12f44a744a42",
   "metadata": {
    "execution": {}
   },
   "source": [
    "## Section 3.1: Case 1 Standard Run"
   ]
  },
  {
   "cell_type": "markdown",
   "id": "eb960cfc-079b-48c1-9435-9b19f42cf09d",
   "metadata": {
    "execution": {}
   },
   "source": [
    "Let's run the standard run of the DICE model:"
   ]
  },
  {
   "cell_type": "code",
   "execution_count": null,
   "id": "2205ce8b-0825-4390-b8d0-eb644bd0ebca",
   "metadata": {
    "executionInfo": {
     "elapsed": 72615,
     "status": "ok",
     "timestamp": 1682429142278,
     "user": {
      "displayName": "Maximilian Puelma Touzel",
      "userId": "09308600515315501700"
     },
     "user_tz": 240
    },
    "tags": []
   },
   "outputs": [],
   "source": [
    "dice_std = dicelib.DICE()  # create an instance of the model\n",
    "dice_std.init_parameters()\n",
    "dice_std.init_variables()\n",
    "controls_start_std, controls_bounds_std = dice_std.get_control_bounds_and_startvalue()\n",
    "dice_std.optimize_controls(controls_start_std, controls_bounds_std);"
   ]
  },
  {
   "cell_type": "markdown",
   "id": "f01c1158-7e29-4158-97c9-f17c431495b2",
   "metadata": {
    "execution": {}
   },
   "source": [
    "Before assessing the results, let's first check that the optimal control solution is within the bounds we set. To do so, let's assess the mitigation rate and savings rate:"
   ]
  },
  {
   "cell_type": "code",
   "execution_count": null,
   "id": "4e371f58-1ac0-4645-b0d1-12e8ca68775d",
   "metadata": {
    "executionInfo": {
     "elapsed": 757,
     "status": "ok",
     "timestamp": 1682429143004,
     "user": {
      "displayName": "Maximilian Puelma Touzel",
      "userId": "09308600515315501700"
     },
     "user_tz": 240
    },
    "tags": []
   },
   "outputs": [],
   "source": [
    "fig, ax = plt.subplots(1, 2)\n",
    "max_year = 2100\n",
    "TT = dice_std.TT\n",
    "NT = dice_std.NT\n",
    "upp, low = zip(*controls_bounds_std[:NT])\n",
    "ax[0].plot(TT, dice_std.optimal_controls[:NT], label=\"optimal\")\n",
    "ax[0].plot(TT, upp, \"k--\", label=\"bounds\")\n",
    "ax[0].plot(TT, low, \"k--\")\n",
    "ax[0].set_ylabel(\"mitigation rate\")\n",
    "ax[0].set_xlim(2000, max_year)\n",
    "ax[0].legend(frameon=False)\n",
    "upp, low = zip(*controls_bounds_std[NT:])\n",
    "ax[1].plot(TT, dice_std.optimal_controls[NT:])\n",
    "ax[1].plot(TT, upp, \"k--\")\n",
    "ax[1].plot(TT, low, \"k--\")\n",
    "ax[1].set_ylabel(\"savings rate\")\n",
    "ax[1].set_xlabel(\"year\")\n",
    "ax[1].set_xlim(2000, max_year)\n",
    "\n",
    "fig.tight_layout()"
   ]
  },
  {
   "cell_type": "markdown",
   "id": "20359f37-e2be-44d5-a16b-f90c4cb7caf5",
   "metadata": {
    "execution": {}
   },
   "source": [
    "### Coding Exercise 3.1\n",
    "1. Please change `max_year` to 2500 in the cell above to see what happens after 2100. What does the mitigation rate do?\n",
    "\n",
    "TODO Might inspire an En-ROADs exercise.. low priority"
   ]
  },
  {
   "cell_type": "code",
   "execution_count": null,
   "id": "b117613b-0382-4cec-a2fe-d8bc214503b9",
   "metadata": {},
   "outputs": [],
   "source": [
    "fig, ax = plt.subplots(1, 2)\n",
    "max_year = ...\n",
    "TT = dice_std.TT\n",
    "NT = dice_std.NT\n",
    "upp, low = zip(*controls_bounds_std[:NT])\n",
    "ax[0].plot(TT, dice_std.optimal_controls[:NT], label=\"optimal\")\n",
    "ax[0].plot(TT, upp, \"k--\", label=\"bounds\")\n",
    "ax[0].plot(TT, low, \"k--\")\n",
    "ax[0].set_ylabel(\"mitigation rate\")\n",
    "# Set limits\n",
    "_ = ...\n",
    "ax[0].legend(frameon=False)\n",
    "upp, low = zip(*controls_bounds_std[NT:])\n",
    "ax[1].plot(TT, dice_std.optimal_controls[NT:])\n",
    "ax[1].plot(TT, upp, \"k--\")\n",
    "ax[1].plot(TT, low, \"k--\")\n",
    "ax[1].set_ylabel(\"savings rate\")\n",
    "ax[1].set_xlabel(\"year\")\n",
    "# Set limits\n",
    "_ = ...\n",
    "\n",
    "fig.tight_layout()"
   ]
  },
  {
   "cell_type": "code",
   "execution_count": null,
   "id": "d4e1601a-d4a2-4d56-ac16-60b0c3aec888",
   "metadata": {},
   "outputs": [],
   "source": [
    "# to_remove solution\n",
    "fig, ax = plt.subplots(1, 2)\n",
    "max_year = 2500\n",
    "TT = dice_std.TT\n",
    "NT = dice_std.NT\n",
    "upp, low = zip(*controls_bounds_std[:NT])\n",
    "ax[0].plot(TT, dice_std.optimal_controls[:NT], label=\"optimal\")\n",
    "ax[0].plot(TT, upp, \"k--\", label=\"bounds\")\n",
    "ax[0].plot(TT, low, \"k--\")\n",
    "ax[0].set_ylabel(\"mitigation rate\")\n",
    "# Set limits\n",
    "_ = ax[0].set_xlim(2000, max_year)\n",
    "ax[0].legend(frameon=False)\n",
    "upp, low = zip(*controls_bounds_std[NT:])\n",
    "ax[1].plot(TT, dice_std.optimal_controls[NT:])\n",
    "ax[1].plot(TT, upp, \"k--\")\n",
    "ax[1].plot(TT, low, \"k--\")\n",
    "ax[1].set_ylabel(\"savings rate\")\n",
    "ax[1].set_xlabel(\"year\")\n",
    "# Set limits\n",
    "_ = ax[1].set_xlim(2000, max_year)\n",
    "\n",
    "fig.tight_layout()"
   ]
  },
  {
   "cell_type": "code",
   "execution_count": null,
   "id": "b10c55c4-d00a-4930-82e2-64438575a58e",
   "metadata": {},
   "outputs": [],
   "source": [
    "# to_remove explanation\n",
    "\n",
    "\"\"\"\n",
    "After 2100, the mitigation rate stops increasing and remains constant at a value of 1 until ~2140 at which point there is a rapid increase in mitigation rate followed by an immediate plateau at a value that exceeds 1. This occurs because the model incorporates the effects of negative emission technologies.\n",
    "\n",
    "\"\"\";"
   ]
  },
  {
   "cell_type": "markdown",
   "id": "1a2db365-be7b-4106-b403-46113f6a524e",
   "metadata": {
    "execution": {}
   },
   "source": [
    "\n",
    "The model incorporates the effects of negative emission technologies by allowing the mitigation rate (via the bounds) to exceed 1 around the year 2140. It is worth noting that the solution explicitly utilizes this feature and would do so even before 2100 if permitted. The decision to include this behavior was made by the modellers who realized that it enabled feasible solutions for the higher forcing SSP scenarios that were previously unattainable.\n",
    "\n",
    "At the time, there was a lively debate surrounding this decision, although it was largely in favor of allowing mitigation rates greater than 1. As a result, such rates have become a standard feature in many models for high forcing regimes. However, it is important to acknowledge that there have been arguments against this practice, as discussed in [Anderson & Peters, 2006](https://DOI:10.1126/science.aah45).\n",
    "\n",
    "In the final two tutorials, we will explore sociological aspects such as these.\n",
    "\n",
    "Now, let's examine the remaining variables of the DICE model:"
   ]
  },
  {
   "cell_type": "code",
   "execution_count": null,
   "id": "de7a8463-e78b-4ba2-983b-b494501c6c29",
   "metadata": {
    "executionInfo": {
     "elapsed": 1122,
     "status": "ok",
     "timestamp": 1682429144121,
     "user": {
      "displayName": "Maximilian Puelma Touzel",
      "userId": "09308600515315501700"
     },
     "user_tz": 240
    },
    "tags": []
   },
   "outputs": [],
   "source": [
    "dice_std.roll_out(dice_std.optimal_controls)\n",
    "dice_std.plot_run(\"standard run\")"
   ]
  },
  {
   "cell_type": "markdown",
   "id": "acbe316e-4552-4058-a2e6-84fe88b17967",
   "metadata": {
    "execution": {}
   },
   "source": [
    "In this plot, the mitigation rate we looked at earlier is now referred to as the \"Em rate\" (orange line), which closely follows the patter of the carbon price (green line). Similarly, the rate of CO2 emissions (gray line) aligns with the industrial emissions (red line). Cumulative emissions (pink line) reach their peak around 2090, considering that negative emission technologies (NETs) are not employed until 2140."
   ]
  },
  {
   "cell_type": "markdown",
   "id": "6f5fe4bf-2c76-4ad1-9c24-14bb332f705e",
   "metadata": {
    "execution": {}
   },
   "source": [
    "## Section 3.2: Case 2 Damage Functions"
   ]
  },
  {
   "cell_type": "markdown",
   "id": "b6350e06-1afd-46fd-b242-6145476f1ae7",
   "metadata": {
    "execution": {}
   },
   "source": [
    "The rate at which we increase our mitigation efforts in the standard scenario depends on the projected damage caused by climate change (brown line in the plot above), which is determined by the parameters of the damage function. The question is, how responsive is our response to these parameters?"
   ]
  },
  {
   "cell_type": "markdown",
   "id": "a20ba64c-231b-43ca-a457-a3927faa8eaf",
   "metadata": {
    "execution": {}
   },
   "source": [
    "### Coding Exercise 3.2\n",
    "TODO Might inspire an En-ROADs exercise..\n",
    "Change the strength of the nonlinearity in the damage function by changing the exponent from 2 to 3."
   ]
  },
  {
   "cell_type": "code",
   "execution_count": null,
   "id": "c43c4450-abfa-4532-b250-efe19cb9f189",
   "metadata": {},
   "outputs": [],
   "source": [
    "for a3 in [2, 3]:\n",
    "    dice = dicelib.DICE()\n",
    "    dice.init_parameters(a3=a3)\n",
    "    dice.init_variables()\n",
    "    controls_start, controls_bounds = dice.get_control_bounds_and_startvalue()\n",
    "    dice.optimize_controls(controls_start, controls_bounds)\n",
    "    dice.roll_out(dice.optimal_controls)\n",
    "    dice.plot_run(\"damage function exponent, a3=\" + str(a3))"
   ]
  },
  {
   "cell_type": "code",
   "execution_count": null,
   "id": "452e9f02-929d-4003-a1b7-e341d5c5e9ba",
   "metadata": {
    "executionInfo": {
     "elapsed": 144928,
     "status": "ok",
     "timestamp": 1682429289045,
     "user": {
      "displayName": "Maximilian Puelma Touzel",
      "userId": "09308600515315501700"
     },
     "user_tz": 240
    },
    "tags": []
   },
   "outputs": [],
   "source": [
    "# to_remove solution\n",
    "for a3 in [2, 3]:\n",
    "    dice = dicelib.DICE()\n",
    "    dice.init_parameters(a3=a3)\n",
    "    dice.init_variables()\n",
    "    controls_start, controls_bounds = dice.get_control_bounds_and_startvalue()\n",
    "    dice.optimize_controls(controls_start, controls_bounds)\n",
    "    dice.roll_out(dice.optimal_controls)\n",
    "    dice.plot_run(\"damage function exponent, a3=\" + str(a3))"
   ]
  },
  {
   "cell_type": "markdown",
   "id": "30d543e5-729f-4fbf-a555-a7151b50eac5",
   "metadata": {
    "execution": {}
   },
   "source": [
    "### Questions 3.2\n",
    "1. What are the main differences between these two projections?"
   ]
  },
  {
   "cell_type": "code",
   "execution_count": null,
   "id": "537bec3f-7508-4d42-93cd-987eb1a53c90",
   "metadata": {},
   "outputs": [],
   "source": [
    "# to_remove explanation\n",
    "\n",
    "\"\"\"\n",
    "1.The carbon price and the mitigation rate reach their peaks much earlier in the second scenario and the industrial emission and damages also reach the low plateau earlier.\n",
    "\"\"\";"
   ]
  },
  {
   "cell_type": "markdown",
   "id": "a459bb3e-0b57-43ee-b859-9cf9e7818080",
   "metadata": {
    "execution": {}
   },
   "source": [
    "IAMs model climate damages as affecting productivity only in the year in which they occur. What if the negative effects on productivity persist into the future? A persistence time can be added to damages such that damage incurred in one year can continue affecting productivity into following years (c.f. [Schultes et al. *Environ. Res. Lett.* (2021)](https://iopscience.iop.org/article/10.1088/1748-9326/ac27ce/pdf); [Hansel et al. *Nat. Clim. Change* (2020)](https://eprints.lse.ac.uk/105699/1/Climate_economics_support_for_the_UN_climate_targets_2.pdf)). These effects are not negligible, but are absent from current IAMs used by the IPCC."
   ]
  },
  {
   "cell_type": "markdown",
   "id": "0a5c7f7c-a29d-4c2d-8dd6-ed65300ce28a",
   "metadata": {
    "execution": {}
   },
   "source": [
    "## Section 3.3: Case 3 Discount Rate"
   ]
  },
  {
   "cell_type": "markdown",
   "id": "70ebbf6a-6265-48d0-89b0-d4240481012f",
   "metadata": {
    "execution": {}
   },
   "source": [
    "The value definition includes exponential temporal discounting (i.e. devaluation of utilities over time) at a rate of r = 1.5% per year so that utility obtained $t$ years into the future is scaled down by $1/(1+r)^t$. What if we set this rate lower so that we don't down scale as quickly (i.e. utilities have more value for longer) and incorporate more in the value definition of what happens in the future when we make decisions?"
   ]
  },
  {
   "cell_type": "markdown",
   "id": "4a0f708f-99c4-4313-8582-e29551ab8f3e",
   "metadata": {
    "execution": {}
   },
   "source": [
    "### Coding Exercise 3.3\n",
    "TODO Might inspire an En-ROADs exercise..\n",
    "\n",
    "Change the discount rate from 1.5% to 0.5% (c.f. [Arrow et al. *Science* (2013)](https://www.science.org/doi/10.1126/science.1235665))."
   ]
  },
  {
   "cell_type": "code",
   "execution_count": null,
   "id": "0f985a9a-819a-4f18-8f47-d0ab1e11eaae",
   "metadata": {},
   "outputs": [],
   "source": [
    "for prstp in [0.015, 0.005]:\n",
    "    dice = dicelib.DICE()\n",
    "    dice.init_parameters(prstp=prstp)\n",
    "    dice.init_variables()\n",
    "    controls_start, controls_bounds = dice.get_control_bounds_and_startvalue()\n",
    "    dice.optimize_controls(controls_start, controls_bounds)\n",
    "    dice.roll_out(dice.optimal_controls)\n",
    "    dice.plot_run(\"discount rate, r=\" + str(prstp))"
   ]
  },
  {
   "cell_type": "code",
   "execution_count": null,
   "id": "97441544-67b3-4d98-82c4-788ddd8025ca",
   "metadata": {
    "executionInfo": {
     "elapsed": 148005,
     "status": "ok",
     "timestamp": 1682429437045,
     "user": {
      "displayName": "Maximilian Puelma Touzel",
      "userId": "09308600515315501700"
     },
     "user_tz": 240
    },
    "tags": []
   },
   "outputs": [],
   "source": [
    "# to_remove solution\n",
    "for prstp in [0.015, 0.005]:\n",
    "    dice = dicelib.DICE()\n",
    "    dice.init_parameters(prstp=prstp)\n",
    "    dice.init_variables()\n",
    "    controls_start, controls_bounds = dice.get_control_bounds_and_startvalue()\n",
    "    dice.optimize_controls(controls_start, controls_bounds)\n",
    "    dice.roll_out(dice.optimal_controls)\n",
    "    dice.plot_run(\"discount rate, r=\" + str(prstp))"
   ]
  },
  {
   "cell_type": "markdown",
   "id": "223ced0c-03c2-40f4-9e10-e74e025884fc",
   "metadata": {
    "execution": {}
   },
   "source": [
    "### Questions 3.3\n",
    "1. How are the differences in these two sets of projections consistent with the change in the discount rate? "
   ]
  },
  {
   "cell_type": "code",
   "execution_count": null,
   "id": "39d84c6d-0acd-4120-94c4-1848e3b60d17",
   "metadata": {},
   "outputs": [],
   "source": [
    "# to_remove explanation\n",
    "\n",
    "\"\"\"\n",
    "1. As the discount rate decreases, carbon price, mitigation rate, industrial emissions, and damages reach their peaks sooner.\n",
    "\"\"\";"
   ]
  },
  {
   "cell_type": "markdown",
   "id": "de2b0d68-9975-4c4e-8a07-4ab272b56fa2",
   "metadata": {
    "execution": {}
   },
   "source": [
    "## Section 3.4: Case 4 the Utility Function"
   ]
  },
  {
   "cell_type": "markdown",
   "id": "229df051-beeb-4ccb-a145-e0003c519423",
   "metadata": {
    "execution": {}
   },
   "source": [
    "TODO: SKIP\n",
    "\n",
    "These models use an elasticity of consumption when defining the utility function that serves as the basis for the value definition. Recall that elasticity describes the sensitivity of utility to changes in comsumption. Here, the elasticity parameter is the exponent called `elasmu`."
   ]
  },
  {
   "cell_type": "markdown",
   "id": "e4b7c44d-85de-4904-b20c-e844c2c07292",
   "metadata": {
    "execution": {}
   },
   "source": [
    "Let's vary this elasticity exponent:"
   ]
  },
  {
   "cell_type": "code",
   "execution_count": null,
   "id": "5d33c72e-e1de-4ef0-986e-d397349e4f04",
   "metadata": {
    "executionInfo": {
     "elapsed": 117793,
     "status": "ok",
     "timestamp": 1682429554834,
     "user": {
      "displayName": "Maximilian Puelma Touzel",
      "userId": "09308600515315501700"
     },
     "user_tz": 240
    },
    "tags": []
   },
   "outputs": [],
   "source": [
    "for elasmu in [1.45, 2.0]:\n",
    "    dice = dicelib.DICE()\n",
    "    dice.init_parameters(elasmu=elasmu)\n",
    "    dice.init_variables()\n",
    "    controls_start, controls_bounds = dice.get_control_bounds_and_startvalue()\n",
    "    dice.optimize_controls(controls_start, controls_bounds)\n",
    "    dice.roll_out(dice.optimal_controls)\n",
    "    dice.plot_run(\"elasticity exponent, elasmu=\" + str(elasmu))"
   ]
  },
  {
   "cell_type": "markdown",
   "id": "9817f01b-2c46-49e1-b676-8b401c30e4de",
   "metadata": {
    "execution": {}
   },
   "source": [
    "### Questions 3.4\n",
    "1. How are the differences in these two sets of projections consistent with the change in the elasticity? "
   ]
  },
  {
   "cell_type": "code",
   "execution_count": null,
   "id": "aac36c6b-d794-4fed-8e3a-5ca3d7267420",
   "metadata": {},
   "outputs": [],
   "source": [
    "# to_remove explanation\n",
    "\n",
    "\"\"\"\n",
    "As the elasticity exponent increase, we also observe an increased and slightly delayed peak value of damages and industrial emissions, while the emission rate and carbon price decrease.\n",
    "\"\"\";"
   ]
  },
  {
   "cell_type": "code",
   "execution_count": null,
   "id": "8a20b902-bdf6-4e50-a917-002e38564a97",
   "metadata": {},
   "outputs": [],
   "source": []
  }
 ],
 "metadata": {
  "kernelspec": {
   "display_name": "Python 3 (ipykernel)",
   "language": "python",
   "name": "python3"
  },
  "language_info": {
   "codemirror_mode": {
    "name": "ipython",
    "version": 3
   },
   "file_extension": ".py",
   "mimetype": "text/x-python",
   "name": "python",
   "nbconvert_exporter": "python",
   "pygments_lexer": "ipython3",
   "version": "3.9.18"
  }
 },
 "nbformat": 4,
 "nbformat_minor": 5
}
