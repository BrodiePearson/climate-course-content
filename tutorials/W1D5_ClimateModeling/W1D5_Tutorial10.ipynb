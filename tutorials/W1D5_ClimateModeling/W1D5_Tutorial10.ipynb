{
 "cells": [
  {
   "cell_type": "markdown",
   "metadata": {
    "execution": {}
   },
   "source": [
    "[![Open In Colab](https://colab.research.google.com/assets/colab-badge.svg)](https://colab.research.google.com/github/neuromatch/climate-course-content/blob/main/tutorials/W1D5_ClimateModeling/W1D5_Tutorial7.ipynb) &nbsp; <a href=\"https://kaggle.com/kernels/welcome?src=https://raw.githubusercontent.com/neuromatch/climate-course-content/main/tutorials/W1D5_ClimateModeling/W1D5_Tutorial7.ipynb\" target=\"_parent\"><img src=\"https://kaggle.com/static/images/open-in-kaggle.svg\" alt=\"Open in Kaggle\"/></a>"
   ]
  },
  {
   "cell_type": "markdown",
   "metadata": {
    "execution": {},
    "jp-MarkdownHeadingCollapsed": true
   },
   "source": [
    "# Bonus Tutorial 10: Surface energy balance in an ESM\n",
    "\n",
    "\n",
    "**Week 1, Day 5, Climate Modeling**\n",
    "\n",
    "**Content creators:** Brodie Pearson, Jenna Pearson, Julius Busecke, Tom Nicholas, and Brian E. J. Rose\n",
    "\n",
    "**Content reviewers:** Yunlong Xu, Will Gregory, Peter Ohue, Derick Temfack, Zahra Khodakaramimaghsoud, Peizhen Yang, Younkap Nina Duplex, Ohad Zivan, Chi Zhang\n",
    "\n",
    "**Content editors:** Abigail Bodner, Ohad Zivan, Chi Zhang\n",
    "\n",
    "**Production editors:** Wesley Banfield, Jenna Pearson, Chi Zhang, Ohad Zivan\n",
    "\n",
    "**Our 2024 Sponsors:** NASA TOPS, Google DeepMind, CMIP, NFDI4Earth\n",
    "\n"
   ]
  },
  {
   "cell_type": "markdown",
   "metadata": {
    "execution": {}
   },
   "source": [
    "# Tutorial Objectives\n",
    "\n",
    "By the end of this tutorial students will be able to:\n",
    "* Load atmospheric data from the Community Earth System Model (CESM), which was used in the most recent [Coupled Model Intercomparison Project (CMIP6)](https://wcrp-cmip.org/cmip-phase-6-cmip6/)\n",
    "* Analyze the zonal-mean surface energy budget of a realistic climate model (i.e., the budget at each latitude)\n",
    "* Link variations in different surface heat flux to physical differences in the air-surface conditions across regions.\n"
   ]
  },
  {
   "cell_type": "markdown",
   "metadata": {
    "execution": {}
   },
   "source": [
    "# Setup"
   ]
  },
  {
   "cell_type": "code",
   "execution_count": null,
   "metadata": {
    "executionInfo": {
     "elapsed": 148771,
     "status": "ok",
     "timestamp": 1682000677034,
     "user": {
      "displayName": "Wesley Banfield",
      "userId": "15738596203150760123"
     },
     "user_tz": -120
    },
    "tags": [
     "colab"
    ]
   },
   "outputs": [],
   "source": [
    "# installations ( uncomment and run this cell ONLY when using google colab or kaggle )\n",
    "\n",
    "# note the conda install takes quite a while, but conda is REQUIRED to properly download the\n",
    "# dependencies (that are not just python packages)\n",
    "\n",
    "# !pip install condacolab &> /dev/null\n",
    "# import condacolab\n",
    "# condacolab.install()\n",
    "\n",
    "# crucial to install all packages in one line, otherwise code will fail.\n",
    "# !mamba install xarray-datatree intake-esm gcsfs xmip aiohttp cartopy nc-time-axis cf_xarray xarrayutils &> /dev/null"
   ]
  },
  {
   "cell_type": "code",
   "execution_count": null,
   "metadata": {
    "executionInfo": {
     "elapsed": 521,
     "status": "error",
     "timestamp": 1682000677547,
     "user": {
      "displayName": "Wesley Banfield",
      "userId": "15738596203150760123"
     },
     "user_tz": -120
    }
   },
   "outputs": [],
   "source": [
    "# imports\n",
    "\n",
    "# google colab users, if you get an error please run this cell again\n",
    "\n",
    "import intake\n",
    "import numpy as np\n",
    "import matplotlib.pyplot as plt\n",
    "import xarray as xr\n",
    "\n",
    "from xmip.preprocessing import combined_preprocessing\n",
    "from xarrayutils.plotting import shaded_line_plot\n",
    "from xmip.utils import google_cmip_col\n",
    "\n",
    "from datatree import DataTree\n",
    "from xmip.postprocessing import _parse_metric\n",
    "\n",
    "import cartopy.crs as ccrs"
   ]
  },
  {
   "cell_type": "code",
   "execution_count": null,
   "metadata": {
    "cellView": "form"
   },
   "outputs": [],
   "source": [
    "# @title Figure Settings\n",
    "import ipywidgets as widgets       # interactive display\n",
    "%config InlineBackend.figure_format = 'retina'\n",
    "plt.style.use(\"https://raw.githubusercontent.com/ClimateMatchAcademy/course-content/main/cma.mplstyle\")"
   ]
  },
  {
   "cell_type": "code",
   "execution_count": null,
   "metadata": {
    "cellView": "form",
    "tags": []
   },
   "outputs": [],
   "source": [
    "# @title Video 1: Introduction to Earth System Models\n",
    "\n",
    "from ipywidgets import widgets\n",
    "from IPython.display import YouTubeVideo\n",
    "from IPython.display import IFrame\n",
    "from IPython.display import display\n",
    "\n",
    "\n",
    "class PlayVideo(IFrame):\n",
    "  def __init__(self, id, source, page=1, width=400, height=300, **kwargs):\n",
    "    self.id = id\n",
    "    if source == 'Bilibili':\n",
    "      src = f'https://player.bilibili.com/player.html?bvid={id}&page={page}'\n",
    "    elif source == 'Osf':\n",
    "      src = f'https://mfr.ca-1.osf.io/render?url=https://osf.io/download/{id}/?direct%26mode=render'\n",
    "    super(PlayVideo, self).__init__(src, width, height, **kwargs)\n",
    "\n",
    "\n",
    "def display_videos(video_ids, W=400, H=300, fs=1):\n",
    "  tab_contents = []\n",
    "  for i, video_id in enumerate(video_ids):\n",
    "    out = widgets.Output()\n",
    "    with out:\n",
    "      if video_ids[i][0] == 'Youtube':\n",
    "        video = YouTubeVideo(id=video_ids[i][1], width=W,\n",
    "                             height=H, fs=fs, rel=0)\n",
    "        print(f'Video available at https://youtube.com/watch?v={video.id}')\n",
    "      else:\n",
    "        video = PlayVideo(id=video_ids[i][1], source=video_ids[i][0], width=W,\n",
    "                          height=H, fs=fs, autoplay=False)\n",
    "        if video_ids[i][0] == 'Bilibili':\n",
    "          print(f'Video available at https://www.bilibili.com/video/{video.id}')\n",
    "        elif video_ids[i][0] == 'Osf':\n",
    "          print(f'Video available at https://osf.io/{video.id}')\n",
    "      display(video)\n",
    "    tab_contents.append(out)\n",
    "  return tab_contents\n",
    "\n",
    "\n",
    "video_ids = [('Youtube', 'e3O9DmhE46Y'), ('Bilibili', 'BV1qh4y1G7EC')]\n",
    "tab_contents = display_videos(video_ids, W=730, H=410)\n",
    "tabs = widgets.Tab()\n",
    "tabs.children = tab_contents\n",
    "for i in range(len(tab_contents)):\n",
    "  tabs.set_title(i, video_ids[i][0])\n",
    "display(tabs)"
   ]
  },
  {
   "cell_type": "code",
   "execution_count": null,
   "metadata": {
    "cellView": "form",
    "pycharm": {
     "name": "#%%\n"
    },
    "tags": [
     "remove-input"
    ]
   },
   "outputs": [],
   "source": [
    "# @markdown\n",
    "from ipywidgets import widgets\n",
    "from IPython.display import IFrame\n",
    "\n",
    "link_id = \"dn8hs\"\n",
    "\n",
    "download_link = f\"https://osf.io/download/{link_id}/\"\n",
    "render_link = f\"https://mfr.ca-1.osf.io/render?url=https://osf.io/{link_id}/?direct%26mode=render%26action=download%26mode=render\"\n",
    "# @markdown\n",
    "out = widgets.Output()\n",
    "with out:\n",
    "    print(f\"If you want to download the slides: {download_link}\")\n",
    "    display(IFrame(src=f\"{render_link}\", width=730, height=410))\n",
    "display(out)"
   ]
  },
  {
   "cell_type": "markdown",
   "metadata": {
    "execution": {}
   },
   "source": [
    "# Section 1: Atmospheric data from the Community Earth System Model (CESM)"
   ]
  },
  {
   "cell_type": "markdown",
   "metadata": {
    "execution": {}
   },
   "source": [
    "In this tutorial, we will repeat the CMIP6 data access from the previous tutorial, but this time we will look at data from the _atmospheric_ component of the Community Earth System Model](https://www.cesm.ucar.edu/models/cesm2) (**CESM2**)\n",
    "\n",
    "We will be analyzing output from a **historical simulation** of CESM2, which covers the period 1850 to 2015 using the historicallly observed forcing of the climate system."
   ]
  },
  {
   "cell_type": "markdown",
   "metadata": {
    "execution": {}
   },
   "source": [
    "## Section 1.1: Finding & Opening CMIP6 Data with Xarray\n",
    "\n",
    "As a reminder, to access the data we will first load an [intake-esm](https://intake-esm.readthedocs.io/en/stable/) catalog object based on a CSV file that is maintained by the pangeo community. \n",
    "\n",
    "Then, we will search the catalog for our *facets* of interest. Here we will be using `table_id=\"Amon\"` for monthly atmospheric model output. We will use a list of different `variable_id` values corresponding to physical components of the energy budget at Earth's surface."
   ]
  },
  {
   "cell_type": "code",
   "execution_count": null,
   "metadata": {
    "executionInfo": {
     "elapsed": 8712,
     "status": "ok",
     "timestamp": 1681772839862,
     "user": {
      "displayName": "Brodie Pearson",
      "userId": "05269028596972519847"
     },
     "user_tz": 420
    }
   },
   "outputs": [],
   "source": [
    "col = intake.open_esm_datastore(\n",
    "    \"https://storage.googleapis.com/cmip6/pangeo-cmip6.json\"\n",
    ")  # open an intake catalog containing the Pangeo CMIP cloud data\n",
    "\n",
    "\n",
    "# from the full `col` object, create a subset using facet search\n",
    "cat = col.search(\n",
    "    source_id=\"CESM2\",\n",
    "    variable_id=[\n",
    "        \"hfls\",\n",
    "        \"hfss\",\n",
    "        \"rlds\",\n",
    "        \"rlus\",\n",
    "        \"rsds\",\n",
    "        \"rsus\",\n",
    "        \"tas\",\n",
    "    ],\n",
    "    member_id=\"r1i1p1f1\",\n",
    "    table_id=\"Amon\",\n",
    "    grid_label=\"gn\",\n",
    "    experiment_id=[\"historical\", \"hist-nat\"],\n",
    "    require_all_on=[\n",
    "        \"source_id\"\n",
    "    ],  # make sure that we only get models which have all of the above experiments\n",
    ")\n",
    "\n",
    "# convert the sub-catalog into a datatree object, by opening each dataset into an Xarray.Dataset (without loading the data)\n",
    "kwargs = dict(\n",
    "    preprocess=combined_preprocessing,  # apply xMIP fixes to each dataset\n",
    "    xarray_open_kwargs=dict(\n",
    "        use_cftime=True\n",
    "    ),  # ensure all datasets use the same time index\n",
    "    storage_options={\n",
    "        \"token\": \"anon\"\n",
    "    },  # anonymous/public authentication to google cloud storage\n",
    ")\n",
    "\n",
    "cat.esmcat.aggregation_control.groupby_attrs = [\"source_id\", \"experiment_id\"]\n",
    "dt = cat.to_datatree(**kwargs)"
   ]
  },
  {
   "cell_type": "markdown",
   "metadata": {
    "execution": {}
   },
   "source": [
    "## Section 1.2: Checking the CMIP6 Datasets\n",
    "\n",
    "As in the previous tutorial, we now have a \"[datatree](https://xarray-datatree.readthedocs.io/en/latest/quick-overview.html)\" containing the data we searched for:"
   ]
  },
  {
   "cell_type": "code",
   "execution_count": null,
   "metadata": {
    "executionInfo": {
     "elapsed": 1263,
     "status": "ok",
     "timestamp": 1681700860145,
     "user": {
      "displayName": "Brodie Pearson",
      "userId": "05269028596972519847"
     },
     "user_tz": 420
    }
   },
   "outputs": [],
   "source": [
    "dt"
   ]
  },
  {
   "cell_type": "markdown",
   "metadata": {
    "execution": {}
   },
   "source": [
    "Now, let's pull out relevant CESM2 datasets from the datatree; the *historical* simulation (human & natural forcing) and the *hist-nat* simulation (natural forcing only)."
   ]
  },
  {
   "cell_type": "code",
   "execution_count": null,
   "metadata": {
    "executionInfo": {
     "elapsed": 9,
     "status": "ok",
     "timestamp": 1681701678408,
     "user": {
      "displayName": "Brodie Pearson",
      "userId": "05269028596972519847"
     },
     "user_tz": 420
    }
   },
   "outputs": [],
   "source": [
    "# the historical including anthropogenic forcing\n",
    "hist_dt = dt[\"CESM2\"][\"historical\"]\n",
    "hist_dt"
   ]
  },
  {
   "cell_type": "code",
   "execution_count": null,
   "metadata": {
    "executionInfo": {
     "elapsed": 209,
     "status": "ok",
     "timestamp": 1681701679742,
     "user": {
      "displayName": "Brodie Pearson",
      "userId": "05269028596972519847"
     },
     "user_tz": 420
    }
   },
   "outputs": [],
   "source": [
    "# the historical run without anthropogenic forcing\n",
    "hist_nat = dt[\"CESM2\"][\"hist-nat\"]\n",
    "hist_nat"
   ]
  },
  {
   "cell_type": "markdown",
   "metadata": {
    "execution": {}
   },
   "source": [
    "# Section 2:  Surface Energy Balance"
   ]
  },
  {
   "cell_type": "markdown",
   "metadata": {
    "execution": {}
   },
   "source": [
    "\n",
    "Up until this point we have been analyzing budgets at the top of the atmosphere. Now we will move to Earth's surface, where we will run into both familiar and unfamiliar terminology. \n",
    "\n",
    "The first two terms we will analyze define the radiative component of the surface energy budget: shortwave and longwave radiation. For each of these terms, there is an upwelling and downwelling component. This is because, for example, some of the downwelling shortwave radiation is reflected back upwards due to the surface albedo. Similarly, some upwelling longwave radiation from Earth is absorbed by the atmosphere and re-emitted back towards the surface. The net radiative flux is given as \n",
    "\n",
    "\\begin{align}\n",
    "R_{net} = [R_{\\uparrow S} - R_{\\downarrow S}] + [R_{\\uparrow L} - R_{\\downarrow L}]\n",
    "\\end{align}\n",
    "\n",
    "where the arrows indicate up(down)welling and the $S$ and $L$ are shortwave and longwave. Note that in keeping with the rest of the variables we will look at, the net radiation is defined so that a positive value refers to an upward flux of energy from the ocean or land to the atmosphere. That is, positive indicates heat transport upwards and away from the surface.\n",
    "\n",
    "We will also be looking at latent and sensible heat. **[Sensible heat](https://glossary.ametsoc.org/wiki/Sensible_heat)** is the heat transferred due to a temperature difference between touching materials, for example between the air and the land or ocean surface. In this case, if the surface air is warmer than the land/ocean then heat is transferred from the air to the land/ocean (which is a downward or negative sensible heat flux), with an opposite-direction transfer if the air was colder than the land/ocean.\n",
    "\n",
    "**[Latent heat](https://glossary.ametsoc.org/wiki/Latent_heat)** is due to evaporation and condensation of water, as these phase changes absorb and release heat respectively. Here 'latent' means hidden, in that the energy is stored in molecules and there is no temperature change sensed through a thermometer even though a heat transfer takes place.\n",
    "\n",
    "While these are not the only terms that comprise the surface energy budget (i.e. geothermal heating, latent heat of fusion for melting ice or snow, biological processes) these are typically the dominant terms that set the global patterns.\n",
    "\n",
    "Let's take a look at the `long_name` of some variables we just downloaded.\n"
   ]
  },
  {
   "cell_type": "code",
   "execution_count": null,
   "metadata": {
    "executionInfo": {
     "elapsed": 353,
     "status": "ok",
     "timestamp": 1681701687079,
     "user": {
      "displayName": "Brodie Pearson",
      "userId": "05269028596972519847"
     },
     "user_tz": 420
    }
   },
   "outputs": [],
   "source": [
    "(\n",
    "    hist_dt.hfls.long_name,\n",
    "    hist_dt.hfss.long_name,\n",
    "    hist_dt.rlds.long_name,\n",
    "    hist_dt.rlus.long_name,\n",
    "    hist_dt.rsds.long_name,\n",
    "    hist_dt.rsus.long_name,\n",
    ")"
   ]
  },
  {
   "cell_type": "code",
   "execution_count": null,
   "metadata": {},
   "outputs": [],
   "source": [
    "# predefine heat fluxes for each experiement, take annual means\n",
    "\n",
    "# model output variables (.squeeze() removes singleton dimensions)\n",
    "hist_am_latent_heat_flux = hist_dt.ds.hfls.mean(dim=\"time\").squeeze()\n",
    "hist_am_sensible_heat_flux = hist_dt.ds.hfss.mean(dim=\"time\").squeeze()\n",
    "hist_am_downwelling_longwave_flux = hist_dt.ds.rlds.mean(dim=\"time\").squeeze()\n",
    "hist_am_upwelling_longwave_flux = hist_dt.ds.rlus.mean(dim=\"time\").squeeze()\n",
    "hist_am_downwelling_shortwave_flux = hist_dt.ds.rsds.mean(dim=\"time\").squeeze()\n",
    "hist_am_upwelling_shortwave_flux = hist_dt.ds.rsus.mean(dim=\"time\").squeeze()\n",
    "\n",
    "# derived variables\n",
    "hist_am_net_shortwave_heat_flux = (\n",
    "    hist_am_upwelling_shortwave_flux - hist_am_downwelling_shortwave_flux\n",
    ")\n",
    "hist_am_net_longwave_heat_flux = (\n",
    "    hist_am_upwelling_longwave_flux - hist_am_downwelling_longwave_flux\n",
    ")\n",
    "hist_am_net_heat_flux = (\n",
    "    hist_am_net_shortwave_heat_flux\n",
    "    + hist_am_net_longwave_heat_flux\n",
    "    + hist_am_latent_heat_flux\n",
    "    + hist_am_sensible_heat_flux\n",
    ")"
   ]
  },
  {
   "cell_type": "markdown",
   "metadata": {
    "execution": {}
   },
   "source": [
    "Now we will plot the annual mean over the historical time period 1850-2015."
   ]
  },
  {
   "cell_type": "code",
   "execution_count": null,
   "metadata": {
    "executionInfo": {
     "elapsed": 99914,
     "status": "ok",
     "timestamp": 1681701792787,
     "user": {
      "displayName": "Brodie Pearson",
      "userId": "05269028596972519847"
     },
     "user_tz": 420
    }
   },
   "outputs": [],
   "source": [
    "%matplotlib inline\n",
    "\n",
    "fig, ([ax_latent, ax_shortwave], [ax_sensible, ax_longwave]) = plt.subplots(\n",
    "    ncols=2, nrows=2, figsize=[12, 6], subplot_kw={\"projection\": ccrs.Robinson()}\n",
    ")\n",
    "\n",
    "# plot surface latent heat flux the first month of the historical period\n",
    "hist_am_latent_heat_flux.plot(\n",
    "    ax=ax_latent,\n",
    "    x=\"lon\",\n",
    "    y=\"lat\",\n",
    "    transform=ccrs.PlateCarree(),\n",
    "    vmin=-300,\n",
    "    vmax=300,\n",
    "    cmap=\"coolwarm\",\n",
    "    robust=True,\n",
    "    cbar_kwargs={\"label\": \"$W/m^2$\"},\n",
    ")\n",
    "ax_latent.coastlines()\n",
    "ax_latent.set_title(\"Latent Heat Flux\")\n",
    "\n",
    "# Repeat for sensible heat flux\n",
    "hist_am_sensible_heat_flux.plot(\n",
    "    ax=ax_sensible,\n",
    "    x=\"lon\",\n",
    "    y=\"lat\",\n",
    "    transform=ccrs.PlateCarree(),\n",
    "    vmin=-150,\n",
    "    vmax=150,\n",
    "    cmap=\"coolwarm\",\n",
    "    robust=True,\n",
    "    cbar_kwargs={\"label\": \"$W/m^2$\"},\n",
    ")\n",
    "ax_sensible.coastlines()\n",
    "ax_sensible.set_title(\"Sensible Heat Flux\")\n",
    "\n",
    "# Repeat for net shortwave radiative heat flux\n",
    "hist_am_net_shortwave_heat_flux.plot(\n",
    "    ax=ax_shortwave,\n",
    "    x=\"lon\",\n",
    "    y=\"lat\",\n",
    "    transform=ccrs.PlateCarree(),\n",
    "    vmin=-300,\n",
    "    vmax=300,\n",
    "    cmap=\"coolwarm\",\n",
    "    robust=True,\n",
    "    cbar_kwargs={\"label\": \"$W/m^2$\"},\n",
    ")\n",
    "ax_shortwave.coastlines()\n",
    "ax_shortwave.set_title(\"Net Upward Shortwave Flux\")\n",
    "\n",
    "# Repeat for net longwave radiative heat flux\n",
    "hist_am_net_longwave_heat_flux.plot(\n",
    "    ax=ax_longwave,\n",
    "    x=\"lon\",\n",
    "    y=\"lat\",\n",
    "    transform=ccrs.PlateCarree(),\n",
    "    vmin=-150,\n",
    "    vmax=150,\n",
    "    cmap=\"coolwarm\",\n",
    "    robust=True,\n",
    "    cbar_kwargs={\"label\": \"$W/m^2$\"},\n",
    ")\n",
    "ax_longwave.coastlines()\n",
    "ax_longwave.set_title(\"Net Upward Longwave Flux\");"
   ]
  },
  {
   "cell_type": "markdown",
   "metadata": {
    "execution": {}
   },
   "source": [
    "## Questions 2: Climate Connection"
   ]
  },
  {
   "cell_type": "markdown",
   "metadata": {
    "execution": {}
   },
   "source": [
    "1. What do you think causes the large spatial variations of the sensible heat flux between strong positive, weak, and strong negative fluxes? Consider different surface types in your answer."
   ]
  },
  {
   "cell_type": "code",
   "execution_count": null,
   "metadata": {},
   "outputs": [],
   "source": [
    "# to_remove explanation\n",
    "\n",
    "\"\"\"\n",
    "1. Sensible heat fluxes depend on temperature differences between the Earth's surface and the surface air. The differences in the sensible heat flux seen here are largely caused by the different properties of the three main surface types: land, ocean, and ice. Land typically warms fast when exposed to insolation, the ocean has a much higher heat capacity so does not warm as much as land in response to insolation, and ice typically remains near zero degrees Celsius or colder. This means that land is often warmer than the surface air (strong positive sensible heat flux), the ocean and surface air often have a similar temperature (weak flux), and ice is often much cooler than surface air (strong negative flux)\n",
    "\"\"\";"
   ]
  },
  {
   "cell_type": "markdown",
   "metadata": {
    "execution": {}
   },
   "source": [
    "# Section 3: Surface Energy Budget by Latitude"
   ]
  },
  {
   "cell_type": "markdown",
   "metadata": {
    "execution": {}
   },
   "source": [
    "We can also calculate a *zonal average* which allows us to compare the contributions of each of these fluxes to the net heat flux by latitude (similar to the plot in the last lecture that considered the RCE model prediction as a function of latitude).\n",
    "\n",
    "To calculate a spatial average of a gridded data set, we often have to weight the data based on the size of the area it is describing. Fortunately, CESM data is on a regular latitude-longitude grid, which means that grid cells at a specific latitude have the same area as all the other grid cells at that latitude. This makes a zonal average easy, because at each latitude we can simply calculate the mean of all data at that latitude. \n",
    "\n",
    "*Note: Our averaging would have required area-weighting if we were calculating a global mean (as you did in previous Tutorials) or if you had irregularly gridded data (which we will encounter on W2D1)!*"
   ]
  },
  {
   "cell_type": "code",
   "execution_count": null,
   "metadata": {},
   "outputs": [],
   "source": [
    "# find the zonal means (.squeeze() removes singleton dimensions)\n",
    "hist_azm_latent_heat_flux = hist_am_latent_heat_flux.mean(dim=\"x\").squeeze()\n",
    "hist_azm_sensible_heat_flux = hist_am_sensible_heat_flux.mean(dim=\"x\").squeeze()\n",
    "hist_azm_net_shortwave_flux = hist_am_net_shortwave_heat_flux.mean(dim=\"x\").squeeze()\n",
    "hist_azm_net_longwave_flux = hist_am_net_longwave_heat_flux.mean(dim=\"x\").squeeze()\n",
    "hist_azm_net_heat_flux = hist_am_net_heat_flux.mean(dim=\"x\").squeeze()"
   ]
  },
  {
   "cell_type": "code",
   "execution_count": null,
   "metadata": {
    "executionInfo": {
     "elapsed": 34008,
     "status": "ok",
     "timestamp": 1681701864340,
     "user": {
      "displayName": "Brodie Pearson",
      "userId": "05269028596972519847"
     },
     "user_tz": 420
    }
   },
   "outputs": [],
   "source": [
    "lat = hist_am_latent_heat_flux.lat[0, :]\n",
    "\n",
    "fig, ax = plt.subplots(figsize=(8, 5))\n",
    "\n",
    "ax.plot(lat, hist_azm_latent_heat_flux, label=\"Latent Heat\")\n",
    "ax.plot(lat, hist_azm_sensible_heat_flux, label=\"Sensible Heat\")\n",
    "ax.plot(lat, hist_azm_net_shortwave_flux, label=\"Shortwave\")\n",
    "ax.plot(lat, hist_azm_net_longwave_flux, label=\"Longwave\")\n",
    "ax.plot(lat, hist_azm_net_heat_flux, lw=3, color=\"k\", label=\"Net\")\n",
    "ax.plot(lat, 0 * lat, color=\"black\")\n",
    "\n",
    "ax.set_title(\"Components of Annual Surface Energy Budget (+ up)\")\n",
    "ax.legend()"
   ]
  },
  {
   "cell_type": "markdown",
   "metadata": {
    "execution": {}
   },
   "source": [
    "## Questions 3: Climate Connection"
   ]
  },
  {
   "cell_type": "markdown",
   "metadata": {
    "execution": {}
   },
   "source": [
    "1.  Describe the dominant balance in the tropics (30ºS to 30ºN).\n",
    "2.  What about for the polar regions (above 60ºN and below 60ºS).\n",
    "3.  What do you think causes the dip in latent heat near the equator?\n",
    "4.  Is there symmetry in the longwave radiation in the high southern and northern latitudes? What about for sensible heat?"
   ]
  },
  {
   "cell_type": "code",
   "execution_count": null,
   "metadata": {},
   "outputs": [],
   "source": [
    "# to_remove explanation\n",
    "\n",
    "\"\"\"\n",
    "1. The tropics are warmed by shortwave radiation, which is balanced by cooling from latent heat (evaporation), longwave radiation (because the surface is warm) and a smaller sensible heat flux. There is a net negative imbalance, so other processes (e.g., lateral movement of heat) must transport surface heat away from the tropics.\n",
    "2. In polar regions the shortwave incoming radiation and longwave outgoing radiation are the dominant balance in the Antarctic, while the Arctic also has a significant downward flux sensible heat (the atmosphere is typically warmer than the ice/ocean/land).\n",
    "3. The intertropical convergence zone. This is region of significant cloud cover and precipitation created by surface air from both hemispheres converging near the Equator. This is also part of the reason the other fluxes also show dips near the Equator.\n",
    "4. Longwave radiation is relatively symmetric. Some differences may be cause by hemispheric differences in relative land/ocean cover at each latitude. Sensible heat is quite symmetric at most latitudes (small changes due to surface type similar to the longwave radiation), but there is a significant negative sensible heat flux in the Arctic due to the combination of cold ice/ocean near the North pole, and relatively warm air (versus the Antarctic continent where air is consistently very cold)\n",
    "\"\"\";"
   ]
  },
  {
   "cell_type": "markdown",
   "metadata": {
    "execution": {},
    "executionInfo": {
     "elapsed": 167,
     "status": "ok",
     "timestamp": 1680721111796,
     "user": {
      "displayName": "Brodie Pearson",
      "userId": "05269028596972519847"
     },
     "user_tz": 420
    }
   },
   "source": [
    "# Bonus Question: Climate Connection\n",
    "\n",
    "5. Hypothetically, imagine this plot showed that the net heat flux was:\n",
    "  - Negative 100 W m$^{-2}$ between 45ºN and 45ºS (i.e., 90 degrees of latitude centered on the Equator) and,\n",
    "  - Positive 100 W m$^{-2}$ from 45ºN to 90ºN and from 45ºS to 90ºS.\n",
    "\n",
    "  Would you expect Earth to warm, cool, or remain the same temperature? Why? \n",
    "  "
   ]
  },
  {
   "cell_type": "code",
   "execution_count": null,
   "metadata": {
    "executionInfo": {
     "elapsed": 908,
     "status": "ok",
     "timestamp": 1680721148129,
     "user": {
      "displayName": "Brodie Pearson",
      "userId": "05269028596972519847"
     },
     "user_tz": 420
    }
   },
   "outputs": [],
   "source": [
    "# to_remove explanation\n",
    "\n",
    "\"\"\"\n",
    "5. Even though both latitude bands span 90 degrees, the poles of the Earth (highest 45 degrees of each hemisphere) cover a much smaller area than the Equatorial regions (lower 45 degrees of each hemisphere). Since the energy being entering or leaving the Earth system is the flux multiplied by the area, and the lower latitude region (negative/downward heat flux) covers a much larger area than the high latitude regions, the planet would be expected to warm in this situation.\n",
    "\"\"\";"
   ]
  },
  {
   "cell_type": "markdown",
   "metadata": {
    "execution": {}
   },
   "source": [
    "# Summary\n",
    "In this bonus tutorial, you analyzed atmospheric data from a CESM simulation, focusing on how shortwave/longwave radiation, sensible and latent heat, contribute to the surface energy budget. This tutorial also explored the *zonal-mean* surface energy budget, elucidating how different surface heat flux components vary with latitude due to physical differences in air-surface conditions across regions."
   ]
  },
  {
   "cell_type": "markdown",
   "metadata": {
    "execution": {}
   },
   "source": [
    "# Resources\n",
    "\n",
    "This tutorial uses data from the simulations conducted as part of the [CMIP6](https://wcrp-cmip.org/) multi-model ensemble. \n",
    "\n",
    "For examples on how to access and analyze data, please visit the [Pangeo Cloud CMIP6 Gallery](https://gallery.pangeo.io/repos/pangeo-gallery/cmip6/index.html) \n",
    "\n",
    "For more information on what CMIP is and how to access the data, please see this [page](https://github.com/ClimateMatchAcademy/course-content/blob/main/tutorials/CMIP/CMIP_resource_bank.md)."
   ]
  },
  {
   "cell_type": "code",
   "execution_count": null,
   "metadata": {},
   "outputs": [],
   "source": []
  }
 ],
 "metadata": {
  "colab": {
   "collapsed_sections": [],
   "include_colab_link": true,
   "name": "W1D5_Tutorial7",
   "provenance": [],
   "toc_visible": true
  },
  "kernel": {
   "display_name": "Python 3",
   "language": "python",
   "name": "python3"
  },
  "kernelspec": {
   "display_name": "Python 3 (ipykernel)",
   "language": "python",
   "name": "python3"
  },
  "language_info": {
   "codemirror_mode": {
    "name": "ipython",
    "version": 3
   },
   "file_extension": ".py",
   "mimetype": "text/x-python",
   "name": "python",
   "nbconvert_exporter": "python",
   "pygments_lexer": "ipython3",
   "version": "3.11.6"
  }
 },
 "nbformat": 4,
 "nbformat_minor": 4
}
