{
 "cells": [
  {
   "cell_type": "markdown",
   "id": "45819162-0aa2-41f7-9c11-9cbd545daa2f",
   "metadata": {},
   "source": [
    "[![Open In Colab](https://colab.research.google.com/assets/colab-badge.svg)](https://colab.research.google.com/github/neuromatch/climate-course-content/blob/main/tutorials/W1D5_ClimateModeling/W1D5_Bonus1.ipynb) &nbsp; <a href=\"https://kaggle.com/kernels/welcome?src=https://raw.githubusercontent.com/neuromatch/climate-course-content/main/tutorials/W1D5_ClimateModeling/W1D5_Bonus1.ipynb\" target=\"_parent\"><img src=\"https://kaggle.com/static/images/open-in-kaggle.svg\" alt=\"Open in Kaggle\"/></a>"
   ]
  },
  {
   "cell_type": "markdown",
   "id": "b8a73481-cb69-4c45-9ad6-42bbec80a760",
   "metadata": {
    "execution": {}
   },
   "source": [
    "# Bonus Exercise 1: Blackbody Radiation\n",
    "\n",
    "**Week 1, Day 5, Climate Modeling**\n",
    "\n",
    "**Content creators:** Jenna Pearson\n",
    "\n",
    "**Content reviewers:** Dionessa Biton, Younkap Nina Duplex, Zahra Khodakaramimaghsoud, Will Gregory, Peter Ohue, Derick Temfack, Yunlong Xu, Peizhen Yang, Chi Zhang, Ohad Zivan\n",
    "\n",
    "**Content editors:** Brodie Pearson, Abigail Bodner, Ohad Zivan, Chi Zhang\n",
    "\n",
    "**Production editors:** Wesley Banfield, Jenna Pearson, Chi Zhang, Ohad Zivan\n",
    "\n",
    "**Our 2023 Sponsors:** NASA TOPS and Google DeepMind"
   ]
  },
  {
   "cell_type": "markdown",
   "id": "bb01af7c-5162-43c9-97aa-7642434f463e",
   "metadata": {
    "execution": {}
   },
   "source": [
    "# Setup\n"
   ]
  },
  {
   "cell_type": "code",
   "execution_count": null,
   "id": "79b11298-c5e6-4213-a48c-bb2dd34d1e3a",
   "metadata": {
    "execution": {}
   },
   "outputs": [],
   "source": [
    "# imports\n",
    "import matplotlib.pyplot as plt\n",
    "import numpy as np"
   ]
  },
  {
   "cell_type": "code",
   "execution_count": null,
   "id": "e4527d82-2b2c-4c14-afa6-2f12274962bb",
   "metadata": {
    "cellView": "form",
    "execution": {}
   },
   "outputs": [],
   "source": [
    "# @title Figure settings\n",
    "import ipywidgets as widgets  # interactive display\n",
    "\n",
    "%config InlineBackend.figure_format = 'retina'\n",
    "plt.style.use(\n",
    "    \"https://raw.githubusercontent.com/ClimateMatchAcademy/course-content/main/cma.mplstyle\"\n",
    ")"
   ]
  },
  {
   "cell_type": "markdown",
   "id": "83024c77-3d51-4113-8910-9aaa1abef3eb",
   "metadata": {},
   "source": [
    "# Instructions"
   ]
  },
  {
   "cell_type": "markdown",
   "id": "260264a3-87b4-4af8-9588-6d72da8685c3",
   "metadata": {
    "execution": {}
   },
   "source": [
    "By defining a function for Planck's Law, plot the blackbody radiation curve for the sun, assuming an emission temperature of 5800 K. Underlay an approximation of the visible range from the electromagnetic spectrum. This exercise should help you understand why we see in color as well as why the sun's radiation headed towards Earth is called incoming shortwave radiation."
   ]
  },
  {
   "cell_type": "code",
   "execution_count": null,
   "id": "9aac2097-09c3-4dff-97cf-1c423baccd6f",
   "metadata": {
    "execution": {}
   },
   "outputs": [],
   "source": [
    "# define the emission temperature of the sun\n",
    "T_sun = ...\n",
    "\n",
    "\n",
    "# define constants used in Planck's Law\n",
    "h = 6.626075e-34  # J s\n",
    "c = 2.99792e8  # m s^-1\n",
    "k = 1.3804e-23  # W K^-1\n",
    "\n",
    "\n",
    "# define the function for Planck's Law that returns the intensity as well\n",
    "# as the peak wavelength defined by Wien's Law\n",
    "def planck(wavelength, temperature):\n",
    "    ...\n",
    "    intensity = ...\n",
    "    lpeak = ...\n",
    "    return intensity, lpeak\n",
    "\n",
    "\n",
    "# generate x-axis in increments from 1um to 100 micrometer in 1 nm increments\n",
    "# starting at 1 nm to avoid wav = 0, which would result in division by zero.\n",
    "wavelengths = np.arange(1e-7, 4e-6, 1e-9)\n",
    "\n",
    "# intensity and peak radiating wavelength at different temperatures\n",
    "intensity, lpeak = planck(wavelengths, T_sun)\n",
    "\n",
    "# get the intensity at peak wavelength to limit the lines\n",
    "Ipeak, _ = planck(lpeak, T_sun)\n",
    "\n",
    "# plot an approximation of the visible range by defining a dictionary with\n",
    "# wavelength ranges and colors\n",
    "rainbow_dict = {\n",
    "    (0.4, 0.44): \"#8b00ff\",\n",
    "    (0.44, 0.46): \"#4b0082\",\n",
    "    (0.46, 0.5): \"#0000ff\",\n",
    "    (0.5, 0.57): \"#00ff00\",\n",
    "    (0.57, 0.59): \"#ffff00\",\n",
    "    (0.59, 0.62): \"#ff7f00\",\n",
    "    (0.62, 0.75): \"#ff0000\",\n",
    "}\n",
    "\n",
    "fig, ax = plt.subplots()\n",
    "\n",
    "for wv_range, rgb in rainbow_dict.items():\n",
    "    ax.axvspan(*wv_range, color=rgb, ec=\"none\")\n",
    "\n",
    "# add in wiens law\n",
    "_ = ...\n",
    "\n",
    "# plot intensity curve\n",
    "_ = ...\n",
    "\n",
    "ax.set_xlabel(\"Wavelength ($\\mu m$)\", fontsize=20, labelpad=30)\n",
    "ax.set_ylabel(\"$B_\\lambda(\\lambda,T)$ $(W/(m^3 steradian)$\", fontsize=20)\n",
    "\n",
    "ax.set_title(\"Spectral Radiance\")\n",
    "\n",
    "# add legend\n",
    "ax.legend(bbox_to_anchor=(0.5, 0.5))"
   ]
  },
  {
   "cell_type": "code",
   "execution_count": null,
   "id": "c934354e-a22e-4d56-b63d-574505f81889",
   "metadata": {
    "execution": {}
   },
   "outputs": [],
   "source": [
    "# to_remove solution\n",
    "\n",
    "# define the emission temperature of the sun\n",
    "T_sun = 5800  # K\n",
    "\n",
    "# define constants used in Planck's Law\n",
    "h = 6.626075e-34  # J s\n",
    "c = 2.99792e8  # m s^-1\n",
    "k = 1.3804e-23  # W K^-1\n",
    "\n",
    "\n",
    "# define the function for Planck's Law that returns the intensity as well\n",
    "# as the peak wavelength defined by Wien's Law\n",
    "def planck(wavelength, temperature):\n",
    "    a = 2.0 * h * c**2\n",
    "    b = h * c / (wavelength * k * temperature)\n",
    "    intensity = a / ((wavelength**5) * (np.exp(b) - 1.0))\n",
    "\n",
    "    lpeak = (2.898 * 1e-3) / temperature\n",
    "\n",
    "    return intensity, lpeak\n",
    "\n",
    "\n",
    "# generate x-axis in increments from 1um to 100 micrometer in 1 nm increments\n",
    "# starting at 1 nm to avoid wav = 0, which would result in division by zero.\n",
    "wavelengths = np.arange(1e-7, 4e-6, 1e-9)\n",
    "\n",
    "# intensity and peak radiating wavelength at different temperatures\n",
    "intensity, lpeak = planck(wavelengths, T_sun)\n",
    "\n",
    "# get the intensity at peak wavelength to limit the lines\n",
    "Ipeak, _ = planck(lpeak, T_sun)\n",
    "\n",
    "\n",
    "# plot an approximation of the visible range by defining a dictionary with\n",
    "# wavelength ranges and colors\n",
    "rainbow_dict = {\n",
    "    (0.4, 0.44): \"#8b00ff\",\n",
    "    (0.44, 0.46): \"#4b0082\",\n",
    "    (0.46, 0.5): \"#0000ff\",\n",
    "    (0.5, 0.57): \"#00ff00\",\n",
    "    (0.57, 0.59): \"#ffff00\",\n",
    "    (0.59, 0.62): \"#ff7f00\",\n",
    "    (0.62, 0.75): \"#ff0000\",\n",
    "}\n",
    "\n",
    "fig, ax = plt.subplots()\n",
    "\n",
    "for wv_range, rgb in rainbow_dict.items():\n",
    "    ax.axvspan(*wv_range, color=rgb, ec=\"none\")\n",
    "\n",
    "# add in wiens law\n",
    "_ = ax.vlines(x=lpeak * 1e6, ymin=0, ymax=Ipeak, color=\"k\", ls=\"--\", lw=3)\n",
    "\n",
    "\n",
    "# plot intensity curve\n",
    "_ = ax.plot(\n",
    "    wavelengths * 1e6, intensity, lw=4, label=\"T=\" + str(T_sun) + \"K\", color=\"k\"\n",
    ")\n",
    "\n",
    "\n",
    "ax.set_xlabel(\"Wavelength ($\\mu m$)\", fontsize=20, labelpad=30)\n",
    "ax.set_ylabel(\"$B_\\lambda(\\lambda,T)$ $(W/(m^3 steradian)$\", fontsize=20)\n",
    "\n",
    "ax.set_title(\"Spectral Radiance\")\n",
    "\n",
    "# add legend\n",
    "ax.legend(bbox_to_anchor=(0.5, 0.5))"
   ]
  }
 ],
 "metadata": {
  "kernelspec": {
   "display_name": "Python 3 (ipykernel)",
   "language": "python",
   "name": "python3"
  },
  "language_info": {
   "codemirror_mode": {
    "name": "ipython",
    "version": 3
   },
   "file_extension": ".py",
   "mimetype": "text/x-python",
   "name": "python",
   "nbconvert_exporter": "python",
   "pygments_lexer": "ipython3",
   "version": "3.11.6"
  }
 },
 "nbformat": 4,
 "nbformat_minor": 5
}
