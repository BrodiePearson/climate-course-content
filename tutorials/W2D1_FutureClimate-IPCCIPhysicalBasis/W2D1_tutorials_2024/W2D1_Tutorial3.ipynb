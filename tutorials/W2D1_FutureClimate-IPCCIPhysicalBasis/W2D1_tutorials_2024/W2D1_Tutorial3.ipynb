{
 "cells": [
  {
   "cell_type": "markdown",
   "metadata": {
    "execution": {}
   },
   "source": [
    "[![Open In Colab](https://colab.research.google.com/assets/colab-badge.svg)](https://colab.research.google.com/github/neuromatch/climate-course-content/blob/main/tutorials/W2D1_FutureClimate-IPCCIPhysicalBasis/W2D1_Tutorial4.ipynb) &nbsp; <a href=\"https://kaggle.com/kernels/welcome?src=https://raw.githubusercontent.com/neuromatch/climate-course-content/main/tutorials/W2D1_FutureClimate-IPCCIPhysicalBasis/W2D1_Tutorial4.ipynb\" target=\"_parent\"><img src=\"https://kaggle.com/static/images/open-in-kaggle.svg\" alt=\"Open in Kaggle\"/></a>"
   ]
  },
  {
   "cell_type": "markdown",
   "metadata": {
    "execution": {}
   },
   "source": [
    "# Tutorial 3: Quantifying Uncertainty in Projections\n",
    "\n",
    "**By Sciencematch Academy**\n",
    "\n",
    "**Week 2, Day 1, Future Climate: The Physical Basis**\n",
    "\n",
    "**Content creators:** Brodie Pearson, Julius Busecke, Tom Nicholas, Sam Ditkovsky\n",
    "\n",
    "**Content reviewers:** Younkap Nina Duplex, Zahra Khodakaramimaghsoud, Sloane Garelick, Peter Ohue, Jenna Pearson, Derick Temfack, Peizhen Yang, Cheng Zhang, Chi Zhang, Ohad Zivan\n",
    "\n",
    "**Content editors:** Jenna Pearson, Ohad Zivan, Chi Zhang\n",
    "\n",
    "**Production editors:** Wesley Banfield, Jenna Pearson, Chi Zhang, Ohad Zivan\n",
    "\n",
    "**Our 2023 Sponsors:** NASA TOPS, Google DeepMind, and CMIP"
   ]
  },
  {
   "cell_type": "markdown",
   "metadata": {
    "execution": {}
   },
   "source": [
    "# Tutorial Objectives\n",
    "\n",
    "In the previous tutorial, we constructed a *multi-model ensemble* using data from a diverse set of five CMIP6 models. We showed that the projections differ between models due to their distinct physics, numerics and discretizations. In this tutorial, we will calculate the uncertainty associated with future climate projections by utilizing this variability across CMIP6 models. We will establish a *likely* range of projections as defined by the IPCC. \n",
    "\n",
    "By the end of this tutorial, you will be able to \n",
    "- Apply IPCC confidence levels to climate model data\n",
    "- Quantify the uncertainty associated with CMIP6/ScenarioMIP projections.\n"
   ]
  },
  {
   "cell_type": "markdown",
   "metadata": {
    "execution": {}
   },
   "source": [
    "# Setup\n",
    "\n",
    "    \n",
    "\n"
   ]
  },
  {
   "cell_type": "code",
   "execution_count": 1,
   "metadata": {
    "execution": {},
    "executionInfo": {
     "elapsed": 21927,
     "status": "ok",
     "timestamp": 1683930403085,
     "user": {
      "displayName": "Brodie Pearson",
      "userId": "05269028596972519847"
     },
     "user_tz": 420
    },
    "tags": [
     "colab"
    ]
   },
   "outputs": [],
   "source": [
    "# installations ( uncomment and run this cell ONLY when using google colab or kaggle )\n",
    "\n",
    "# !pip install condacolab &> /dev/null\n",
    "# import condacolab\n",
    "# condacolab.install()\n",
    "\n",
    "# # Install all packages in one call (+ use mamba instead of conda), this must in one line or code will fail\n",
    "# !mamba install xarray-datatree intake-esm gcsfs xmip aiohttp nc-time-axis cf_xarray xarrayutils &> /dev/null"
   ]
  },
  {
   "cell_type": "code",
   "execution_count": 2,
   "metadata": {
    "execution": {},
    "executionInfo": {
     "elapsed": 3609,
     "status": "ok",
     "timestamp": 1683930517522,
     "user": {
      "displayName": "Brodie Pearson",
      "userId": "05269028596972519847"
     },
     "user_tz": 420
    },
    "tags": []
   },
   "outputs": [],
   "source": [
    "# imports\n",
    "import time\n",
    "\n",
    "tic = time.time()\n",
    "\n",
    "import intake\n",
    "import numpy as np\n",
    "import matplotlib.pyplot as plt\n",
    "import xarray as xr\n",
    "\n",
    "from xmip.preprocessing import combined_preprocessing\n",
    "from xarrayutils.plotting import shaded_line_plot\n",
    "\n",
    "from datatree import DataTree\n",
    "from xmip.postprocessing import _parse_metric"
   ]
  },
  {
   "cell_type": "code",
   "execution_count": 3,
   "metadata": {
    "cellView": "form",
    "execution": {},
    "executionInfo": {
     "elapsed": 738,
     "status": "ok",
     "timestamp": 1683930525181,
     "user": {
      "displayName": "Brodie Pearson",
      "userId": "05269028596972519847"
     },
     "user_tz": 420
    },
    "tags": []
   },
   "outputs": [],
   "source": [
    "# @title Figure settings\n",
    "import ipywidgets as widgets  # interactive display\n",
    "\n",
    "plt.style.use(\n",
    "    \"https://raw.githubusercontent.com/ClimateMatchAcademy/course-content/main/cma.mplstyle\"\n",
    ")\n",
    "\n",
    "%matplotlib inline"
   ]
  },
  {
   "cell_type": "code",
   "execution_count": 4,
   "metadata": {
    "cellView": "form",
    "execution": {},
    "executionInfo": {
     "elapsed": 2,
     "status": "ok",
     "timestamp": 1683930525501,
     "user": {
      "displayName": "Brodie Pearson",
      "userId": "05269028596972519847"
     },
     "user_tz": 420
    },
    "tags": []
   },
   "outputs": [],
   "source": [
    "# @title Helper functions\n",
    "\n",
    "# If any helper functions you want to hide for clarity (that has been seen before\n",
    "# or is simple/uniformative), add here\n",
    "# If helper code depends on libraries that aren't used elsewhere,\n",
    "# import those libaries here, rather than in the main import cell\n",
    "\n",
    "\n",
    "def readin_cmip6_to_datatree(facet_dict):\n",
    "    # open an intake catalog containing the Pangeo CMIP cloud data\n",
    "    col = intake.open_esm_datastore(\n",
    "        \"https://storage.googleapis.com/cmip6/pangeo-cmip6.json\"\n",
    "    )\n",
    "\n",
    "    # from the full `col` object, create a subset using facet search\n",
    "    cat = col.search(\n",
    "        source_id=facet_dict['source_id'],\n",
    "        variable_id=facet_dict['variable_id'],\n",
    "        member_id=facet_dict['member_id'],\n",
    "        table_id=facet_dict['table_id'],\n",
    "        grid_label=facet_dict['grid_label'],\n",
    "        experiment_id=facet_dict['experiment_id'],\n",
    "        require_all_on=facet_dict['require_all_on']  # make sure that we only get models which have all of the above experiments\n",
    "    )\n",
    "\n",
    "    # convert the sub-catalog into a datatree object, by opening each dataset into an xarray.Dataset (without loading the data)\n",
    "    kwargs = dict(\n",
    "        preprocess=combined_preprocessing,  # apply xMIP fixes to each dataset\n",
    "        xarray_open_kwargs=dict(\n",
    "            use_cftime=True\n",
    "        ),  # ensure all datasets use the same time index\n",
    "        storage_options={\n",
    "            \"token\": \"anon\"\n",
    "        },  # anonymous/public authentication to google cloud storage\n",
    "    )\n",
    "\n",
    "    cat.esmcat.aggregation_control.groupby_attrs = [\"source_id\", \"experiment_id\"]\n",
    "    dt = cat.to_datatree(**kwargs)\n",
    "    \n",
    "    return dt\n",
    "\n",
    "\n",
    "def global_mean(ds: xr.Dataset) -> xr.Dataset:\n",
    "    \"\"\"Global average, weighted by the cell area\"\"\"\n",
    "    return ds.weighted(ds.areacello.fillna(0)).mean([\"x\", \"y\"], keep_attrs=True)\n",
    "\n",
    "\n",
    "# Calculate anomaly to reference period\n",
    "def datatree_anomaly(dt):\n",
    "    dt_out = DataTree()\n",
    "    for model, subtree in dt.items():\n",
    "        # for the coding exercise, ellipses will go after sel on the following line\n",
    "        ref = dt[model][\"historical\"].ds.sel(time=slice(\"1950\", \"1980\")).mean()\n",
    "        dt_out[model] = subtree - ref\n",
    "    return dt_out\n",
    "\n",
    "\n",
    "def plot_historical_ssp126_combined(dt):\n",
    "    for model in dt.keys():\n",
    "        datasets = []\n",
    "        for experiment in [\"historical\", \"ssp126\"]:\n",
    "            datasets.append(dt[model][experiment].ds.tos)\n",
    "\n",
    "        da_combined = xr.concat(datasets, dim=\"time\")"
   ]
  },
  {
   "cell_type": "code",
   "execution_count": 5,
   "metadata": {
    "cellView": "form",
    "execution": {},
    "tags": []
   },
   "outputs": [
    {
     "data": {
      "application/vnd.jupyter.widget-view+json": {
       "model_id": "606cd58b30d742df8a498e30d19e87fe",
       "version_major": 2,
       "version_minor": 0
      },
      "text/plain": [
       "Tab(children=(Output(), Output()), selected_index=0, titles=('Youtube', 'Bilibili'))"
      ]
     },
     "metadata": {},
     "output_type": "display_data"
    }
   ],
   "source": [
    "# @title Video 1: Quantifying Uncertainty in Projections\n",
    "\n",
    "from ipywidgets import widgets\n",
    "from IPython.display import YouTubeVideo\n",
    "from IPython.display import IFrame\n",
    "from IPython.display import display\n",
    "\n",
    "\n",
    "class PlayVideo(IFrame):\n",
    "  def __init__(self, id, source, page=1, width=400, height=300, **kwargs):\n",
    "    self.id = id\n",
    "    if source == 'Bilibili':\n",
    "      src = f'https://player.bilibili.com/player.html?bvid={id}&page={page}'\n",
    "    elif source == 'Osf':\n",
    "      src = f'https://mfr.ca-1.osf.io/render?url=https://osf.io/download/{id}/?direct%26mode=render'\n",
    "    super(PlayVideo, self).__init__(src, width, height, **kwargs)\n",
    "\n",
    "\n",
    "def display_videos(video_ids, W=400, H=300, fs=1):\n",
    "  tab_contents = []\n",
    "  for i, video_id in enumerate(video_ids):\n",
    "    out = widgets.Output()\n",
    "    with out:\n",
    "      if video_ids[i][0] == 'Youtube':\n",
    "        video = YouTubeVideo(id=video_ids[i][1], width=W,\n",
    "                             height=H, fs=fs, rel=0)\n",
    "        print(f'Video available at https://youtube.com/watch?v={video.id}')\n",
    "      else:\n",
    "        video = PlayVideo(id=video_ids[i][1], source=video_ids[i][0], width=W,\n",
    "                          height=H, fs=fs, autoplay=False)\n",
    "        if video_ids[i][0] == 'Bilibili':\n",
    "          print(f'Video available at https://www.bilibili.com/video/{video.id}')\n",
    "        elif video_ids[i][0] == 'Osf':\n",
    "          print(f'Video available at https://osf.io/{video.id}')\n",
    "      display(video)\n",
    "    tab_contents.append(out)\n",
    "  return tab_contents\n",
    "\n",
    "\n",
    "video_ids = [('Youtube', 'YCUsMjDinrA'), ('Bilibili', 'BV1oj411o7bb')]\n",
    "tab_contents = display_videos(video_ids, W=730, H=410)\n",
    "tabs = widgets.Tab()\n",
    "tabs.children = tab_contents\n",
    "for i in range(len(tab_contents)):\n",
    "  tabs.set_title(i, video_ids[i][0])\n",
    "display(tabs)"
   ]
  },
  {
   "cell_type": "code",
   "execution_count": 6,
   "metadata": {
    "cellView": "form",
    "execution": {},
    "pycharm": {
     "name": "#%%\n"
    },
    "tags": [
     "remove-input"
    ]
   },
   "outputs": [
    {
     "data": {
      "application/vnd.jupyter.widget-view+json": {
       "model_id": "4015da55f624401c8dab5b2c2654cf86",
       "version_major": 2,
       "version_minor": 0
      },
      "text/plain": [
       "Output()"
      ]
     },
     "metadata": {},
     "output_type": "display_data"
    }
   ],
   "source": [
    "# @markdown\n",
    "from ipywidgets import widgets\n",
    "from IPython.display import IFrame\n",
    "\n",
    "link_id = \"u5zrp\"\n",
    "\n",
    "download_link = f\"https://osf.io/download/{link_id}/\"\n",
    "render_link = f\"https://mfr.ca-1.osf.io/render?url=https://osf.io/{link_id}/?direct%26mode=render%26action=download%26mode=render\"\n",
    "# @markdown\n",
    "out = widgets.Output()\n",
    "with out:\n",
    "    print(f\"If you want to download the slides: {download_link}\")\n",
    "    display(IFrame(src=f\"{render_link}\", width=730, height=410))\n",
    "display(out)"
   ]
  },
  {
   "cell_type": "markdown",
   "metadata": {
    "execution": {}
   },
   "source": [
    "# Section 1: Loading CMIP6 Data from Various Models & Experiments"
   ]
  },
  {
   "cell_type": "markdown",
   "metadata": {
    "execution": {}
   },
   "source": [
    "First, lets load the datasets that we used in the previous tutorial, which spanned 5 models. We will use three CMIP6 experiments, adding the high-emissions (*SSP5-8.5*) future scenario to the *historical* and *SSP1-2.6* experiments used in the last tutorial.\n",
    "\n"
   ]
  },
  {
   "cell_type": "code",
   "execution_count": 7,
   "metadata": {},
   "outputs": [
    {
     "name": "stdout",
     "output_type": "stream",
     "text": [
      "\n",
      "--> The keys in the returned dictionary of datasets are constructed as follows:\n",
      "\t'source_id/experiment_id'\n"
     ]
    },
    {
     "data": {
      "text/html": [
       "\n",
       "    <div>\n",
       "        <style>\n",
       "            /* Turns off some styling */\n",
       "            progress {\n",
       "                /* gets rid of default border in Firefox and Opera. */\n",
       "                border: none;\n",
       "                /* Needs to be in here for Safari polyfill so background images work as expected. */\n",
       "                background-size: auto;\n",
       "            }\n",
       "            .progress-bar-interrupted, .progress-bar-interrupted::-webkit-progress-bar {\n",
       "                background: #F44336;\n",
       "            }\n",
       "        </style>\n",
       "      <progress value='15' class='' max='15' style='width:300px; height:20px; vertical-align: middle;'></progress>\n",
       "      100.00% [15/15 00:02<00:00]\n",
       "    </div>\n",
       "    "
      ],
      "text/plain": [
       "<IPython.core.display.HTML object>"
      ]
     },
     "metadata": {},
     "output_type": "display_data"
    },
    {
     "name": "stdout",
     "output_type": "stream",
     "text": [
      "\n",
      "--> The keys in the returned dictionary of datasets are constructed as follows:\n",
      "\t'source_id/experiment_id'\n"
     ]
    },
    {
     "data": {
      "text/html": [
       "\n",
       "    <div>\n",
       "        <style>\n",
       "            /* Turns off some styling */\n",
       "            progress {\n",
       "                /* gets rid of default border in Firefox and Opera. */\n",
       "                border: none;\n",
       "                /* Needs to be in here for Safari polyfill so background images work as expected. */\n",
       "                background-size: auto;\n",
       "            }\n",
       "            .progress-bar-interrupted, .progress-bar-interrupted::-webkit-progress-bar {\n",
       "                background: #F44336;\n",
       "            }\n",
       "        </style>\n",
       "      <progress value='5' class='' max='5' style='width:300px; height:20px; vertical-align: middle;'></progress>\n",
       "      100.00% [5/5 00:00<00:00]\n",
       "    </div>\n",
       "    "
      ],
      "text/plain": [
       "<IPython.core.display.HTML object>"
      ]
     },
     "metadata": {},
     "output_type": "display_data"
    }
   ],
   "source": [
    "# selected CMIP6 models to explore\n",
    "source_ids = [\"IPSL-CM6A-LR\", \"GFDL-ESM4\", \"ACCESS-CM2\", \"MPI-ESM1-2-LR\", \"TaiESM1\"]\n",
    "\n",
    "# dictionary of facets for query of surface temperature data\n",
    "facet_dict = { \"source_id\":source_ids,\n",
    "    \"variable_id\":\"tos\",\n",
    "    \"member_id\":\"r1i1p1f1\",\n",
    "    \"table_id\":\"Omon\",\n",
    "    \"grid_label\":\"gn\",\n",
    "    \"experiment_id\":[\"historical\", \"ssp126\", \"ssp585\"],\n",
    "    \"require_all_on\":\"source_id\"\n",
    "    }\n",
    "\n",
    "# dictionary for query of cell area metric\n",
    "facet_dict_area = { \"source_id\":source_ids,\n",
    "    \"variable_id\":\"areacello\",\n",
    "    \"member_id\":\"r1i1p1f1\",\n",
    "    \"table_id\":\"Ofx\",\n",
    "    \"grid_label\":\"gn\",\n",
    "    \"experiment_id\":\"historical\",\n",
    "    \"require_all_on\":\"source_id\"\n",
    "    }\n",
    "# search for temperature and area data and return datatree objects\n",
    "dt_ensemble = readin_cmip6_to_datatree(facet_dict)\n",
    "dt_area = readin_cmip6_to_datatree(facet_dict_area)\n",
    "\n",
    "\n",
    "# merge area metric into datatree object\n",
    "dt_with_area = DataTree()\n",
    "\n",
    "for model, subtree in dt_ensemble.items():\n",
    "    metric = dt_area[model][\"historical\"].ds[\"areacello\"]\n",
    "    dt_with_area[model] = subtree.map_over_subtree(_parse_metric, metric)\n",
    "\n",
    "# average every dataset in the tree globally\n",
    "dt_gm = dt_with_area.map_over_subtree(global_mean)\n",
    "\n",
    "for experiment in [\"historical\", \"ssp126\", \"ssp585\"]:\n",
    "    da = dt_gm[\"TaiESM1\"][experiment].ds.tos\n",
    "\n",
    "dt_gm_anomaly = datatree_anomaly(dt_gm)"
   ]
  },
  {
   "cell_type": "markdown",
   "metadata": {
    "execution": {}
   },
   "source": [
    "# Section 2: Quantifying Uncertainty in a CMIP6 Multi-model Ensemble\n",
    "\n",
    "Let's create a multi-model ensemble containing data from multiple CMIP6 models, which we can use to quantify our confidence in future projected sea surface temperature change under low- and high-emissions scenarios. \n",
    "\n",
    "**Your goal in this tutorial is to create a *likely* range of future projected conditions under both SSP 1-2.6 (low emissions) and SSP 5-8.5 (high emissions). The IPCC uncertainty language defines the *likely* range as the middle 66% of model results (ignoring the upper 17% and lower 17% of results)**"
   ]
  },
  {
   "cell_type": "markdown",
   "metadata": {
    "execution": {}
   },
   "source": [
    "### Coding Exercise 2.1\n",
    "\n",
    "Complete the following code to display multi-model ensemble data with IPCC uncertainty bands:\n",
    "\n",
    "\n",
    "1. The multi-model mean temperature\n",
    "2. Shading to display the *likely* range of temperatures for the CMIP6 historical and projected data (include both *SSP1-2.6* and *SSP5-8.5*). *da_upper* and *da_lower* are the boundaries of this shaded region\n",
    "\n"
   ]
  },
  {
   "cell_type": "code",
   "execution_count": 8,
   "metadata": {
    "execution": {}
   },
   "outputs": [
    {
     "name": "stderr",
     "output_type": "stream",
     "text": [
      "<>:33: SyntaxWarning: invalid escape sequence '\\c'\n",
      "<>:33: SyntaxWarning: invalid escape sequence '\\c'\n",
      "/var/folders/hw/qnv0wm_x4p7bt8y7tw33cxjh0000gn/T/ipykernel_26931/818531417.py:33: SyntaxWarning: invalid escape sequence '\\c'\n",
      "  ax.set_ylabel(\"Global Mean SST Anomaly [$^\\circ$C]\")\n",
      "/var/folders/hw/qnv0wm_x4p7bt8y7tw33cxjh0000gn/T/ipykernel_26931/818531417.py:33: SyntaxWarning: invalid escape sequence '\\c'\n",
      "  ax.set_ylabel(\"Global Mean SST Anomaly [$^\\circ$C]\")\n"
     ]
    },
    {
     "ename": "NotImplementedError",
     "evalue": "Student exercise: Plot range of global mean SST anomaly for five-member ensemble",
     "output_type": "error",
     "traceback": [
      "\u001b[0;31m---------------------------------------------------------------------------\u001b[0m",
      "\u001b[0;31mNotImplementedError\u001b[0m                       Traceback (most recent call last)",
      "Cell \u001b[0;32mIn[8], line 4\u001b[0m\n\u001b[1;32m      1\u001b[0m \u001b[38;5;66;03m#################################################\u001b[39;00m\n\u001b[1;32m      2\u001b[0m \u001b[38;5;66;03m## TODO for students: Plot range of global mean SST anomaly for five-member ensemble##\u001b[39;00m\n\u001b[1;32m      3\u001b[0m \u001b[38;5;66;03m# please remove the following line of code once you have completed the exercise:\u001b[39;00m\n\u001b[0;32m----> 4\u001b[0m \u001b[38;5;28;01mraise\u001b[39;00m \u001b[38;5;167;01mNotImplementedError\u001b[39;00m(\u001b[38;5;124m\"\u001b[39m\u001b[38;5;124mStudent exercise: Plot range of global mean SST anomaly for five-member ensemble\u001b[39m\u001b[38;5;124m\"\u001b[39m)\n\u001b[1;32m      5\u001b[0m \u001b[38;5;66;03m#################################################\u001b[39;00m\n\u001b[1;32m      7\u001b[0m fig, ax \u001b[38;5;241m=\u001b[39m plt\u001b[38;5;241m.\u001b[39msubplots()\n",
      "\u001b[0;31mNotImplementedError\u001b[0m: Student exercise: Plot range of global mean SST anomaly for five-member ensemble"
     ]
    }
   ],
   "source": [
    "#################################################\n",
    "## TODO for students: Plot range of global mean SST anomaly for five-member ensemble##\n",
    "# please remove the following line of code once you have completed the exercise:\n",
    "raise NotImplementedError(\"Student exercise: Plot range of global mean SST anomaly for five-member ensemble\")\n",
    "#################################################\n",
    "\n",
    "fig, ax = plt.subplots()\n",
    "for experiment, color in zip([\"historical\", \"ssp126\", \"ssp585\"], [\"C0\", \"C1\", \"C2\"]):\n",
    "    datasets = []\n",
    "    for model in dt_gm_anomaly.keys():\n",
    "        annual_sst = (\n",
    "            dt_gm_anomaly[model][experiment]\n",
    "            .ds.tos.coarsen(time=12)\n",
    "            .mean()\n",
    "            .assign_coords(source_id=model)\n",
    "        )\n",
    "        datasets.append(\n",
    "            annual_sst.sel(time=slice(None, \"2100\")).load()\n",
    "        )  # the french model has a long running member for ssp126\n",
    "    da = xr.concat(datasets, dim=\"source_id\", join=\"override\").squeeze()\n",
    "    # Uncomment the below and fill in the ellipses\n",
    "    # # Calculate the multi-model mean at each time within each experiment\n",
    "    # da.mean(...).plot(color=color, label=experiment, ax=ax)\n",
    "    # x = da.time.data\n",
    "    # # Calculate the lower bound of the likely range\n",
    "    # da_lower = da.squeeze().quantile(...)\n",
    "    # # Calculate the upper bound of the likely range\n",
    "    # da_upper = da.squeeze().quantile(...)\n",
    "    # ax.fill_between(x, da_lower, da_upper, alpha=0.5, color=color)\n",
    "ax.set_title(\n",
    "    \"Global Mean SST Anomaly from five-member CMIP6 ensemble (base period: 1950 to 1980)\"\n",
    ")\n",
    "ax.set_ylabel(\"Global Mean SST Anomaly [$^\\circ$C]\")\n",
    "ax.set_xlabel(\"Year\")\n",
    "ax.legend()"
   ]
  },
  {
   "cell_type": "code",
   "execution_count": 10,
   "metadata": {
    "execution": {}
   },
   "outputs": [
    {
     "name": "stderr",
     "output_type": "stream",
     "text": [
      "<>:26: SyntaxWarning: invalid escape sequence '\\c'\n",
      "<>:26: SyntaxWarning: invalid escape sequence '\\c'\n",
      "/var/folders/hw/qnv0wm_x4p7bt8y7tw33cxjh0000gn/T/ipykernel_26931/2857119627.py:26: SyntaxWarning: invalid escape sequence '\\c'\n",
      "  ax.set_ylabel(\"Global Mean SST Anomaly [$^\\circ$C]\")\n"
     ]
    },
    {
     "data": {
      "text/plain": [
       "<matplotlib.legend.Legend at 0x12b428d40>"
      ]
     },
     "execution_count": 10,
     "metadata": {},
     "output_type": "execute_result"
    },
    {
     "data": {
      "image/png": "[encoded data removed]",
      "text/plain": [
       "<Figure size 800x600 with 1 Axes>"
      ]
     },
     "metadata": {},
     "output_type": "display_data"
    }
   ],
   "source": [
    "# to_remove solution\n",
    "fig, ax = plt.subplots()\n",
    "for experiment, color in zip([\"historical\", \"ssp126\", \"ssp585\"], [\"C0\", \"C1\", \"C2\"]):\n",
    "    datasets = []\n",
    "    for model in dt_gm_anomaly.keys():\n",
    "        annual_sst = (\n",
    "            dt_gm_anomaly[model][experiment]\n",
    "            .ds.tos.coarsen(time=12)\n",
    "            .mean()\n",
    "            .assign_coords(source_id=model)\n",
    "        )\n",
    "        datasets.append(\n",
    "            annual_sst.sel(time=slice(None, \"2100\")).load()\n",
    "        )  # the french model has a long running member for ssp126\n",
    "    da = xr.concat(datasets, dim=\"source_id\", join=\"override\").squeeze()\n",
    "    da.mean(\"source_id\").plot(color=color, label=experiment, ax=ax)\n",
    "    x = da.time.data\n",
    "    # Calculate the lower bound of the likely range\n",
    "    da_lower = da.squeeze().quantile(0.17, dim=\"source_id\")\n",
    "    # Calculate the upper bound of the likely range\n",
    "    da_upper = da.squeeze().quantile(0.83, dim=\"source_id\")\n",
    "    ax.fill_between(x, da_lower, da_upper, alpha=0.5, color=color)\n",
    "ax.set_title(\n",
    "    \"Global Mean SST Anomaly from five-member CMIP6 ensemble (base period: 1950 to 1980)\"\n",
    ")\n",
    "ax.set_ylabel(\"Global Mean SST Anomaly [$^\\circ$C]\")\n",
    "ax.set_xlabel(\"Year\")\n",
    "ax.legend()"
   ]
  },
  {
   "cell_type": "markdown",
   "metadata": {
    "execution": {}
   },
   "source": [
    "### Questions 2.1: Climate Connection\n",
    "\n",
    "1.   What does this figure tell you about how the multi-model uncertainty compares to projected physical changes in the global mean SST? \n",
    "2.   Is this the same for both scenarios?\n",
    "3.   For a 5-model ensemble like this, how do the *likely* ranges specifically relate to the 5 individual model temperatures at a given time?"
   ]
  },
  {
   "cell_type": "code",
   "execution_count": null,
   "metadata": {
    "execution": {}
   },
   "outputs": [],
   "source": [
    "# to_remove explanation\n",
    "\n",
    "\"\"\"\n",
    "1. Under both of these scenarios (SSP1-2.6 and SSP5-8.5), the projected warming of the climate is greater than the multi-model uncertainty.\n",
    "2. The warming is greater for SSP5-8.5, but so is the multi-model uncertainty, so the relative size of physical changes and multi-model uncertainty is comparable across both scenarios.\n",
    "3. The likely range includes the middle 66% of model results at a given time. For 5 models this means the ranges encompass the middle 3 models (i.e., they exclude the highest and lowest cvalued model at each time).\n",
    "\"\"\";"
   ]
  },
  {
   "cell_type": "markdown",
   "metadata": {
    "execution": {}
   },
   "source": [
    "# Summary\n",
    "In this tutorial, we have quantified the uncertainty of future climate projections by analyzing variability across a multi-model CMIP6 ensemble. We learned to apply the IPCC's confidence levels to establish a *likely* range of projections, which refers to the middle 66% of model results, for multiple emission pathways. "
   ]
  },
  {
   "cell_type": "markdown",
   "metadata": {
    "execution": {}
   },
   "source": [
    "# Resource\n",
    "\n",
    "This tutorial uses data from the simulations conducted as part of the [CMIP6](https://wcrp-cmip.org/) multi-model ensemble. \n",
    "\n",
    "For examples on how to access and analyze data, please visit the [Pangeo Cloud CMIP6 Gallery](https://gallery.pangeo.io/repos/pangeo-gallery/cmip6/index.html) \n",
    "\n",
    "For more information on what CMIP is and how to access the data, please see this [page](https://github.com/ClimateMatchAcademy/course-content/blob/main/tutorials/CMIP/CMIP_resource_bank.md)."
   ]
  }
 ],
 "metadata": {
  "colab": {
   "collapsed_sections": [],
   "include_colab_link": true,
   "machine_shape": "hm",
   "name": "W2D1_Tutorial4",
   "provenance": [
    {
     "file_id": "1WfT8oN22xywtecNriLptqi1SuGUSoIlc",
     "timestamp": 1680298239014
    }
   ],
   "toc_visible": true
  },
  "gpuClass": "standard",
  "kernel": {
   "display_name": "Python 3",
   "language": "python",
   "name": "python3"
  },
  "kernelspec": {
   "display_name": "myenv",
   "language": "python",
   "name": "myenv"
  },
  "language_info": {
   "codemirror_mode": {
    "name": "ipython",
    "version": 3
   },
   "file_extension": ".py",
   "mimetype": "text/x-python",
   "name": "python",
   "nbconvert_exporter": "python",
   "pygments_lexer": "ipython3",
   "version": "3.12.2"
  }
 },
 "nbformat": 4,
 "nbformat_minor": 4
}
