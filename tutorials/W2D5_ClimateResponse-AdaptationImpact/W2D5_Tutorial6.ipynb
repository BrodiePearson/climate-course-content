{
 "cells": [
  {
   "cell_type": "markdown",
   "metadata": {
    "id": "myt07YFyNgmw"
   },
   "source": [
    "# Tutorial 6:  Exploring other applications\n",
    "\n",
    "**Week 2, Day 5: AI and Climate Change**\n",
    "\n",
    "**By Climatematch Academy**\n",
    "\n",
    "__Content creators:__  Deepak Mewada, Grace Lindsay\n",
    "\n",
    "__Content reviewers:__ Jenna Pearson\n",
    "\n",
    "__Content editors:__ Name Surname, Name Surname\n",
    "\n",
    "__Production editors:__ Konstantine Tsafatinos"
   ]
  },
  {
   "cell_type": "markdown",
   "metadata": {
    "id": "kDQc1jnoNWcp"
   },
   "source": [
    "___\n",
    "\n",
    "# Tutorial Objectives\n",
    "\n",
    "*Estimated timing of tutorial: 40 minutes*\n",
    "\n",
    "In this tutorial we will..\n",
    "* Discuss the many ways AI/machine learning can be applied to problems related to climate change\n",
    "* Learn about resources in this domain\n",
    "* Discuss issues when deploying an AI system on real problems\n",
    "\n"
   ]
  },
  {
   "cell_type": "code",
   "execution_count": null,
   "metadata": {
    "cellView": "form",
    "colab": {
     "base_uri": "https://localhost:8080/"
    },
    "id": "wlndBdbV5iJF",
    "outputId": "b1bddeb3-84ab-498b-b85c-9cddfe10dff3"
   },
   "outputs": [],
   "source": [
    "# @title Tutorial slides\n",
    "\n",
    "# @markdown These are the slides for the videos in all tutorials today\n",
    "\n",
    "\n",
    "## Uncomment the code below to test your function\n",
    "\n",
    "#from IPython.display import IFrame\n",
    "#link_id = \"<YOUR_LINK_ID_HERE>\"\n",
    "\n",
    "print(\"If you want to download the slides: 'Link to the slides'\")\n",
    "      # Example: https://osf.io/download/{link_id}/\n",
    "\n",
    "#IFrame(src=f\"https://mfr.ca-1.osf.io/render?url=https://osf.io/download/{link_id}/?direct%26mode=render\", width=854, height=480)"
   ]
  },
  {
   "cell_type": "markdown",
   "metadata": {
    "id": "7SImuV7SZflx"
   },
   "source": [
    "---\n",
    "# **Section 1: Exploring other applications**\n",
    "---\n"
   ]
  },
  {
   "cell_type": "code",
   "execution_count": null,
   "metadata": {
    "cellView": "form",
    "colab": {
     "base_uri": "https://localhost:8080/",
     "height": 511,
     "referenced_widgets": [
      "77ae0e0a4389461d911b7cce90130b35",
      "09800842c9194a909f3623ae03e7e88c",
      "1f8b5969c0b844c4b88af16ed1e1f507",
      "f94d12ea3b634c5a92c06cfbcc0a9c3a",
      "300d1e7509934fa587b44ae719938470",
      "e0c1ccced8d049da8e07167bea4ac743"
     ]
    },
    "id": "gK0sdA3A2jT_",
    "outputId": "d092f9c8-b87b-4498-9e97-be0df3938d34",
    "tags": []
   },
   "outputs": [],
   "source": [
    "# @title Video 1: Exploring Other Applications\n",
    "\n",
    "from ipywidgets import widgets\n",
    "from IPython.display import YouTubeVideo\n",
    "from IPython.display import IFrame\n",
    "from IPython.display import display\n",
    "\n",
    "\n",
    "class PlayVideo(IFrame):\n",
    "  def __init__(self, id, source, page=1, width=400, height=300, **kwargs):\n",
    "    self.id = id\n",
    "    if source == 'Bilibili':\n",
    "      src = f'https://player.bilibili.com/player.html?bvid={id}&page={page}'\n",
    "    elif source == 'Osf':\n",
    "      src = f'https://mfr.ca-1.osf.io/render?url=https://osf.io/download/{id}/?direct%26mode=render'\n",
    "    super(PlayVideo, self).__init__(src, width, height, **kwargs)\n",
    "\n",
    "\n",
    "def display_videos(video_ids, W=400, H=300, fs=1):\n",
    "  tab_contents = []\n",
    "  for i, video_id in enumerate(video_ids):\n",
    "    out = widgets.Output()\n",
    "    with out:\n",
    "      if video_ids[i][0] == 'Youtube':\n",
    "        video = YouTubeVideo(id=video_ids[i][1], width=W,\n",
    "                             height=H, fs=fs, rel=0)\n",
    "        print(f'Video available at https://youtube.com/watch?v={video.id}')\n",
    "      else:\n",
    "        video = PlayVideo(id=video_ids[i][1], source=video_ids[i][0], width=W,\n",
    "                          height=H, fs=fs, autoplay=False)\n",
    "        if video_ids[i][0] == 'Bilibili':\n",
    "          print(f'Video available at https://www.bilibili.com/video/{video.id}')\n",
    "        elif video_ids[i][0] == 'Osf':\n",
    "          print(f'Video available at https://osf.io/{video.id}')\n",
    "      display(video)\n",
    "    tab_contents.append(out)\n",
    "  return tab_contents\n",
    "\n",
    "\n",
    "video_ids = [('Youtube', 'Tn_Juy-qY9E'), ('Bilibili', 'BV1Ku4y1S74L')]\n",
    "tab_contents = display_videos(video_ids, W=730, H=410)\n",
    "tabs = widgets.Tab()\n",
    "tabs.children = tab_contents\n",
    "for i in range(len(tab_contents)):\n",
    "  tabs.set_title(i, video_ids[i][0])\n",
    "display(tabs)"
   ]
  },
  {
   "cell_type": "markdown",
   "metadata": {
    "id": "649a3LzAWEz_"
   },
   "source": [
    "As discussed in the video, the objective of this tutorial is to help you to explore and think critically about different climate-related datasets, frame problems in data science terms, and consider the potential impact of machine learning solutions in the real world. By the end of this tutorial, participants should have a better understanding of how to identify relevant problems and datasets and consider the ethical and practical implications of using machine learning in a given domain.\n"
   ]
  },
  {
   "cell_type": "code",
   "execution_count": null,
   "metadata": {
    "cellView": "form",
    "colab": {
     "base_uri": "https://localhost:8080/",
     "height": 448,
     "referenced_widgets": [
      "437886d1d94b4cfe9e87f7ee4a4986af",
      "0bb30f2f67064a7facba3ab2fae4ae07"
     ]
    },
    "id": "JAhcgUFX2jUB",
    "outputId": "d070957f-f196-4c50-b945-7985ed6fa5aa",
    "pycharm": {
     "name": "#%%\n"
    },
    "tags": [
     "remove-input"
    ]
   },
   "outputs": [],
   "source": [
    "# @markdown\n",
    "from ipywidgets import widgets\n",
    "from IPython.display import IFrame\n",
    "\n",
    "link_id = \"32ptf\"\n",
    "\n",
    "download_link = f\"https://osf.io/download/{link_id}/\"\n",
    "render_link = f\"https://mfr.ca-1.osf.io/render?url=https://osf.io/{link_id}/?direct%26mode=render%26action=download%26mode=render\"\n",
    "# @markdown\n",
    "out = widgets.Output()\n",
    "with out:\n",
    "    print(f\"If you want to download the slides: {download_link}\")\n",
    "    display(IFrame(src=f\"{render_link}\", width=730, height=410))\n",
    "display(out)"
   ]
  },
  {
   "cell_type": "markdown",
   "metadata": {
    "execution": {},
    "id": "3APmOMui2jUB"
   },
   "source": [
    "\n",
    "\n",
    "## Section 1.1:  Finding Other Datasets\n",
    "\n"
   ]
  },
  {
   "cell_type": "markdown",
   "metadata": {
    "execution": {},
    "id": "hZywJJuk2jUC"
   },
   "source": [
    "Now that you know the basics of how machine learning tools can be applied to climate-related data, In this tutorial, you will explore more climate-related datasets and think about how you would approach them using machine learning tools. Specifically, you will look at the [Climate Change AI wiki](https://wiki.climatechange.ai/wiki/Buildings_and_Cities) and identify 2 to 3 papers/datasets/problems that are of interest to you and your pod."
   ]
  },
  {
   "cell_type": "markdown",
   "metadata": {
    "execution": {},
    "id": "gK88ghIE2jUC"
   },
   "source": [
    "## Section 1.2: Considering Impact"
   ]
  },
  {
   "cell_type": "markdown",
   "metadata": {
    "execution": {},
    "id": "9h3yy-Zo2jUC"
   },
   "source": [
    "Machine learning and data science can help solve several technical challenges that will be important for addressing and adapting to climate change. However, the full potential of these approaches won't be realized if they aren't appropriately and fairly integrated with companies, communities, governments, and decision makers.\n",
    "\n",
    "Discuss what needs to happen for machine learning to have an impact on the problems you've identified with your pod. Consider the following questions:\n",
    "\n",
    "- What are the potential hazards that need to be addressed before implementing machine learning systems for climate-related problems?\n",
    "- How can we ensure that these models are appropriately and fairly integrated into decision-making processes at different levels of government and industry?\n",
    "- How can we ensure that the models are accessible to stakeholders and the public?\n",
    "-How can we make sure the models work well under diverse real-world conditions?\n",
    "\n",
    "Work with your pod to brainstorm potential solutions to these challenges and discuss how you would work towards implementing them."
   ]
  },
  {
   "cell_type": "markdown",
   "metadata": {
    "execution": {},
    "id": "QmvwY7RY2jUD"
   },
   "source": [
    "\n",
    "# Summary\n",
    "In this tutorial, we explored the importance of exploring more datasets, framing problems in data science terms, and considering impact. We encourage you to continue exploring datasets and framing problems in data science terms. Remember to consider the ethical implications of using datasets and ensure that the models are appropriately and fairly integrated with stakeholders.\n"
   ]
  },
  {
   "cell_type": "markdown",
   "metadata": {
    "execution": {},
    "id": "ACyLi6jL2jUD"
   },
   "source": [
    "# Resources\n",
    "\n",
    "Climate change AI [wiki](https://wiki.climatechange.ai/wiki/Buildings_and_Cities).\n",
    "\n",
    "If you want to gain more skills in building machine learning models, check out the Neuromatch [Deep Learning Course](https://deeplearning.neuromatch.io/tutorials/intro.html)"
   ]
  },
  {
   "cell_type": "markdown",
   "metadata": {
    "id": "8SpKyVbrKzHe"
   },
   "source": [
    "\n",
    "\n",
    "\n",
    "---\n",
    "\n",
    "\n",
    "                                Congratulations! You have reached the end of the  tutorial.   \n",
    "\n",
    "\n",
    "\n",
    "---\n"
   ]
  }
 ],
 "metadata": {
  "colab": {
   "provenance": []
  },
  "kernelspec": {
   "display_name": "Python 3 (ipykernel)",
   "language": "python",
   "name": "python3"
  },
  "language_info": {
   "codemirror_mode": {
    "name": "ipython",
    "version": 3
   },
   "file_extension": ".py",
   "mimetype": "text/x-python",
   "name": "python",
   "nbconvert_exporter": "python",
   "pygments_lexer": "ipython3",
   "version": "3.9.0"
  },
  "widgets": {
   "application/vnd.jupyter.widget-state+json": {
    "09800842c9194a909f3623ae03e7e88c": {
     "model_module": "@jupyter-widgets/output",
     "model_module_version": "1.0.0",
     "model_name": "OutputModel",
     "state": {
      "_dom_classes": [],
      "_model_module": "@jupyter-widgets/output",
      "_model_module_version": "1.0.0",
      "_model_name": "OutputModel",
      "_view_count": null,
      "_view_module": "@jupyter-widgets/output",
      "_view_module_version": "1.0.0",
      "_view_name": "OutputView",
      "layout": "IPY_MODEL_300d1e7509934fa587b44ae719938470",
      "msg_id": "",
      "outputs": [
       {
        "name": "stdout",
        "output_type": "stream",
        "text": [
         "Video available at https://youtube.com/watch?v=Tn_Juy-qY9E\n"
        ]
       },
       {
        "data": {
         "image/jpeg": "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\n",
         "text/html": "\n        <iframe\n            width=\"730\"\n            height=\"410\"\n            src=\"https://www.youtube.com/embed/Tn_Juy-qY9E?fs=1&rel=0\"\n            frameborder=\"0\"\n            allowfullscreen\n            \n        ></iframe>\n        ",
         "text/plain": "<IPython.lib.display.YouTubeVideo at 0x7a9bdc1ac8e0>"
        },
        "metadata": {},
        "output_type": "display_data"
       }
      ]
     }
    },
    "0bb30f2f67064a7facba3ab2fae4ae07": {
     "model_module": "@jupyter-widgets/base",
     "model_module_version": "1.2.0",
     "model_name": "LayoutModel",
     "state": {
      "_model_module": "@jupyter-widgets/base",
      "_model_module_version": "1.2.0",
      "_model_name": "LayoutModel",
      "_view_count": null,
      "_view_module": "@jupyter-widgets/base",
      "_view_module_version": "1.2.0",
      "_view_name": "LayoutView",
      "align_content": null,
      "align_items": null,
      "align_self": null,
      "border": null,
      "bottom": null,
      "display": null,
      "flex": null,
      "flex_flow": null,
      "grid_area": null,
      "grid_auto_columns": null,
      "grid_auto_flow": null,
      "grid_auto_rows": null,
      "grid_column": null,
      "grid_gap": null,
      "grid_row": null,
      "grid_template_areas": null,
      "grid_template_columns": null,
      "grid_template_rows": null,
      "height": null,
      "justify_content": null,
      "justify_items": null,
      "left": null,
      "margin": null,
      "max_height": null,
      "max_width": null,
      "min_height": null,
      "min_width": null,
      "object_fit": null,
      "object_position": null,
      "order": null,
      "overflow": null,
      "overflow_x": null,
      "overflow_y": null,
      "padding": null,
      "right": null,
      "top": null,
      "visibility": null,
      "width": null
     }
    },
    "1f8b5969c0b844c4b88af16ed1e1f507": {
     "model_module": "@jupyter-widgets/output",
     "model_module_version": "1.0.0",
     "model_name": "OutputModel",
     "state": {
      "_dom_classes": [],
      "_model_module": "@jupyter-widgets/output",
      "_model_module_version": "1.0.0",
      "_model_name": "OutputModel",
      "_view_count": null,
      "_view_module": "@jupyter-widgets/output",
      "_view_module_version": "1.0.0",
      "_view_name": "OutputView",
      "layout": "IPY_MODEL_e0c1ccced8d049da8e07167bea4ac743",
      "msg_id": "",
      "outputs": [
       {
        "name": "stdout",
        "output_type": "stream",
        "text": [
         "Video available at https://www.bilibili.com/video/BV1Ku4y1S74L\n"
        ]
       },
       {
        "data": {
         "text/html": "\n        <iframe\n            width=\"730\"\n            height=\"410\"\n            src=\"https://player.bilibili.com/player.html?bvid=BV1Ku4y1S74L&page=1?fs=1&autoplay=False\"\n            frameborder=\"0\"\n            allowfullscreen\n            \n        ></iframe>\n        ",
         "text/plain": "<__main__.PlayVideo at 0x7a9bd4f86350>"
        },
        "metadata": {},
        "output_type": "display_data"
       }
      ]
     }
    },
    "300d1e7509934fa587b44ae719938470": {
     "model_module": "@jupyter-widgets/base",
     "model_module_version": "1.2.0",
     "model_name": "LayoutModel",
     "state": {
      "_model_module": "@jupyter-widgets/base",
      "_model_module_version": "1.2.0",
      "_model_name": "LayoutModel",
      "_view_count": null,
      "_view_module": "@jupyter-widgets/base",
      "_view_module_version": "1.2.0",
      "_view_name": "LayoutView",
      "align_content": null,
      "align_items": null,
      "align_self": null,
      "border": null,
      "bottom": null,
      "display": null,
      "flex": null,
      "flex_flow": null,
      "grid_area": null,
      "grid_auto_columns": null,
      "grid_auto_flow": null,
      "grid_auto_rows": null,
      "grid_column": null,
      "grid_gap": null,
      "grid_row": null,
      "grid_template_areas": null,
      "grid_template_columns": null,
      "grid_template_rows": null,
      "height": null,
      "justify_content": null,
      "justify_items": null,
      "left": null,
      "margin": null,
      "max_height": null,
      "max_width": null,
      "min_height": null,
      "min_width": null,
      "object_fit": null,
      "object_position": null,
      "order": null,
      "overflow": null,
      "overflow_x": null,
      "overflow_y": null,
      "padding": null,
      "right": null,
      "top": null,
      "visibility": null,
      "width": null
     }
    },
    "437886d1d94b4cfe9e87f7ee4a4986af": {
     "model_module": "@jupyter-widgets/output",
     "model_module_version": "1.0.0",
     "model_name": "OutputModel",
     "state": {
      "_dom_classes": [],
      "_model_module": "@jupyter-widgets/output",
      "_model_module_version": "1.0.0",
      "_model_name": "OutputModel",
      "_view_count": null,
      "_view_module": "@jupyter-widgets/output",
      "_view_module_version": "1.0.0",
      "_view_name": "OutputView",
      "layout": "IPY_MODEL_0bb30f2f67064a7facba3ab2fae4ae07",
      "msg_id": "",
      "outputs": [
       {
        "name": "stdout",
        "output_type": "stream",
        "text": [
         "If you want to download the slides: https://osf.io/download/32ptf/\n"
        ]
       },
       {
        "data": {
         "text/html": "\n        <iframe\n            width=\"730\"\n            height=\"410\"\n            src=\"https://mfr.ca-1.osf.io/render?url=https://osf.io/32ptf/?direct%26mode=render%26action=download%26mode=render\"\n            frameborder=\"0\"\n            allowfullscreen\n            \n        ></iframe>\n        ",
         "text/plain": "<IPython.lib.display.IFrame at 0x7a9bdc1ae260>"
        },
        "metadata": {},
        "output_type": "display_data"
       }
      ]
     }
    },
    "77ae0e0a4389461d911b7cce90130b35": {
     "model_module": "@jupyter-widgets/controls",
     "model_module_version": "1.5.0",
     "model_name": "TabModel",
     "state": {
      "_dom_classes": [],
      "_model_module": "@jupyter-widgets/controls",
      "_model_module_version": "1.5.0",
      "_model_name": "TabModel",
      "_titles": {
       "0": "Youtube",
       "1": "Bilibili"
      },
      "_view_count": null,
      "_view_module": "@jupyter-widgets/controls",
      "_view_module_version": "1.5.0",
      "_view_name": "TabView",
      "box_style": "",
      "children": [
       "IPY_MODEL_09800842c9194a909f3623ae03e7e88c",
       "IPY_MODEL_1f8b5969c0b844c4b88af16ed1e1f507"
      ],
      "layout": "IPY_MODEL_f94d12ea3b634c5a92c06cfbcc0a9c3a",
      "selected_index": 0
     }
    },
    "e0c1ccced8d049da8e07167bea4ac743": {
     "model_module": "@jupyter-widgets/base",
     "model_module_version": "1.2.0",
     "model_name": "LayoutModel",
     "state": {
      "_model_module": "@jupyter-widgets/base",
      "_model_module_version": "1.2.0",
      "_model_name": "LayoutModel",
      "_view_count": null,
      "_view_module": "@jupyter-widgets/base",
      "_view_module_version": "1.2.0",
      "_view_name": "LayoutView",
      "align_content": null,
      "align_items": null,
      "align_self": null,
      "border": null,
      "bottom": null,
      "display": null,
      "flex": null,
      "flex_flow": null,
      "grid_area": null,
      "grid_auto_columns": null,
      "grid_auto_flow": null,
      "grid_auto_rows": null,
      "grid_column": null,
      "grid_gap": null,
      "grid_row": null,
      "grid_template_areas": null,
      "grid_template_columns": null,
      "grid_template_rows": null,
      "height": null,
      "justify_content": null,
      "justify_items": null,
      "left": null,
      "margin": null,
      "max_height": null,
      "max_width": null,
      "min_height": null,
      "min_width": null,
      "object_fit": null,
      "object_position": null,
      "order": null,
      "overflow": null,
      "overflow_x": null,
      "overflow_y": null,
      "padding": null,
      "right": null,
      "top": null,
      "visibility": null,
      "width": null
     }
    },
    "f94d12ea3b634c5a92c06cfbcc0a9c3a": {
     "model_module": "@jupyter-widgets/base",
     "model_module_version": "1.2.0",
     "model_name": "LayoutModel",
     "state": {
      "_model_module": "@jupyter-widgets/base",
      "_model_module_version": "1.2.0",
      "_model_name": "LayoutModel",
      "_view_count": null,
      "_view_module": "@jupyter-widgets/base",
      "_view_module_version": "1.2.0",
      "_view_name": "LayoutView",
      "align_content": null,
      "align_items": null,
      "align_self": null,
      "border": null,
      "bottom": null,
      "display": null,
      "flex": null,
      "flex_flow": null,
      "grid_area": null,
      "grid_auto_columns": null,
      "grid_auto_flow": null,
      "grid_auto_rows": null,
      "grid_column": null,
      "grid_gap": null,
      "grid_row": null,
      "grid_template_areas": null,
      "grid_template_columns": null,
      "grid_template_rows": null,
      "height": null,
      "justify_content": null,
      "justify_items": null,
      "left": null,
      "margin": null,
      "max_height": null,
      "max_width": null,
      "min_height": null,
      "min_width": null,
      "object_fit": null,
      "object_position": null,
      "order": null,
      "overflow": null,
      "overflow_x": null,
      "overflow_y": null,
      "padding": null,
      "right": null,
      "top": null,
      "visibility": null,
      "width": null
     }
    }
   }
  }
 },
 "nbformat": 4,
 "nbformat_minor": 4
}
