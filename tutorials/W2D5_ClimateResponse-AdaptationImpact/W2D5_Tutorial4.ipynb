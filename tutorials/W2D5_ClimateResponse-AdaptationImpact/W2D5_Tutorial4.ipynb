{
 "cells": [
  {
   "cell_type": "markdown",
   "metadata": {
    "id": "myt07YFyNgmw"
   },
   "source": [
    "# Tutorial 4: Testing spatial generalization\n",
    "**Week 2, Day 5: AI and Climate Change**\n",
    "\n",
    "**By Climatematch Academy**\n",
    "\n",
    "__Content creators:__  Deepak Mewada, Grace Lindsay\n",
    "\n",
    "__Content reviewers:__ Jenna Pearson\n",
    "\n",
    "__Content editors:__ Name Surname, Name Surname\n",
    "\n",
    "__Production editors:__ Konstantine Tsafatinos"
   ]
  },
  {
   "cell_type": "markdown",
   "metadata": {
    "id": "kDQc1jnoNWcp"
   },
   "source": [
    "___\n",
    "\n",
    "# Tutorial Objectives\n",
    "\n",
    "*Estimated timing of tutorial: 20 minutes\n",
    "\n",
    "In this tutorial we will:   \n",
    "* Learn the concept of within distribution generalization\n",
    "* Test your model’s ability on a certain type of out-of-distribution data\n",
    "\n",
    "\n",
    "\n"
   ]
  },
  {
   "cell_type": "code",
   "execution_count": null,
   "metadata": {
    "cellView": "form",
    "colab": {
     "base_uri": "https://localhost:8080/"
    },
    "id": "wlndBdbV5iJF",
    "outputId": "46fa6761-3d1e-454a-91c7-38bc56868aae"
   },
   "outputs": [],
   "source": [
    "# @title Tutorial slides\n",
    "\n",
    "# @markdown These are the slides for the videos in all tutorials today\n",
    "\n",
    "\n",
    "## Uncomment the code below to test your function\n",
    "\n",
    "#from IPython.display import IFrame\n",
    "#link_id = \"<YOUR_LINK_ID_HERE>\"\n",
    "\n",
    "print(\"If you want to download the slides: 'Link to the slides'\")\n",
    "      # Example: https://osf.io/download/{link_id}/\n",
    "\n",
    "#IFrame(src=f\"https://mfr.ca-1.osf.io/render?url=https://osf.io/download/{link_id}/?direct%26mode=render\", width=854, height=480)"
   ]
  },
  {
   "cell_type": "markdown",
   "metadata": {
    "execution": {},
    "id": "Vtq0OyoRNPcc"
   },
   "source": [
    "\n",
    "\n",
    "---\n",
    "# **Setup**"
   ]
  },
  {
   "cell_type": "code",
   "execution_count": null,
   "metadata": {
    "id": "Kwsl6-KNNPcc",
    "pycharm": {
     "name": "#%%\n"
    }
   },
   "outputs": [],
   "source": [
    "# @title Import necessary libraries:\n",
    "\n",
    "import matplotlib.pyplot as plt    # For plotting graphs\n",
    "import pandas as pd                 # For data manipulation\n",
    "\n",
    "# # Import specific machine learning models and tools\n",
    "from sklearn.model_selection import train_test_split      # For splitting dataset into train and test sets\n",
    "from sklearn.ensemble import RandomForestRegressor        # For Random Forest Regression\n",
    "from sklearn.tree import DecisionTreeRegressor            # For Decision Tree Regression"
   ]
  },
  {
   "cell_type": "markdown",
   "metadata": {
    "id": "wNqEz5P8j2Q-"
   },
   "source": [
    "<details>\n",
    "<summary> <font color='Red'>Click here if you are running on local machine or you encounter any error while importing   </font></summary>\n",
    "Please note that if you are running this code on a local machine and encounter an error while importing a library, make sure to install the library via pip. For example, if you receive a `ModuleNotFoundError: No module named 'library name` error , please run `pip install 'library name` to install the required module."
   ]
  },
  {
   "cell_type": "code",
   "execution_count": null,
   "metadata": {
    "id": "pRSlfJrugBkf"
   },
   "outputs": [],
   "source": [
    "# @title Helper functions { display-mode: \"form\" }\n",
    "\n",
    "# If any helper functions you want to hide for clarity (that has been seen before\n",
    "# or is simple/uniformative), add here\n",
    "# If helper code depends on libraries that aren't used elsewhere,\n",
    "# import those libaries here, rather than in the main import cell\n",
    "\n",
    "# Load and Prepare the Data\n",
    "url_Climatebench_train_val = \"https://osf.io/y2pq7/download\"  # Dataset URL\n",
    "training_data = pd.read_csv(url_Climatebench_train_val)  # Load the training data from the provided URL\n",
    "training_data.pop('scenario')  # Drop the 'scenario' column as it's just a label and won't be passed into the model\n",
    "target = training_data.pop('tas_FINAL')  # Extract the target variable 'tas_FINAL' which we aim to predict\n",
    "\n",
    "# Split the data into training and testing sets\n",
    "X_train, X_test, y_train, y_test = train_test_split(training_data, target, test_size=0.2, random_state=1)"
   ]
  },
  {
   "cell_type": "code",
   "execution_count": null,
   "metadata": {
    "colab": {
     "base_uri": "https://localhost:8080/"
    },
    "id": "gy1MFnohgBkf",
    "outputId": "2ac5b07d-14f3-4661-99a5-33753041f580"
   },
   "outputs": [],
   "source": [
    "# @title Set random seed { display-mode: \"form\" }\n",
    "\n",
    "# @markdown Executing `set_seed(seed=seed)` you are setting the seed\n",
    "\n",
    "# E.g., for DL its critical to set the random seed so that students can have a\n",
    "# baseline to compare their results to expected results.\n",
    "# Read more here: https://pytorch.org/docs/stable/notes/randomness.html\n",
    "\n",
    "# Call `set_seed` function in the exercises to ensure reproducibility.\n",
    "import random\n",
    "import numpy as np\n",
    "\n",
    "def set_seed(seed=None):\n",
    "  if seed is None:\n",
    "    seed = np.random.choice(2 ** 32)\n",
    "  random.seed(seed)\n",
    "  np.random.seed(seed)\n",
    "  print(f'Random seed {seed} has been set.')\n",
    "\n",
    "\n",
    "set_seed(seed=2024)  # change 2023 with any number you like\n",
    "# Set a global seed value for reproducibility\n",
    "random_state = 42"
   ]
  },
  {
   "cell_type": "code",
   "execution_count": null,
   "metadata": {
    "id": "zBSog43E5Cmr"
   },
   "outputs": [],
   "source": [
    "# @title Plotting functions { run: \"auto\", display-mode: \"form\" }\n",
    "#@markdown Run this cell to define plotting function we will be using in this code\n",
    "\n",
    "def visualize_decision_tree(X_train, y_train, X_test, y_test, dt_model):\n",
    "    # Plot decision tree and regression\n",
    "    plt.figure(figsize=(10, 5))\n",
    "\n",
    "    # Plot Decision Tree\n",
    "    plt.subplot(1, 2, 1)\n",
    "    plt.scatter(X_train, y_train, color='blue', label='Training data')\n",
    "    plt.scatter(X_test, y_test, color='green', label='Test data')\n",
    "    plt.plot(np.sort(X_test, axis=0), dt_model.predict(np.sort(X_test, axis=0)), color='red', label='Model')\n",
    "    plt.title('Decision Tree Regression')\n",
    "    plt.xlabel('Feature')\n",
    "    plt.ylabel('Target')\n",
    "    plt.legend()\n",
    "\n",
    "    # Plot Decision Tree\n",
    "    plt.subplot(1, 2, 2)\n",
    "    plot_tree(dt_model, filled=True)\n",
    "    plt.title(\"Decision Tree\")\n",
    "\n",
    "    plt.tight_layout()\n",
    "    plt.show()\n",
    "\n",
    "def visualize_random_forest(X_train, y_train, X_test, y_test, rf_model):\n",
    "    num_trees = len(rf_model.estimators_)\n",
    "    num_cols = min(3, num_trees)\n",
    "    num_rows = (num_trees + num_cols - 1) // num_cols\n",
    "\n",
    "    plt.figure(figsize=(15, 6 * num_rows))\n",
    "\n",
    "    # Plot Random Forest Regression\n",
    "    plt.subplot(num_rows, num_cols, 1)\n",
    "    plt.scatter(X_train, y_train, color='blue', label='Training data')\n",
    "    plt.scatter(X_test, y_test, color='green', label='Test data')\n",
    "    plt.plot(np.sort(X_test, axis=0), rf_model.predict(np.sort(X_test, axis=0)), color='red', label='Model')\n",
    "    plt.title('Random Forest Regression')\n",
    "    plt.xlabel('Feature')\n",
    "    plt.ylabel('Target')\n",
    "    plt.legend()\n",
    "\n",
    "    # Plot Decision Trees within Random Forest\n",
    "    for i, tree in enumerate(rf_model.estimators_):\n",
    "        plt.subplot(num_rows, num_cols, i + 2)\n",
    "        plot_tree(tree, filled=True)\n",
    "        plt.title(f\"Tree {i+1}\")\n",
    "\n",
    "    plt.tight_layout()\n",
    "    plt.show()\n"
   ]
  },
  {
   "cell_type": "markdown",
   "metadata": {
    "id": "EsQ6bPAMZWmq"
   },
   "source": [
    "---\n",
    "# **Section 1:  Test generalization to held-out spatial locations**\n",
    "---\n",
    "\n"
   ]
  },
  {
   "cell_type": "code",
   "execution_count": null,
   "metadata": {
    "cellView": "form",
    "colab": {
     "base_uri": "https://localhost:8080/",
     "height": 581,
     "referenced_widgets": [
      "29b02150b9a7449c8ece8b5582255586",
      "47e76f6e5c61473db13fa5fedf3ccbd9",
      "9827f6174c754c05836afd5921f9d2b8",
      "d7c32e187fb1463eaefddc658e5df842",
      "e726fa44bc8c4ddcb696a64ff8e3ddc3",
      "30d4dab48f54485d82290cbbde3107b6"
     ]
    },
    "id": "Ty1w5xpQbDuW",
    "outputId": "527e9803-fcbb-4782-982d-e731209f134d"
   },
   "outputs": [],
   "source": [
    "# @title Video 1: Video 1 Name  # put in the title of your video\n",
    "# note the libraries are imported here on purpose\n",
    "\n",
    "###@@@ for konstanine. a question, why isn't this above in the list of cells?\n",
    "\n",
    "from ipywidgets import widgets\n",
    "from IPython.display import YouTubeVideo\n",
    "from IPython.display import IFrame\n",
    "from IPython.display import display\n",
    "\n",
    "\n",
    "class PlayVideo(IFrame):\n",
    "  def __init__(self, id, source, page=1, width=400, height=300, **kwargs):\n",
    "    self.id = id\n",
    "    if source == 'Bilibili':\n",
    "      src = f'https://player.bilibili.com/player.html?bvid={id}&page={page}'\n",
    "    elif source == 'Osf':\n",
    "      src = f'https://mfr.ca-1.osf.io/render?url=https://osf.io/download/{id}/?direct%26mode=render'\n",
    "    super(PlayVideo, self).__init__(src, width, height, **kwargs)\n",
    "\n",
    "\n",
    "def display_videos(video_ids, W=400, H=300, fs=1):\n",
    "  tab_contents = []\n",
    "  for i, video_id in enumerate(video_ids):\n",
    "    out = widgets.Output()\n",
    "    with out:\n",
    "      if video_ids[i][0] == 'Youtube':\n",
    "        video = YouTubeVideo(id=video_ids[i][1], width=W,\n",
    "                             height=H, fs=fs, rel=0)\n",
    "        print(f'Video available at https://youtube.com/watch?v={video.id}')\n",
    "      else:\n",
    "        video = PlayVideo(id=video_ids[i][1], source=video_ids[i][0], width=W,\n",
    "                          height=H, fs=fs, autoplay=False)\n",
    "        if video_ids[i][0] == 'Bilibili':\n",
    "          print(f'Video available at https://www.bilibili.com/video/{video.id}')\n",
    "        elif video_ids[i][0] == 'Osf':\n",
    "          print(f'Video available at https://osf.io/{video.id}')\n",
    "      display(video)\n",
    "    tab_contents.append(out)\n",
    "  return tab_contents\n",
    "\n",
    "# curriculum or production team will provide these ids\n",
    "video_ids = [('Youtube', '<video_id_1>'), ('Bilibili', '<video_id_2>'), ('Osf', '<video_id_3>')]\n",
    "tab_contents = display_videos(video_ids, W=854, H=480)\n",
    "tabs = widgets.Tab()\n",
    "tabs.children = tab_contents\n",
    "for i in range(len(tab_contents)):\n",
    "  tabs.set_title(i, video_ids[i][0])\n",
    "display(tabs)"
   ]
  },
  {
   "cell_type": "markdown",
   "metadata": {
    "id": "o_ievKxmhlwi"
   },
   "source": [
    "In the video we discussed how we previously tested generalization to unseen data points from the same data distribution (i.e., same region and scenarios)  \n",
    "Now we will see if the model generalizes to data from a new region.\n",
    "\n"
   ]
  },
  {
   "cell_type": "markdown",
   "metadata": {
    "id": "AVa1vVA1hzIK"
   },
   "source": [
    "## Section 1.1: Load the New Testing Data\n",
    "\n",
    "We will take our random forest model that was trained on data from the region in the blue box and see if it can work well using lat/lon locations that come from the red box. We already have the data from the blue box region loaded, so now we just need to load the data from the red box.\n",
    "\n",
    "<p align='center'><img src='https://github.com/neuromatch/course-content-template/blob/main/tutorials/static/W2D5_Tutorial4_map.png' alt='W2D5_Tutorial4_map'/></p>"
   ]
  },
  {
   "cell_type": "code",
   "execution_count": null,
   "metadata": {
    "colab": {
     "base_uri": "https://localhost:8080/",
     "height": 617
    },
    "id": "-8Mwrm_DiMq4",
    "outputId": "26ed02f6-8e57-4b6f-8b66-361a09f00b2f"
   },
   "outputs": [],
   "source": [
    "# @title Loading the new Spatial test data\n",
    "\n",
    "url_spatial_test_data = \"https://osf.io/7tr49/download\" # location of test data\n",
    "spatial_test_data = pd.read_csv(url_spatial_test_data)  # Load spatial test data from the provided URL\n",
    "spatial_test_data.pop('scenario')  #we will drop the `scenario` column from the data as it is just a label, but will not be passed into the model.\n",
    "spatial_test_target = spatial_test_data.pop('tas_FINAL')  # Extract the target variable 'tas_FINAL'\n",
    "# Display the prepared spatial test data\n",
    "spatial_test_data\n"
   ]
  },
  {
   "cell_type": "markdown",
   "metadata": {
    "id": "TvI4B3n1SOs-"
   },
   "source": [
    "If we plot the temperature distribution over space, we can see that this dataset has a different range of latitude and longitude values than the initial dataset.  "
   ]
  },
  {
   "cell_type": "code",
   "execution_count": null,
   "metadata": {
    "colab": {
     "base_uri": "https://localhost:8080/",
     "height": 564
    },
    "id": "XPdRZ-a1iYFg",
    "outputId": "58d1bd04-ca37-419c-d7f6-3042ec945abc"
   },
   "outputs": [],
   "source": [
    "# Plot spatial distribution of temperature\n",
    "col_name = 'tas_2015'\n",
    "plt.figure(figsize=(10, 6))\n",
    "plt.scatter(spatial_test_data['lon'], spatial_test_data['lat'], c=spatial_test_data[col_name], cmap='coolwarm', alpha=0.6)\n",
    "plt.colorbar(label='Temperature (T)')\n",
    "plt.title('Spatial Distribution of Temperature (2015)')\n",
    "plt.xlabel('Longitude')\n",
    "plt.ylabel('Latitude')\n",
    "plt.grid(True)\n",
    "plt.show()"
   ]
  },
  {
   "cell_type": "markdown",
   "metadata": {
    "id": "IFlfyE20iABp"
   },
   "source": [
    "## Section 1.2: Evaluate the model"
   ]
  },
  {
   "cell_type": "markdown",
   "metadata": {
    "id": "03XnCGUuiucg"
   },
   "source": [
    "We've been playing around with the random forest model parameters. To make sure we know what model we are evaluating, let's train it again here on the training data specifically with `n_estimators=80` and `max_depth=50`."
   ]
  },
  {
   "cell_type": "code",
   "execution_count": null,
   "metadata": {
    "colab": {
     "base_uri": "https://localhost:8080/"
    },
    "id": "wloDlpZXVoBU",
    "outputId": "04cffb40-c40a-45c6-912f-4e61ab77260e"
   },
   "outputs": [],
   "source": [
    "rf_regressor = RandomForestRegressor(random_state=42,n_estimators=80,max_depth=50)\n",
    "# Train the model on the training data\n",
    "rf_regressor.fit(X_train, y_train)\n",
    "train_score = rf_regressor.score(X_train,y_train)\n",
    "test_score = rf_regressor.score(X_test,y_test)\n",
    "print( \"Training Set Score     : \", train_score)\n",
    "print( \"   Test  Set Score     : \", test_score)"
   ]
  },
  {
   "cell_type": "markdown",
   "metadata": {
    "id": "54WjYVeVVwl8"
   },
   "source": [
    "Now that the model has been trained on data from the blue box region, let's test how well it performs on data from the red box region"
   ]
  },
  {
   "cell_type": "code",
   "execution_count": null,
   "metadata": {
    "colab": {
     "base_uri": "https://localhost:8080/"
    },
    "id": "OpTlrQ1YjLOH",
    "outputId": "53343dd1-8da5-4b98-8994-ca5931c61cc0"
   },
   "outputs": [],
   "source": [
    "spatial_test_score = rf_regressor.score(spatial_test_data,spatial_test_target)\n",
    "print( \"Spatial Test Data Score : \", spatial_test_score)"
   ]
  },
  {
   "cell_type": "markdown",
   "metadata": {
    "id": "8ZoPCpz_Wn7U"
   },
   "source": [
    "Make a scatter plot of the predicted vs true 2050 temperature values for this data, like you did previously."
   ]
  },
  {
   "cell_type": "markdown",
   "metadata": {
    "id": "_qxEjipLnOCq"
   },
   "source": [
    "### Coding Exercise 4.2 : Scatter Plot for Spatial data\n",
    "In this exercise implement `scatter_plot_predicted_vs_true` function to evaluate the performance of a pre-trained Random Forest regressor model on a new emissions scenario and create a scatter plot of predicted vs. true temperature values."
   ]
  },
  {
   "cell_type": "code",
   "execution_count": null,
   "metadata": {
    "id": "pcHg2o3bI4TK"
   },
   "outputs": [],
   "source": [
    "def scatter_plot_predicted_vs_true(spatial_test_data, true_values):\n",
    "    \"\"\"Create a scatter plot of predicted vs true temperature values.\n",
    "\n",
    "    Args:\n",
    "        spatial_test_data: Test features.\n",
    "        true_values (ndarray): True temperature values.\n",
    "\n",
    "    Returns:\n",
    "        None\n",
    "    \"\"\"\n",
    "     #################################################\n",
    "    ## TODO for students: Implement scatter plot of predicted vs true temperature values ##\n",
    "    # Make predictions using the random forest regressor\n",
    "    # Use plt.scatter() to plot the data points\n",
    "    # Use plt.plot() to plot the diagonal line y=x\n",
    "    # Label the x-axis as 'Predicted Temperatures' and y-axis as 'True Temperatures'\n",
    "        # Fill remove the following line of code once you have completed the exercise:\n",
    "    raise NotImplementedError(\"Student exercise: Implement the scatter plot of predicted vs true temperature values.\")\n",
    "    #################################################\n",
    "\n",
    "    # Make predictions using the random forest regressor\n",
    "    #spatial_test_predicted = #TODO\n",
    "\n",
    "    spatial_test_score = rf_regressor.score(spatial_test_data, true_values)\n",
    "    print(\"Spatial Test Data Score:\", spatial_test_score)\n",
    "\n",
    "    # Implement scatter plot of predicted vs true temperature values\n",
    "    #plt.scatter(...., true_values, color='b') #TODO\n",
    "\n",
    "    plt.plot([min(spatial_test_predicted), max(spatial_test_predicted)], [min(true_values), max(true_values)], color='r')\n",
    "    plt.xlabel('Predicted Temperatures')\n",
    "    plt.ylabel('True Temperatures')\n",
    "    plt.show()\n",
    "\n",
    "# Remove the comment to run this code\n",
    "#scatter_plot_predicted_vs_true(spatial_test_data,spatial_test_target)"
   ]
  },
  {
   "cell_type": "code",
   "execution_count": null,
   "metadata": {
    "colab": {
     "base_uri": "https://localhost:8080/",
     "height": 466
    },
    "id": "25nX8enps5x3",
    "outputId": "e6051384-3cd8-4753-a4e3-559b1db84abd"
   },
   "outputs": [],
   "source": [
    "# to_remove solution\n",
    "\n",
    "def scatter_plot_predicted_vs_true(spatial_test_data, true_values):\n",
    "    \"\"\"Create a scatter plot of predicted vs true temperature values.\n",
    "\n",
    "    Args:\n",
    "        spatial_test_data: Test features.\n",
    "        true_values (ndarray): True temperature values.\n",
    "\n",
    "    Returns:\n",
    "        None\n",
    "    \"\"\"\n",
    "    #################################################\n",
    "    ## TODO for students: Implement scatter plot of predicted vs true temperature values ##\n",
    "    # Use plt.scatter() to plot the data points\n",
    "    # Use plt.plot() to plot the diagonal line y=x\n",
    "    # Label the x-axis as 'Predicted Temperatures' and y-axis as 'True Temperatures'\n",
    "    #################################################\n",
    "\n",
    "    # Make predictions using the random forest regressor\n",
    "    spatial_test_predicted = rf_regressor.predict(spatial_test_data)\n",
    "\n",
    "    spatial_test_score = rf_regressor.score(spatial_test_data, true_values)\n",
    "    print(\"Spatial Test Data Score:\", spatial_test_score)\n",
    "\n",
    "    # Implement scatter plot of predicted vs true temperature values\n",
    "    plt.scatter(spatial_test_predicted, true_values, color='b')\n",
    "    plt.plot([min(spatial_test_predicted), max(spatial_test_predicted)], [min(true_values), max(true_values)], color='r')\n",
    "    plt.xlabel('Predicted Temperatures')\n",
    "    plt.ylabel('True Temperatures')\n",
    "    plt.show()\n",
    "\n",
    "# Remove the comment to run this code\n",
    "scatter_plot_predicted_vs_true(spatial_test_data,spatial_test_target)"
   ]
  },
  {
   "cell_type": "markdown",
   "metadata": {
    "id": "o3neFX0hcg8i"
   },
   "source": [
    "### Think! : Performance of the model for new spatial location data\n",
    "\n",
    "1. Have you observed the decrease in score?   \n",
    "2. What do you believe could be the cause of this?   \n",
    "3. What do you think would happen if the model was tested on an even farther away region, for example, in North America?"
   ]
  },
  {
   "cell_type": "code",
   "execution_count": null,
   "metadata": {
    "colab": {
     "base_uri": "https://localhost:8080/",
     "height": 104
    },
    "id": "XUPbNQXuwgsy",
    "outputId": "360bf2c6-31ff-486e-ed22-46c1070b5bd3"
   },
   "outputs": [],
   "source": [
    "#to_remove_explanation\n",
    "\n",
    "\"\"\"\n",
    "1. Yes, there appears to be a decrease in score when the model is tested on new location data.\n",
    "2. The decrease in score could be attributed to the model's inability to generalize well to new locations.\n",
    " It's possible that the model has learned patterns specific to the training data but fails to capture the nuances present in the new location data.\n",
    "3. If the model was tested on an even farther away region, such as North America,\n",
    " we might expect the performance to deteriorate further. This is because the model was trained on data from a different geographical region,\n",
    " and it may struggle to accurately predict temperatures in regions with vastly different climate patterns and environmental factors.\n",
    "\"\"\""
   ]
  },
  {
   "cell_type": "markdown",
   "metadata": {
    "id": "B7VAbXQxYiNP"
   },
   "source": [
    "\n",
    "\n",
    "---\n",
    "\n",
    "\n",
    "# **Summary**\n",
    "\n",
    "\n",
    "\n",
    "In this tutorial, we investigated the generalization capacity of machine learning models to novel geographical regions. The process involved assessing model performance on spatial datasets from diverse locations, shedding light on the model's adaptability across varying environmental contexts.\n",
    "\n",
    "---\n",
    "\n"
   ]
  },
  {
   "cell_type": "markdown",
   "metadata": {
    "id": "8SpKyVbrKzHe"
   },
   "source": [
    "\n",
    "\n",
    "\n",
    "---\n",
    "\n",
    "\n",
    "                                Congratulations! You have reached the end of the  tutorial.   \n",
    "\n",
    "\n",
    "\n",
    "---\n"
   ]
  }
 ],
 "metadata": {
  "colab": {
   "provenance": []
  },
  "kernelspec": {
   "display_name": "Python 3 (ipykernel)",
   "language": "python",
   "name": "python3"
  },
  "language_info": {
   "codemirror_mode": {
    "name": "ipython",
    "version": 3
   },
   "file_extension": ".py",
   "mimetype": "text/x-python",
   "name": "python",
   "nbconvert_exporter": "python",
   "pygments_lexer": "ipython3",
   "version": "3.9.0"
  }
 },
 "nbformat": 4,
 "nbformat_minor": 4
}
